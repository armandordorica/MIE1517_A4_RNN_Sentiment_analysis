{
 "cells": [
  {
   "cell_type": "markdown",
   "metadata": {
    "id": "zIR3Q5l0v1HP"
   },
   "source": [
    "# PART B - Transfer Learning\n",
    "\n",
    "For many natural language processing tasks, it is generally not a good idea to train a very large deep neural network model from scratch due to enormous compute requirements and lack of sufficient amounts of training data. Instead, you should always try to take advantage of an existing model that performs similar tasks as the one you need to solve.\n",
    "\n",
    "In this part of the assignment we will be using pretrained models to improve the performance on identifying positive and negative reviews. There are several pretrained models that are available to us, here we will use a pretrained BERT model that comes with the hugging face transformer library.\n",
    "\n",
    "Provided below is sample code to get you started. For more details please visit the hugging face tutorial on using pretrained models using PyTorch: https://huggingface.co/docs/transformers/training\n",
    "\n",
    "#### Sample Code"
   ]
  },
  {
   "cell_type": "code",
   "execution_count": 4,
   "metadata": {
    "id": "316Xs5WBv0kg"
   },
   "outputs": [
    {
     "name": "stderr",
     "output_type": "stream",
     "text": [
      "/Users/aordorica/miniforge3/envs/pytorch_env/lib/python3.9/site-packages/tqdm/auto.py:21: TqdmWarning: IProgress not found. Please update jupyter and ipywidgets. See https://ipywidgets.readthedocs.io/en/stable/user_install.html\n",
      "  from .autonotebook import tqdm as notebook_tqdm\n"
     ]
    }
   ],
   "source": [
    "# load relevant libraries\n",
    "import transformers\n",
    "import torch\n",
    "from transformers import BertModel, BertTokenizer, AdamW, get_linear_schedule_with_warmup\n",
    "\n",
    "PRE_TRAINED_MODEL_NAME = 'bert-base-cased'\n",
    "\n",
    "tokenizer = BertTokenizer.from_pretrained(PRE_TRAINED_MODEL_NAME)\n",
    "bert_model = BertModel.from_pretrained(PRE_TRAINED_MODEL_NAME)\n"
   ]
  },
  {
   "cell_type": "code",
   "execution_count": 5,
   "metadata": {
    "id": "_20pdf-tYySb"
   },
   "outputs": [
    {
     "name": "stderr",
     "output_type": "stream",
     "text": [
      "/Users/aordorica/miniforge3/envs/pytorch_env/lib/python3.9/site-packages/transformers/tokenization_utils_base.py:2614: FutureWarning: The `pad_to_max_length` argument is deprecated and will be removed in a future version, use `padding=True` or `padding='longest'` to pad to the longest sequence in the batch, or use `padding='max_length'` to pad to a max length. In this case, you can give a specific length with `max_length` (e.g. `max_length=45`) or leave max_length to None to pad to the maximal input size of the model (e.g. 512 for Bert).\n",
      "  warnings.warn(\n"
     ]
    }
   ],
   "source": [
    "sample_txt = 'I want to learn how to do sentiment analysis using BERT and tokenizer.'\n",
    "\n",
    "encoding = tokenizer.encode_plus(\n",
    "  sample_txt,\n",
    "  max_length=32,\n",
    "  add_special_tokens=True, # Add '[CLS]' and '[SEP]'\n",
    "  return_token_type_ids=False,\n",
    "  pad_to_max_length=True,\n",
    "  return_attention_mask=True,\n",
    "  return_tensors='pt',  # Return PyTorch tensors\n",
    "  truncation = True\n",
    ")"
   ]
  },
  {
   "cell_type": "code",
   "execution_count": 6,
   "metadata": {
    "id": "O1B4RiOOcbGY"
   },
   "outputs": [
    {
     "data": {
      "text/plain": [
       "tensor([[  101,   146,  1328,  1106,  3858,  1293,  1106,  1202, 17024,  3622,\n",
       "          1606,   139,  9637,  1942,  1105, 22559, 17260,   119,   102,     0,\n",
       "             0,     0,     0,     0,     0,     0,     0,     0,     0,     0,\n",
       "             0,     0]])"
      ]
     },
     "execution_count": 6,
     "metadata": {},
     "output_type": "execute_result"
    }
   ],
   "source": [
    "encoding['input_ids']"
   ]
  },
  {
   "cell_type": "code",
   "execution_count": 7,
   "metadata": {
    "id": "7sZ1j9PfceFF"
   },
   "outputs": [
    {
     "data": {
      "text/plain": [
       "tensor([[1, 1, 1, 1, 1, 1, 1, 1, 1, 1, 1, 1, 1, 1, 1, 1, 1, 1, 1, 0, 0, 0, 0, 0,\n",
       "         0, 0, 0, 0, 0, 0, 0, 0]])"
      ]
     },
     "execution_count": 7,
     "metadata": {},
     "output_type": "execute_result"
    }
   ],
   "source": [
    "encoding['attention_mask']"
   ]
  },
  {
   "cell_type": "code",
   "execution_count": 8,
   "metadata": {
    "id": "dZ458Q_uYzxu"
   },
   "outputs": [],
   "source": [
    "hidden_states = bert_model(input_ids=encoding['input_ids'],\n",
    "                           attention_mask=encoding['attention_mask'])[0]\n",
    "pooled_output = bert_model(input_ids=encoding['input_ids'],\n",
    "                           attention_mask=encoding['attention_mask'])[1]"
   ]
  },
  {
   "cell_type": "code",
   "execution_count": 9,
   "metadata": {
    "id": "GqwUAEIzZNBO"
   },
   "outputs": [
    {
     "name": "stdout",
     "output_type": "stream",
     "text": [
      "768\n",
      "torch.Size([1, 32, 768])\n",
      "torch.Size([1, 768])\n"
     ]
    }
   ],
   "source": [
    "hidden_size = bert_model.config.hidden_size\n",
    "\n",
    "print(hidden_size)\n",
    "print(hidden_states.shape)\n",
    "print(pooled_output.shape)\n"
   ]
  },
  {
   "cell_type": "markdown",
   "metadata": {
    "id": "7HCaqLDaZo2l"
   },
   "source": [
    "In the sample code provided we loaded a short text sequence, tokenized it using the same tokenization that was used in the pretrained BERT model, and fed the tokenized input into the BERT model to obtain the embeddings.\n",
    "\n",
    "The model output consists of two forms of embeddings:\n",
    "- **hidden_states** are the final layer of outputs that has a shape sequence_length x embeddings, much like the hidden states of a recurrent neural network\n",
    "- **pooled_output** is the result of applying max pooling on the hidden states to effectively collapse the sequence dimenension and ensure the same output size for any given sequence before feeding into the classification stage\n",
    "\n",
    "Note that you can preprocess all of the data prior to training a classifier stage for sentiment analysis to help speed up the training process. This is no different from the process we applied in an earlier assignment using AlexNet and image data."
   ]
  },
  {
   "cell_type": "markdown",
   "metadata": {
    "id": "4le9bqnuc2JZ"
   },
   "source": [
    "## Part 1. Data Loading [5 pt]\n",
    "\n",
    "We will be using the same \"IMDB Movie Review Dataset\" that we used earlier. Reload the data and complete Part B of the assignment. You should be able to complete part B independently from Part A.\n",
    "\n",
    "### Part (i) [1pt EXPLORATORY] - create train/test/val dataloaders\n",
    "\n",
    "Provided below is a DataLoader for your training and test datasets so you can iterate over batches of data. Run the DataLoader to create your training, validation, and test data."
   ]
  },
  {
   "cell_type": "code",
   "execution_count": 11,
   "metadata": {},
   "outputs": [
    {
     "data": {
      "text/html": [
       "<div>\n",
       "<style scoped>\n",
       "    .dataframe tbody tr th:only-of-type {\n",
       "        vertical-align: middle;\n",
       "    }\n",
       "\n",
       "    .dataframe tbody tr th {\n",
       "        vertical-align: top;\n",
       "    }\n",
       "\n",
       "    .dataframe thead th {\n",
       "        text-align: right;\n",
       "    }\n",
       "</style>\n",
       "<table border=\"1\" class=\"dataframe\">\n",
       "  <thead>\n",
       "    <tr style=\"text-align: right;\">\n",
       "      <th></th>\n",
       "      <th>review</th>\n",
       "      <th>sentiment</th>\n",
       "      <th>random_number</th>\n",
       "    </tr>\n",
       "  </thead>\n",
       "  <tbody>\n",
       "    <tr>\n",
       "      <th>0</th>\n",
       "      <td>One of the other reviewers has mentioned that ...</td>\n",
       "      <td>positive</td>\n",
       "      <td>0.106966</td>\n",
       "    </tr>\n",
       "    <tr>\n",
       "      <th>1</th>\n",
       "      <td>A wonderful little production. &lt;br /&gt;&lt;br /&gt;The...</td>\n",
       "      <td>positive</td>\n",
       "      <td>0.201972</td>\n",
       "    </tr>\n",
       "    <tr>\n",
       "      <th>2</th>\n",
       "      <td>I thought this was a wonderful way to spend ti...</td>\n",
       "      <td>positive</td>\n",
       "      <td>0.548553</td>\n",
       "    </tr>\n",
       "    <tr>\n",
       "      <th>3</th>\n",
       "      <td>Basically there's a family where a little boy ...</td>\n",
       "      <td>negative</td>\n",
       "      <td>0.212986</td>\n",
       "    </tr>\n",
       "    <tr>\n",
       "      <th>4</th>\n",
       "      <td>Petter Mattei's \"Love in the Time of Money\" is...</td>\n",
       "      <td>positive</td>\n",
       "      <td>0.582670</td>\n",
       "    </tr>\n",
       "  </tbody>\n",
       "</table>\n",
       "</div>"
      ],
      "text/plain": [
       "                                              review sentiment  random_number\n",
       "0  One of the other reviewers has mentioned that ...  positive       0.106966\n",
       "1  A wonderful little production. <br /><br />The...  positive       0.201972\n",
       "2  I thought this was a wonderful way to spend ti...  positive       0.548553\n",
       "3  Basically there's a family where a little boy ...  negative       0.212986\n",
       "4  Petter Mattei's \"Love in the Time of Money\" is...  positive       0.582670"
      ]
     },
     "execution_count": 11,
     "metadata": {},
     "output_type": "execute_result"
    }
   ],
   "source": [
    "from datasets import ReviewDataset, MovieReviewDatasetB\n",
    "from torch.utils.data import Dataset, DataLoader\n",
    "import pandas as pd\n",
    "import numpy as np\n",
    "\n",
    "# download IMDB review data\n",
    "\n",
    "# load dataset\n",
    "df = pd.read_csv(\"IMDB Dataset.csv\")\n",
    "\n",
    "# process into data and labels\n",
    "X = df['review'].values\n",
    "y = df['sentiment'].values\n",
    "\n",
    "# Assigning a random number between 0 and 1 to each row in the DataFrame\n",
    "df['random_number'] = np.random.rand(df.shape[0])\n",
    "df.head()"
   ]
  },
  {
   "cell_type": "code",
   "execution_count": 12,
   "metadata": {},
   "outputs": [],
   "source": [
    "# Splitting the dataset based on the random number for a 60-20-20 split\n",
    "train_df = df[df['random_number'] <= 0.6]\n",
    "val_df = df[(df['random_number'] > 0.6) & (df['random_number'] <= 0.8)]\n",
    "test_df = df[df['random_number'] > 0.8]\n",
    "\n",
    "# You can now drop the 'random_number' column if it's no longer needed\n",
    "train_df = train_df.drop('random_number', axis=1)\n",
    "val_df = val_df.drop('random_number', axis=1)\n",
    "test_df = test_df.drop('random_number', axis=1)\n",
    "\n",
    "# The datasets are now split into train (60%), validation (20%), and test (20%) sets\n",
    "# train_df, val_df, test_df"
   ]
  },
  {
   "cell_type": "code",
   "execution_count": 13,
   "metadata": {},
   "outputs": [],
   "source": [
    "\n",
    "\n",
    "# Prepare data loaders\n",
    "MAX_LEN = 400\n",
    "BATCH_SIZE = 16\n",
    "\n",
    "train_data = MovieReviewDatasetB(reviews=train_df['review'].to_numpy(),\n",
    "                              targets=train_df['sentiment'].to_numpy(),\n",
    "                              tokenizer=tokenizer,\n",
    "                              max_len=MAX_LEN)\n",
    "\n",
    "train_data_loader = DataLoader(train_data, batch_size=BATCH_SIZE, num_workers=0)  # modify num_workers as needed\n",
    "\n",
    "\n",
    "val_data = MovieReviewDatasetB(reviews=val_df['review'].to_numpy(),\n",
    "                              targets=val_df['sentiment'].to_numpy(),\n",
    "                              tokenizer=tokenizer,\n",
    "                              max_len=MAX_LEN)\n",
    "\n",
    "val_data_loader = DataLoader(val_data, batch_size=BATCH_SIZE, num_workers=0)  # modify num_workers as needed\n",
    "\n",
    "# Test data\n",
    "test_data = MovieReviewDatasetB(reviews=test_df['review'].to_numpy(),\n",
    "                               targets=test_df['sentiment'].to_numpy(),\n",
    "                               tokenizer=tokenizer,\n",
    "                               max_len=MAX_LEN)\n",
    "\n",
    "test_data_loader = DataLoader(test_data, batch_size=BATCH_SIZE, num_workers=0)  # modify num_workers as needed\n"
   ]
  },
  {
   "cell_type": "markdown",
   "metadata": {
    "id": "g0ymyMvzfdVv"
   },
   "source": [
    "### Part (ii) [1pt EXPLORATORY] - load one sample with `train_data_loader`\n",
    "\n",
    "Use the **train_data_loader** to load one sample. What are the different attributes provided with the sample and how are they used?"
   ]
  },
  {
   "cell_type": "code",
   "execution_count": 14,
   "metadata": {
    "id": "UgdwGNtik1ZR"
   },
   "outputs": [
    {
     "name": "stdout",
     "output_type": "stream",
     "text": [
      "Reviews: [\"One of the other reviewers has mentioned that after watching just 1 Oz episode you'll be hooked. They are right, as this is exactly what happened with me.<br /><br />The first thing that struck me about Oz was its brutality and unflinching scenes of violence, which set in right from the word GO. Trust me, this is not a show for the faint hearted or timid. This show pulls no punches with regards to drugs, sex or violence. Its is hardcore, in the classic use of the word.<br /><br />It is called OZ as that is the nickname given to the Oswald Maximum Security State Penitentary. It focuses mainly on Emerald City, an experimental section of the prison where all the cells have glass fronts and face inwards, so privacy is not high on the agenda. Em City is home to many..Aryans, Muslims, gangstas, Latinos, Christians, Italians, Irish and more....so scuffles, death stares, dodgy dealings and shady agreements are never far away.<br /><br />I would say the main appeal of the show is due to the fact that it goes where other shows wouldn't dare. Forget pretty pictures painted for mainstream audiences, forget charm, forget romance...OZ doesn't mess around. The first episode I ever saw struck me as so nasty it was surreal, I couldn't say I was ready for it, but as I watched more, I developed a taste for Oz, and got accustomed to the high levels of graphic violence. Not just violence, but injustice (crooked guards who'll be sold out for a nickel, inmates who'll kill on order and get away with it, well mannered, middle class inmates being turned into prison bitches due to their lack of street skills or prison experience) Watching Oz, you may become comfortable with what is uncomfortable viewing....thats if you can get in touch with your darker side.\", 'A wonderful little production. <br /><br />The filming technique is very unassuming- very old-time-BBC fashion and gives a comforting, and sometimes discomforting, sense of realism to the entire piece. <br /><br />The actors are extremely well chosen- Michael Sheen not only \"has got all the polari\" but he has all the voices down pat too! You can truly see the seamless editing guided by the references to Williams\\' diary entries, not only is it well worth the watching but it is a terrificly written and performed piece. A masterful production about one of the great master\\'s of comedy and his life. <br /><br />The realism really comes home with the little things: the fantasy of the guard which, rather than use the traditional \\'dream\\' techniques remains solid then disappears. It plays on our knowledge and our senses, particularly with the scenes concerning Orton and Halliwell and the sets (particularly of their flat with Halliwell\\'s murals decorating every surface) are terribly well done.', 'I thought this was a wonderful way to spend time on a too hot summer weekend, sitting in the air conditioned theater and watching a light-hearted comedy. The plot is simplistic, but the dialogue is witty and the characters are likable (even the well bread suspected serial killer). While some may be disappointed when they realize this is not Match Point 2: Risk Addiction, I thought it was proof that Woody Allen is still fully in control of the style many of us have grown to love.<br /><br />This was the most I\\'d laughed at one of Woody\\'s comedies in years (dare I say a decade?). While I\\'ve never been impressed with Scarlet Johanson, in this she managed to tone down her \"sexy\" image and jumped right into a average, but spirited young woman.<br /><br />This may not be the crown jewel of his career, but it was wittier than \"Devil Wears Prada\" and more interesting than \"Superman\" a great comedy to go see with friends.', \"Basically there's a family where a little boy (Jake) thinks there's a zombie in his closet & his parents are fighting all the time.<br /><br />This movie is slower than a soap opera... and suddenly, Jake decides to become Rambo and kill the zombie.<br /><br />OK, first of all when you're going to make a film you must Decide if its a thriller or a drama! As a drama the movie is watchable. Parents are divorcing & arguing like in real life. And then we have Jake with his closet which totally ruins all the film! I expected to see a BOOGEYMAN similar movie, and instead i watched a drama with some meaningless thriller spots.<br /><br />3 out of 10 just for the well playing parents & descent dialogs. As for the shots with Jake: just ignore them.\", 'Petter Mattei\\'s \"Love in the Time of Money\" is a visually stunning film to watch. Mr. Mattei offers us a vivid portrait about human relations. This is a movie that seems to be telling us what money, power and success do to people in the different situations we encounter. <br /><br />This being a variation on the Arthur Schnitzler\\'s play about the same theme, the director transfers the action to the present time New York where all these different characters meet and connect. Each one is connected in one way, or another to the next person, but no one seems to know the previous point of contact. Stylishly, the film has a sophisticated luxurious look. We are taken to see how these people live and the world they live in their own habitat.<br /><br />The only thing one gets out of all these souls in the picture is the different stages of loneliness each one inhabits. A big city is not exactly the best place in which human relations find sincere fulfillment, as one discerns is the case with most of the people we encounter.<br /><br />The acting is good under Mr. Mattei\\'s direction. Steve Buscemi, Rosario Dawson, Carol Kane, Michael Imperioli, Adrian Grenier, and the rest of the talented cast, make these characters come alive.<br /><br />We wish Mr. Mattei good luck and await anxiously for his next work.', \"I sure would like to see a resurrection of a up dated Seahunt series with the tech they have today it would bring back the kid excitement in me.I grew up on black and white TV and Seahunt with Gunsmoke were my hero's every week.You have my vote for a comeback of a new sea hunt.We need a change of pace in TV and this would work for a world of under water adventure.Oh by the way thank you for an outlet like this to view many viewpoints about TV and the many movies.So any ole way I believe I've got what I wanna say.Would be nice to read some more plus points about sea hunt.If my rhymes would be 10 lines would you let me submit,or leave me out to be in doubt and have me to quit,If this is so then I must go so lets do it.\", \"This show was an amazing, fresh & innovative idea in the 70's when it first aired. The first 7 or 8 years were brilliant, but things dropped off after that. By 1990, the show was not really funny anymore, and it's continued its decline further to the complete waste of time it is today.<br /><br />It's truly disgraceful how far this show has fallen. The writing is painfully bad, the performances are almost as bad - if not for the mildly entertaining respite of the guest-hosts, this show probably wouldn't still be on the air. I find it so hard to believe that the same creator that hand-selected the original cast also chose the band of hacks that followed. How can one recognize such brilliance and then see fit to replace it with such mediocrity? I felt I must give 2 stars out of respect for the original cast that made this show such a huge success. As it is now, the show is just awful. I can't believe it's still on the air.\", \"Encouraged by the positive comments about this film on here I was looking forward to watching this film. Bad mistake. I've seen 950+ films and this is truly one of the worst of them - it's awful in almost every way: editing, pacing, storyline, 'acting,' soundtrack (the film's only song - a lame country tune - is played no less than four times). The film looks cheap and nasty and is boring in the extreme. Rarely have I been so happy to see the end credits of a film. <br /><br />The only thing that prevents me giving this a 1-score is Harvey Keitel - while this is far from his best performance he at least seems to be making a bit of an effort. One for Keitel obsessives only.\", 'If you like original gut wrenching laughter you will like this movie. If you are young or old then you will love this movie, hell even my mom liked it.<br /><br />Great Camp!!!', \"I saw this movie when I was about 12 when it came out. I recall the scariest scene was the big bird eating men dangling helplessly from parachutes right out of the air. The horror. The horror.<br /><br />As a young kid going to these cheesy B films on Saturday afternoons, I still was tired of the formula for these monster type movies that usually included the hero, a beautiful woman who might be the daughter of a professor and a happy resolution when the monster died in the end. I didn't care much for the romantic angle as a 12 year old and the predictable plots. I love them now for the unintentional humor.<br /><br />But, about a year or so later, I saw Psycho when it came out and I loved that the star, Janet Leigh, was bumped off early in the film. I sat up and took notice at that point. Since screenwriters are making up the story, make it up to be as scary as possible and not from a well-worn formula. There are no rules.\", \"The cast played Shakespeare.<br /><br />Shakespeare lost.<br /><br />I appreciate that this is trying to bring Shakespeare to the masses, but why ruin something so good.<br /><br />Is it because 'The Scottish Play' is my favorite Shakespeare? I do not know. What I do know is that a certain Rev Bowdler (hence bowdlerization) tried to do something similar in the Victorian era.<br /><br />In other words, you cannot improve perfection.<br /><br />I have no more to write but as I have to write at least ten lines of text (and English composition was never my forte I will just have to keep going and say that this movie, as the saying goes, just does not cut it.\", \"This movie made it into one of my top 10 most awful movies. Horrible. <br /><br />There wasn't a continuous minute where there wasn't a fight with one monster or another. There was no chance for any character development, they were too busy running from one sword fight to another. I had no emotional attachment (except to the big bad machine that wanted to destroy them) <br /><br />Scenes were blatantly stolen from other movies, LOTR, Star Wars and Matrix. <br /><br />Examples<br /><br />>The ghost scene at the end was stolen from the final scene of the old Star Wars with Yoda, Obee One and Vader. <br /><br />>The spider machine in the beginning was exactly like Frodo being attacked by the spider in Return of the Kings. (Elijah Wood is the victim in both films) and wait......it hypnotizes (stings) its victim and wraps them up.....uh hello????<br /><br />>And the whole machine vs. humans theme WAS the Matrix..or Terminator.....<br /><br />There are more examples but why waste the time? And will someone tell me what was with the Nazi's?!?! Nazi's???? <br /><br />There was a juvenile story line rushed to a juvenile conclusion. The movie could not decide if it was a children's movie or an adult movie and wasn't much of either. <br /><br />Just awful. A real disappointment to say the least. Save your money.\", 'I remember this film,it was the first film i had watched at the cinema the picture was dark in places i was very nervous it was back in 74/75 my Dad took me my brother & sister to Newbury cinema in Newbury Berkshire England. I recall the tigers and the lots of snow in the film also the appearance of Grizzly Adams actor Dan Haggery i think one of the tigers gets shot and dies. If anyone knows where to find this on DVD etc please let me know.The cinema now has been turned in a fitness club which is a very big shame as the nearest cinema now is 20 miles away, would love to hear from others who have seen this film or any other like it.', \"An awful film! It must have been up against some real stinkers to be nominated for the Golden Globe. They've taken the story of the first famous female Renaissance painter and mangled it beyond recognition. My complaint is not that they've taken liberties with the facts; if the story were good, that would perfectly fine. But it's simply bizarre -- by all accounts the true story of this artist would have made for a far better film, so why did they come up with this dishwater-dull script? I suppose there weren't enough naked people in the factual version. It's hurriedly capped off in the end with a summary of the artist's life -- we could have saved ourselves a couple of hours if they'd favored the rest of the film with same brevity.\", \"After the success of Die Hard and it's sequels it's no surprise really that in the 1990s, a glut of 'Die Hard on a .....' movies cashed in on the wrong guy, wrong place, wrong time concept. That is what they did with Cliffhanger, Die Hard on a mountain just in time to rescue Sly 'Stop or My Mom Will Shoot' Stallone's career.<br /><br />Cliffhanger is one big nit-pickers dream, especially to those who are expert at mountain climbing, base-jumping, aviation, facial expressions, acting skills. All in all it's full of excuses to dismiss the film as one overblown pile of junk. Stallone even managed to get out-acted by a horse! However, if you an forget all the nonsense, it's actually a very lovable and undeniably entertaining romp that delivers as plenty of thrills, and unintentionally, plenty of laughs.<br /><br />You've got to love John Lithgows sneery evilness, his tick every box band of baddies, and best of all, the permanently harassed and hapless 'turncoat' agent, Rex Linn as Travers.<br /><br />He may of been Henry in 'Portrait of a Serial Killer' but Michael Rooker is noteworthy for a cringe-worthy performance as Hal, he insists on constantly shrieking in painful disbelief at his captors 'that man never hurt anybody' And whilst he surely can't be, it really does look like Ralph Waite's Frank character is grinning as the girl plummets to her death.<br /><br />Mention too must go to former 'London's Burning' actor Craig Fairbrass as the Brit bad guy, who comes a cropper whilst using Hal as a Human Football, yes, you can't help enjoy that bit, Hal needed a good kicking.<br /><br />So forget your better judgement, who cares if 'that could never happen', lower your acting expectations, turn up the volume and enjoy! And if you're looking for Qaulen, he's the one wearing the helicopter.\", 'I had the terrible misfortune of having to view this \"b-movie\" in it\\'s entirety.<br /><br />All I have to say is--- save your time and money!!! This has got to be the worst b-movie of all time, it shouldn\\'t even be called a b-movie, more like an f-movie! Because it fails in all aspects that make a good movie: the story is not interesting at all, all of the actors are paper-thin and not at all believable, it has bad direction and the action sequences are so fake it\\'s almost funny.......almost.<br /><br />The movie is just packed full of crappy one-liners that no respectable person could find amusing in the least little bit.<br /><br />This movie is supposed to be geared towards men, but all the women in it are SO utterly unattractive, especially that old wrinkled thing that comes in towards the end. They try to appear sexy in those weird, horrible costumes and they fail miserably!!!<br /><br />Even some of the most ridiculous b-movies will still give you some laughs, but this is just too painful to watch!!']\n",
      "Input IDs: tensor([[ 101, 1448, 1104,  ..., 1561, 6062,  102],\n",
      "        [ 101,  138, 7310,  ...,    0,    0,    0],\n",
      "        [ 101,  146, 1354,  ...,    0,    0,    0],\n",
      "        ...,\n",
      "        [ 101, 1760, 9684,  ...,    0,    0,    0],\n",
      "        [ 101, 1258, 1103,  ..., 6766, 3954,  102],\n",
      "        [ 101,  146, 1125,  ...,    0,    0,    0]])\n",
      "Attention Masks: tensor([[1, 1, 1,  ..., 1, 1, 1],\n",
      "        [1, 1, 1,  ..., 0, 0, 0],\n",
      "        [1, 1, 1,  ..., 0, 0, 0],\n",
      "        ...,\n",
      "        [1, 1, 1,  ..., 0, 0, 0],\n",
      "        [1, 1, 1,  ..., 1, 1, 1],\n",
      "        [1, 1, 1,  ..., 0, 0, 0]])\n",
      "Targets: tensor([1, 1, 1, 0, 1, 1, 0, 0, 1, 0, 0, 0, 1, 0, 1, 0])\n"
     ]
    }
   ],
   "source": [
    "# Load a single batch from the DataLoader\n",
    "for batch in train_data_loader:\n",
    "    # We'll just look at the first batch and then break out of the loop\n",
    "    break\n",
    "\n",
    "# The reviews in text form\n",
    "reviews = batch['review_text']\n",
    "print(\"Reviews:\", reviews)\n",
    "\n",
    "# The input IDs from the tokenizer\n",
    "input_ids = batch['input_ids']\n",
    "print(\"Input IDs:\", input_ids)\n",
    "\n",
    "# The attention masks from the tokenizer\n",
    "attention_masks = batch['attention_mask']\n",
    "print(\"Attention Masks:\", attention_masks)\n",
    "\n",
    "# The target labels (sentiments)\n",
    "targets = batch['targets']\n",
    "print(\"Targets:\", targets)\n"
   ]
  },
  {
   "cell_type": "markdown",
   "metadata": {
    "id": "GXQt2HiGfh4p"
   },
   "source": [
    "### Part (iii) [1pt EXPLORATORY]\n",
    "\n",
    "Determine the range of values for the tokens in the training data. How are the tokens obtained?\n",
    "\n",
    "Hint: You can apply your intuition here, or do some additional research to find how the \"bert-base-cased\" tokenization is done."
   ]
  },
  {
   "cell_type": "code",
   "execution_count": 15,
   "metadata": {
    "id": "6cVEH5YhkYUQ"
   },
   "outputs": [
    {
     "name": "stdout",
     "output_type": "stream",
     "text": [
      "Processing batch 0/1877 in find_token_range\n",
      "Processing batch 100/1877 in find_token_range\n",
      "Processing batch 200/1877 in find_token_range\n",
      "Processing batch 300/1877 in find_token_range\n",
      "Processing batch 400/1877 in find_token_range\n",
      "Processing batch 500/1877 in find_token_range\n",
      "Processing batch 600/1877 in find_token_range\n",
      "Processing batch 700/1877 in find_token_range\n",
      "Processing batch 800/1877 in find_token_range\n",
      "Processing batch 900/1877 in find_token_range\n",
      "Processing batch 1000/1877 in find_token_range\n",
      "Processing batch 1100/1877 in find_token_range\n",
      "Processing batch 1200/1877 in find_token_range\n",
      "Processing batch 1300/1877 in find_token_range\n",
      "Processing batch 1400/1877 in find_token_range\n",
      "Processing batch 1500/1877 in find_token_range\n",
      "Processing batch 1600/1877 in find_token_range\n",
      "Processing batch 1700/1877 in find_token_range\n",
      "Processing batch 1800/1877 in find_token_range\n",
      "Minimum token value: 0\n",
      "Maximum token value: 28209\n"
     ]
    }
   ],
   "source": [
    "import data_utils\n",
    "\n",
    "# Assuming your train_data_loader is already defined\n",
    "min_token_value, max_token_value = data_utils.find_token_range(train_data_loader)\n",
    "\n",
    "print(f\"Minimum token value: {min_token_value}\")\n",
    "print(f\"Maximum token value: {max_token_value}\")\n"
   ]
  },
  {
   "cell_type": "code",
   "execution_count": 16,
   "metadata": {},
   "outputs": [
    {
     "name": "stdout",
     "output_type": "stream",
     "text": [
      "Tokenizer vocabulary size: 28996\n"
     ]
    }
   ],
   "source": [
    "print(\"Tokenizer vocabulary size:\", len(tokenizer.vocab))"
   ]
  },
  {
   "cell_type": "code",
   "execution_count": 17,
   "metadata": {},
   "outputs": [
    {
     "name": "stdout",
     "output_type": "stream",
     "text": [
      "4.36.0.dev0\n"
     ]
    }
   ],
   "source": [
    "print(transformers.__version__)"
   ]
  },
  {
   "cell_type": "code",
   "execution_count": 18,
   "metadata": {},
   "outputs": [
    {
     "name": "stderr",
     "output_type": "stream",
     "text": [
      "Downloading tokenizer_config.json: 100%|███████████████████████| 29.0/29.0 [00:00<00:00, 17.5kB/s]\n",
      "Downloading vocab.txt: 100%|███████████████████████████████████| 213k/213k [00:00<00:00, 5.45MB/s]\n",
      "Downloading tokenizer_config.json: 100%|███████████████████████| 29.0/29.0 [00:00<00:00, 36.9kB/s]\n",
      "Downloading tokenizer.json: 100%|██████████████████████████████| 436k/436k [00:00<00:00, 23.2MB/s]"
     ]
    },
    {
     "name": "stdout",
     "output_type": "stream",
     "text": [
      "Tokenizer vocabulary size after re-downloading: 28996\n"
     ]
    },
    {
     "name": "stderr",
     "output_type": "stream",
     "text": [
      "\n"
     ]
    }
   ],
   "source": [
    "tokenizer = BertTokenizer.from_pretrained(PRE_TRAINED_MODEL_NAME, force_download=True)\n",
    "print(\"Tokenizer vocabulary size after re-downloading:\", len(tokenizer.vocab))"
   ]
  },
  {
   "cell_type": "markdown",
   "metadata": {
    "id": "6CYKglzbfTmw"
   },
   "source": [
    "### Part (iv) [1pt EXPLORATORY]\n",
    "\n",
    "Generate histograms of all the token values in the training data. Repeat for the validation and test data. What are the top 5 occuring tokens in the training_dataset? What do these tokens represent?"
   ]
  },
  {
   "cell_type": "code",
   "execution_count": 19,
   "metadata": {
    "id": "HTZdkR7ukhRg"
   },
   "outputs": [
    {
     "name": "stdout",
     "output_type": "stream",
     "text": [
      "Processing batch 0/1877 in collect_tokens\n",
      "Processing batch 100/1877 in collect_tokens\n",
      "Processing batch 200/1877 in collect_tokens\n",
      "Processing batch 300/1877 in collect_tokens\n",
      "Processing batch 400/1877 in collect_tokens\n",
      "Processing batch 500/1877 in collect_tokens\n",
      "Processing batch 600/1877 in collect_tokens\n",
      "Processing batch 700/1877 in collect_tokens\n",
      "Processing batch 800/1877 in collect_tokens\n",
      "Processing batch 900/1877 in collect_tokens\n",
      "Processing batch 1000/1877 in collect_tokens\n",
      "Processing batch 1100/1877 in collect_tokens\n",
      "Processing batch 1200/1877 in collect_tokens\n",
      "Processing batch 1300/1877 in collect_tokens\n",
      "Processing batch 1400/1877 in collect_tokens\n",
      "Processing batch 1500/1877 in collect_tokens\n",
      "Processing batch 1600/1877 in collect_tokens\n",
      "Processing batch 1700/1877 in collect_tokens\n",
      "Processing batch 1800/1877 in collect_tokens\n",
      "Processing batch 0/625 in collect_tokens\n",
      "Processing batch 100/625 in collect_tokens\n",
      "Processing batch 200/625 in collect_tokens\n",
      "Processing batch 300/625 in collect_tokens\n",
      "Processing batch 400/625 in collect_tokens\n",
      "Processing batch 500/625 in collect_tokens\n",
      "Processing batch 600/625 in collect_tokens\n",
      "Processing batch 0/625 in collect_tokens\n",
      "Processing batch 100/625 in collect_tokens\n",
      "Processing batch 200/625 in collect_tokens\n",
      "Processing batch 300/625 in collect_tokens\n",
      "Processing batch 400/625 in collect_tokens\n",
      "Processing batch 500/625 in collect_tokens\n",
      "Processing batch 600/625 in collect_tokens\n",
      "Processing batch 0/1877 in count_tokens\n",
      "Processing batch 100/1877 in count_tokens\n",
      "Processing batch 200/1877 in count_tokens\n",
      "Processing batch 300/1877 in count_tokens\n",
      "Processing batch 400/1877 in count_tokens\n",
      "Processing batch 500/1877 in count_tokens\n",
      "Processing batch 600/1877 in count_tokens\n",
      "Processing batch 700/1877 in count_tokens\n",
      "Processing batch 800/1877 in count_tokens\n",
      "Processing batch 900/1877 in count_tokens\n",
      "Processing batch 1000/1877 in count_tokens\n",
      "Processing batch 1100/1877 in count_tokens\n",
      "Processing batch 1200/1877 in count_tokens\n",
      "Processing batch 1300/1877 in count_tokens\n",
      "Processing batch 1400/1877 in count_tokens\n",
      "Processing batch 1500/1877 in count_tokens\n",
      "Processing batch 1600/1877 in count_tokens\n",
      "Processing batch 1700/1877 in count_tokens\n",
      "Processing batch 1800/1877 in count_tokens\n"
     ]
    }
   ],
   "source": [
    "# Assuming train_data_loader, val_data_loader, test_data_loader are defined\n",
    "train_tokens = data_utils.collect_tokens(train_data_loader)\n",
    "val_tokens = data_utils.collect_tokens(val_data_loader)\n",
    "test_tokens = data_utils.collect_tokens(test_data_loader)\n",
    "\n",
    "# Create histograms\n",
    "train_histogram = data_utils.create_histogram(train_tokens, 'Training Data Token Histogram')\n",
    "val_histogram = data_utils.create_histogram(val_tokens, 'Validation Data Token Histogram')\n",
    "test_histogram = data_utils.create_histogram(test_tokens, 'Test Data Token Histogram')\n",
    "\n",
    "# Count tokens (if needed)\n",
    "train_token_counts = data_utils.count_tokens(train_data_loader)"
   ]
  },
  {
   "cell_type": "code",
   "execution_count": 20,
   "metadata": {
    "id": "fS1c0a6wddHl"
   },
   "outputs": [
    {
     "data": {
      "image/png": "[encoded data removed]"
     },
     "metadata": {},
     "output_type": "display_data"
    },
    {
     "data": {
      "image/png": "[encoded data removed]"
     },
     "metadata": {},
     "output_type": "display_data"
    },
    {
     "data": {
      "image/png": "[encoded data removed]"
     },
     "metadata": {},
     "output_type": "display_data"
    }
   ],
   "source": [
    "# Show histograms\n",
    "train_histogram.show()\n",
    "val_histogram.show()\n",
    "test_histogram.show()"
   ]
  },
  {
   "cell_type": "code",
   "execution_count": 22,
   "metadata": {},
   "outputs": [],
   "source": [
    "train_histogram.write_html('train_histogram.html')\n",
    "val_histogram.write_html('val_histogram.html')\n",
    "test_histogram.write_html('test_histogram.html')\n"
   ]
  },
  {
   "cell_type": "code",
   "execution_count": 23,
   "metadata": {},
   "outputs": [
    {
     "ename": "SyntaxError",
     "evalue": "'break' outside loop (371449011.py, line 1)",
     "output_type": "error",
     "traceback": [
      "\u001b[0;36m  Cell \u001b[0;32mIn[23], line 1\u001b[0;36m\u001b[0m\n\u001b[0;31m    break\u001b[0m\n\u001b[0m    ^\u001b[0m\n\u001b[0;31mSyntaxError\u001b[0m\u001b[0;31m:\u001b[0m 'break' outside loop\n"
     ]
    }
   ],
   "source": [
    "break "
   ]
  },
  {
   "cell_type": "markdown",
   "metadata": {},
   "source": [
    "####  Count Token Frequencies"
   ]
  },
  {
   "cell_type": "code",
   "execution_count": null,
   "metadata": {},
   "outputs": [],
   "source": [
    "\n",
    "\n",
    "# Count tokens in the training dataset\n",
    "train_token_counts = count_tokens(train_data_loader)\n",
    "val_token_counts = count_tokens(val_data_loader)\n"
   ]
  },
  {
   "cell_type": "markdown",
   "metadata": {},
   "source": [
    "####  Identify Top 5 Tokens"
   ]
  },
  {
   "cell_type": "code",
   "execution_count": null,
   "metadata": {},
   "outputs": [],
   "source": [
    "# Get the top 5 tokens\n",
    "train_top_5_tokens = train_token_counts.most_common(5)\n",
    "print(\"Top 5 tokens train:\", train_top_5_tokens)\n"
   ]
  },
  {
   "cell_type": "code",
   "execution_count": null,
   "metadata": {},
   "outputs": [],
   "source": [
    "# Get the top 5 tokens\n",
    "val_top_5_tokens = val_token_counts.most_common(5)\n",
    "print(\"Top 5 tokens:\", val_top_5_tokens)"
   ]
  },
  {
   "cell_type": "markdown",
   "metadata": {},
   "source": [
    "#### Translate Tokens to Words"
   ]
  },
  {
   "cell_type": "code",
   "execution_count": null,
   "metadata": {},
   "outputs": [],
   "source": [
    "# Translate tokens to words\n",
    "train_top_5_words = [(tokenizer.convert_ids_to_tokens(token_id), count) for token_id, count in train_top_5_tokens]\n",
    "print(\"Top 5 tokens and their corresponding words:\", train_top_5_words)\n"
   ]
  },
  {
   "cell_type": "code",
   "execution_count": null,
   "metadata": {},
   "outputs": [],
   "source": [
    "# Translate tokens to words\n",
    "val_top_5_words = [(tokenizer.convert_ids_to_tokens(token_id), count) for token_id, count in val_top_5_tokens]\n",
    "print(\"Top 5 tokens and their corresponding words:\", val_top_5_words)"
   ]
  },
  {
   "cell_type": "markdown",
   "metadata": {
    "id": "3ElnJDdgcaiy"
   },
   "source": [
    "### Part (v) [1pt EXPLORATORY] - `hidden_states` and `pooled_output`\n",
    "\n",
    "Select a single sample from your training DataLoader and feed it through the **bert_model** to obtain the hidden_states and pooled_output. Briefly describe what each tensor dimension represents and what affects the size of each dimension."
   ]
  },
  {
   "cell_type": "markdown",
   "metadata": {},
   "source": [
    "#### 1: Extracting a Single Batch"
   ]
  },
  {
   "cell_type": "code",
   "execution_count": null,
   "metadata": {
    "id": "1HOknY9Ncai9"
   },
   "outputs": [],
   "source": [
    "# Extract a single batch from the DataLoader\n",
    "batch = next(iter(train_data_loader))\n",
    "\n",
    "# Select the first sample from the batch\n",
    "input_ids = batch['input_ids'][0].unsqueeze(0)  # Add batch dimension\n",
    "attention_mask = batch['attention_mask'][0].unsqueeze(0)  # Add batch dimension\n"
   ]
  },
  {
   "cell_type": "markdown",
   "metadata": {},
   "source": [
    "#### 2. Feeding the input into the BERT model "
   ]
  },
  {
   "cell_type": "code",
   "execution_count": null,
   "metadata": {},
   "outputs": [],
   "source": [
    "bert_model.eval()\n",
    "\n",
    "with torch.no_grad():\n",
    "    # Feed input to BERT\n",
    "    outputs = bert_model(input_ids=input_ids, attention_mask=attention_mask)\n",
    "\n",
    "    # Extract hidden states and pooled output\n",
    "    hidden_states = outputs.last_hidden_state\n",
    "    pooled_output = outputs.pooler_output\n"
   ]
  },
  {
   "cell_type": "markdown",
   "metadata": {},
   "source": [
    "#### Input IDs (input_ids)\n",
    "\n",
    "* Dimension: `[batch_size, sequence_length]`\n",
    "* Description: Each element in input_ids is a list of token IDs, which are numerical representations of tokens.\n",
    "* What Affects Size:\n",
    "    * batch_size: Determined by how many samples you process at a time. In this case, because it's only one sample, it's 1.\n",
    "    * sequence_length: The length of the tokenized input sequence. It's affected by the max_length parameter during tokenization."
   ]
  },
  {
   "cell_type": "code",
   "execution_count": null,
   "metadata": {
    "id": "34OnAb9EdjtW"
   },
   "outputs": [],
   "source": [
    "print(\"Input IDs Dimension:\", input_ids.shape)"
   ]
  },
  {
   "cell_type": "markdown",
   "metadata": {},
   "source": [
    "#### Attention Mask (attention_mask)\n",
    "* Dimension: `[batch_size, sequence_length]`\n",
    "* Description: This mask indicates to the model which tokens should be attended to and which should not (like padding tokens).\n",
    "* What Affects Size:\n",
    "    * batch_size: Same as in input_ids.\n",
    "    * sequence_length: Same as in input_ids."
   ]
  },
  {
   "cell_type": "code",
   "execution_count": null,
   "metadata": {},
   "outputs": [],
   "source": [
    "print(\"Attention Mask Dimension:\", attention_mask.shape)\n"
   ]
  },
  {
   "cell_type": "markdown",
   "metadata": {},
   "source": [
    "#### Hidden States (hidden_states from BERT Output):\n",
    "* Dimension: `[batch_size, sequence_length, hidden_size]`\n",
    "* Description: The output of the BERT model for each token in the sequence for each sample in the batch.\n",
    "* What Affects Size:\n",
    "* batch_size: Same as above.\n",
    "* sequence_length: Same as above.\n",
    "* hidden_size: Determined by the BERT model configuration. For bert-base-cased, it's typically 768."
   ]
  },
  {
   "cell_type": "code",
   "execution_count": null,
   "metadata": {},
   "outputs": [],
   "source": [
    "print(\"Hidden States Dimension:\", hidden_states.shape)"
   ]
  },
  {
   "cell_type": "markdown",
   "metadata": {},
   "source": [
    "#### Pooled Output (pooled_output from BERT Output):\n",
    "* Dimension: `[batch_size, hidden_size]`\n",
    "* Description: A summary of the input sequence, typically used for classification tasks. It's derived from the hidden state of the [CLS] token.\n",
    "* What Affects Size:\n",
    "    * batch_size: Same as above.\n",
    "    * hidden_size: Same as in hidden_states."
   ]
  },
  {
   "cell_type": "code",
   "execution_count": null,
   "metadata": {},
   "outputs": [],
   "source": [
    "print(\"Pooled Output Dimension:\", pooled_output.shape)"
   ]
  },
  {
   "cell_type": "markdown",
   "metadata": {
    "id": "rDbQ7nRBek5S"
   },
   "source": [
    "## Part 2. Model Architecture [2 pt]\n",
    "\n",
    "### Part (i) [1pt MODEL] - SentimentClassifierPooled class\n",
    "\n",
    "Prepare a review classifier model that builds on the pooled output from the Bert model to identify positive and negative reviews."
   ]
  },
  {
   "cell_type": "code",
   "execution_count": null,
   "metadata": {
    "id": "kAISbN5VexqS"
   },
   "outputs": [],
   "source": [
    "from torch import nn\n",
    "from transformers import BertModel\n",
    "\n",
    "class SentimentClassifierPooled(nn.Module):\n",
    "    def __init__(self, n_classes):\n",
    "        super(SentimentClassifierPooled, self).__init__()\n",
    "        self.bert = BertModel.from_pretrained(PRE_TRAINED_MODEL_NAME)\n",
    "\n",
    "        # Dropout layer to prevent overfitting\n",
    "        self.dropout = nn.Dropout(p=0.3)\n",
    "\n",
    "        # Linear layer to map the pooled output to the number of classes\n",
    "        self.out = nn.Linear(self.bert.config.hidden_size, n_classes)\n",
    "\n",
    "    def forward(self, input_ids, attention_mask):\n",
    "        # Getting pooled output from BERT\n",
    "        _, pooled_output = self.bert(input_ids=input_ids, attention_mask=attention_mask, return_dict=False)\n",
    "\n",
    "        # Applying dropout\n",
    "        output = self.dropout(pooled_output)\n",
    "\n",
    "        # Passing through the linear layer\n",
    "        return self.out(output)\n"
   ]
  },
  {
   "cell_type": "markdown",
   "metadata": {
    "id": "RLFzooLUgn3c"
   },
   "source": [
    "### Part (ii) [1pt MODEL] - SentimentClassifierLast class\n",
    "\n",
    "Construct the architecture for a review classifier model that uses the last hidden output from the Bert model to identify positive and negative reviews."
   ]
  },
  {
   "cell_type": "code",
   "execution_count": null,
   "metadata": {
    "id": "Q34oWGhoe38H"
   },
   "outputs": [],
   "source": [
    "# class SentimentClassifierLast(nn.Module):\n",
    "\n",
    "#   def __init__(self, n_classes):\n",
    "#     super(SentimentClassifierLast, self).__init__()\n",
    "#     self.bert = BertModel.from_pretrained(PRE_TRAINED_MODEL_NAME)\n",
    "\n",
    "#     # TO BE COMPLETED\n",
    "\n",
    "#   def forward(self, input_ids, attention_mask):\n",
    "\n",
    "#     # TO BE COMPLETED\n",
    "\n",
    "\n",
    "from torch import nn\n",
    "from transformers import BertModel\n",
    "\n",
    "class SentimentClassifierLast(nn.Module):\n",
    "    def __init__(self):\n",
    "        super(SentimentClassifierLast, self).__init__()\n",
    "        self.bert = BertModel.from_pretrained(PRE_TRAINED_MODEL_NAME)\n",
    "\n",
    "        # Dropout layer to prevent overfitting\n",
    "        self.dropout = nn.Dropout(p=0.3)\n",
    "\n",
    "        # Linear layer to map the last hidden state of the [CLS] token to a single output\n",
    "        self.out = nn.Linear(self.bert.config.hidden_size, 1)\n",
    "\n",
    "    def forward(self, input_ids, attention_mask):\n",
    "        # Getting the last hidden state output\n",
    "        last_hidden_state = self.bert(input_ids=input_ids, attention_mask=attention_mask).last_hidden_state\n",
    "\n",
    "        # Extract the [CLS] token's embeddings\n",
    "        cls_token_embedding = last_hidden_state[:, 0, :]\n",
    "\n",
    "        # Applying dropout\n",
    "        dropout_output = self.dropout(cls_token_embedding)\n",
    "\n",
    "        # Passing through the linear layer and applying sigmoid\n",
    "        return torch.sigmoid(self.out(dropout_output))\n"
   ]
  },
  {
   "cell_type": "markdown",
   "metadata": {
    "id": "nqkKp1CgiYZb"
   },
   "source": [
    "## Part 3. Training [3 pt]\n",
    "\n",
    "### Part (i) [1pt MODEL] - get accuracy function\n",
    "\n",
    "Complete the `get_accuracy` function, which will compute the\n",
    "accuracy (rate) of your model across a dataset (e.g. validation set)."
   ]
  },
  {
   "cell_type": "code",
   "execution_count": null,
   "metadata": {
    "id": "LC89f2i7iYZl"
   },
   "outputs": [],
   "source": [
    "# def get_accuracy(model, data):\n",
    "#     \"\"\" Compute the accuracy of the `model` across a dataset `data`\n",
    "\n",
    "#     Example usage:\n",
    "\n",
    "#     >>> model = MyRNN() # to be defined\n",
    "#     >>> get_accuracy(model, valid_loader) # the variable `valid_loader` is from above\n",
    "#     \"\"\"\n",
    "\n",
    "#     # TO BE COMPLETED\n",
    "\n",
    "def get_accuracy(model, data_loader):\n",
    "    \"\"\" Compute the accuracy of the `model` across a dataset `data_loader` \"\"\"\n",
    "    model.eval()  # Set the model to evaluation mode\n",
    "\n",
    "    correct_predictions = 0\n",
    "    total_predictions = 0\n",
    "\n",
    "    with torch.no_grad():  # Disable gradient calculations\n",
    "        for batch in data_loader:\n",
    "            input_ids = batch['input_ids']\n",
    "            attention_mask = batch['attention_mask']\n",
    "            targets = batch['targets']\n",
    "\n",
    "            # Get model predictions\n",
    "            outputs = model(input_ids=input_ids, attention_mask=attention_mask)\n",
    "\n",
    "            # Get the predicted class (the one with the highest probability)\n",
    "            preds = torch.argmax(outputs, dim=1)\n",
    "\n",
    "            # Count correct predictions\n",
    "            correct_predictions += torch.sum(preds == targets)\n",
    "            total_predictions += targets.size(0)\n",
    "\n",
    "    # Calculate accuracy\n",
    "    accuracy = correct_predictions.double() / total_predictions\n",
    "    return accuracy.item()\n",
    "\n"
   ]
  },
  {
   "cell_type": "markdown",
   "metadata": {
    "id": "ruaRg5JCiYZm"
   },
   "source": [
    "### Part (ii) [1pt MODEL]\n",
    "\n",
    "Write a function **train_model** to train your model. Plot the training curve of your final model.\n",
    "Your training curve should have the training/validation loss and\n",
    "accuracy plotted periodically."
   ]
  },
  {
   "cell_type": "code",
   "execution_count": null,
   "metadata": {
    "id": "wuqypAPxiYZm"
   },
   "outputs": [],
   "source": [
    "model = SentimentClassifierLast()  # No need to pass n_classes for binary classification\n",
    "if torch.backends.mps.is_available():\n",
    "    model.to(\"mps\")\n"
   ]
  },
  {
   "cell_type": "code",
   "execution_count": null,
   "metadata": {},
   "outputs": [],
   "source": [
    "from train_utils import train_model\n",
    "\n",
    "import importlib\n",
    "import train_utils\n",
    "\n",
    "# Reload the module\n",
    "importlib.reload(train_utils)\n",
    "\n",
    "# Now import the function again\n",
    "from train_utils import train_model, log_training_results, plot_training_curves, get_accuracy"
   ]
  },
  {
   "cell_type": "code",
   "execution_count": null,
   "metadata": {},
   "outputs": [],
   "source": [
    "results = train_model(\n",
    "    model=model,\n",
    "    train_loader=train_data_loader,\n",
    "    val_loader=val_data_loader,\n",
    "    criterion_func=nn.BCEWithLogitsLoss,\n",
    "    epochs=1,\n",
    "    learning_rate=0.001,\n",
    "    weight_decay=1e-5,\n",
    "    use_clipping=True,\n",
    "    clip_value=1.0\n",
    ")"
   ]
  },
  {
   "cell_type": "code",
   "execution_count": null,
   "metadata": {},
   "outputs": [],
   "source": [
    "from train_utils import train_model, log_training_results, plot_training_curves\n",
    "# Assuming results contain the output from train_model\n",
    "log_training_results('training_log_bert_partB3ii.csv', results)\n"
   ]
  },
  {
   "cell_type": "code",
   "execution_count": null,
   "metadata": {},
   "outputs": [],
   "source": [
    "plot_training_curves('training_log_bert_partB3ii.csv')"
   ]
  },
  {
   "cell_type": "markdown",
   "metadata": {
    "id": "XVvzpQRWiYZm"
   },
   "source": [
    "### Part (iii) [1pt MODEL]\n",
    "\n",
    "Choose at least 4 hyperparameters to tune. Explain how you tuned the hyperparameters. You don't need to include your training curve for every model you trained.\n",
    "Instead, explain what hyperparemters you tuned, what the best validation accuracy was,\n",
    "and the reasoning behind the hyperparameter decisions you made.\n",
    "\n",
    "For this assignment, you should tune more than just your learning rate and epoch.\n",
    "Choose at least 2 hyperparameters that are unrelated to the optimizer."
   ]
  },
  {
   "cell_type": "code",
   "execution_count": null,
   "metadata": {
    "id": "WeCZtA9iiYZm"
   },
   "outputs": [],
   "source": [
    "# TO BE COMPLETED\n",
    "\n",
    "\n",
    "\n"
   ]
  },
  {
   "cell_type": "code",
   "execution_count": null,
   "metadata": {
    "id": "N9o-7udJmahe"
   },
   "outputs": [],
   "source": [
    "'''\n",
    "PROVIDE YOUR ANSWER BELOW\n",
    "\n",
    "\n",
    "\n",
    "\n",
    "\n",
    "\n",
    "'''"
   ]
  },
  {
   "cell_type": "markdown",
   "metadata": {
    "id": "ecKaJIpQe9UV"
   },
   "source": [
    "## Part 4. Evaluation [10 pt]\n",
    "\n",
    "### Part (i) [3pt RESULT]\n",
    "\n",
    "Report the final test accuracy of your best BERT-based model. Then summarize in a pandas dataframe the accuracy obtained on the training, validation, and test data of your best models from Part A and B.\n",
    "\n",
    "How does the BERT model compare to the approach in part A using only LSTM? Are the results what you expected? Explain.\n",
    "\n"
   ]
  },
  {
   "cell_type": "code",
   "execution_count": null,
   "metadata": {
    "id": "AoweZb8i2cRb"
   },
   "outputs": [],
   "source": [
    "# TO BE COMPLETED\n",
    "\n",
    "\n",
    "\n"
   ]
  },
  {
   "cell_type": "code",
   "execution_count": null,
   "metadata": {
    "id": "1RIZ3JWzm2a_"
   },
   "outputs": [],
   "source": [
    "'''\n",
    "PROVIDE YOUR ANSWER BELOW\n",
    "\n",
    "\n",
    "\n",
    "\n",
    "\n",
    "\n",
    "'''"
   ]
  },
  {
   "cell_type": "markdown",
   "metadata": {
    "id": "ybdyEKx5Ww4F"
   },
   "source": [
    "### Part (ii) [2pt RESULT]\n",
    "\n",
    "Report the false positive rate and false negative rate of your model across the test set. Then summarize in a pandas dataframe the false postive and false negative rate of your model obtained on the training, validation, and test data of your best models from Part A and B.\n",
    "\n",
    "How does the BERT model compare to the approach in part A using only LSTM? Are the results what you expected? Explain."
   ]
  },
  {
   "cell_type": "code",
   "execution_count": null,
   "metadata": {
    "id": "vuxLCHhFWw4F"
   },
   "outputs": [],
   "source": [
    "# TO BE COMPLETED\n",
    "\n",
    "\n"
   ]
  },
  {
   "cell_type": "code",
   "execution_count": null,
   "metadata": {
    "id": "vIu8lB9jm3X_"
   },
   "outputs": [],
   "source": [
    "'''\n",
    "PROVIDE YOUR ANSWER BELOW\n",
    "\n",
    "\n",
    "\n",
    "\n",
    "\n",
    "\n",
    "'''"
   ]
  },
  {
   "cell_type": "markdown",
   "metadata": {
    "id": "646WjsAwWw4F"
   },
   "source": [
    "### Part (iii) [3pt DISCUSSION]\n",
    "Examine some of the misclassified reviews from you best BERT and LSTM models to better identify the differences in the models. Try to provide some justification for any differences in the misclassifications observed in the models.\n",
    "\n",
    "Is there any part of the review that you could modify to make the classifications correct? Try to make small changes to the review to see if you can make the model make the correct classification while keeping the review as close to the original as possible."
   ]
  },
  {
   "cell_type": "code",
   "execution_count": null,
   "metadata": {
    "id": "0OvvnW8OWw4G"
   },
   "outputs": [],
   "source": [
    "# TO BE COMPLETED\n",
    "\n",
    "\n",
    "\n"
   ]
  },
  {
   "cell_type": "code",
   "execution_count": null,
   "metadata": {
    "id": "7TWkK5Sgm4YM"
   },
   "outputs": [],
   "source": [
    "'''\n",
    "PROVIDE YOUR ANSWER BELOW\n",
    "\n",
    "\n",
    "\n",
    "\n",
    "\n",
    "\n",
    "'''"
   ]
  },
  {
   "cell_type": "markdown",
   "metadata": {
    "id": "H4FlSj_Mn2yY"
   },
   "source": [
    "### Part (iv) [2pt DISCUSSION]\n",
    "Find 5 samples of positive and negative reviews on IMDB that were posted recently and evaluate them with your best BERT and LSTM models from parts A and B. How well do they perform?"
   ]
  },
  {
   "cell_type": "code",
   "execution_count": null,
   "metadata": {
    "id": "y3DCyMW_n05f"
   },
   "outputs": [],
   "source": [
    "# TO BE COMPLETED\n",
    "\n",
    "\n",
    "\n"
   ]
  },
  {
   "cell_type": "code",
   "execution_count": null,
   "metadata": {
    "id": "0kLt9a5Xm5cO"
   },
   "outputs": [],
   "source": [
    "'''\n",
    "PROVIDE YOUR ANSWER BELOW\n",
    "\n",
    "\n",
    "\n",
    "\n",
    "\n",
    "\n",
    "'''"
   ]
  },
  {
   "cell_type": "markdown",
   "metadata": {
    "id": "ARDyU7N2mWFh"
   },
   "source": [
    "# PART C (Optional) - Bonus Challenge!\n",
    "\n",
    "This is an optional exercise for those that finish the assignment early and would like to take on a challenging task.\n",
    "\n",
    "In part A we constructed and trained an LSTM model to identify the sentiment in movie reviews. In Part B we used the embeddings of a BERT model pretrained on a large corpus of text to demonstrate how transfer learning can be used to improve our movie sentiment model. The BERT model is one of many language models that we could have used to implement transfer learning.\n",
    "\n",
    "For this bonus challenge you are asked to implement a generative character-level LSTM model to produce IMDB movie reviews. Once the model is sufficiently trained you can then use its hidden states as the embedding for training a movie sentiment model. Construct your new movie sentiment analysis model and compare the performance against the model from part A and B.\n",
    "\n",
    "There are many variants of a generative LSTM model that you can consider. As a starting point you can use the generative LSTM sample code provided in the lecture notes. Specifically, the one used to generate Shakeaspeare. More advanced versions of a generative LSTM can be found in the Universal Language Model Fine-turing for Text Classification (ULMfit) paper (https://arxiv.org/abs/1801.06146).\n",
    "\n",
    "Tasks:\n",
    "\n",
    "1. Create a generative character-level LSTM model trained to create IMDB reviews\n",
    "2. Create a classifier using the embeddings from the generative LSTM model (from step 1) to identify positive and negative reviews.\n",
    "3. Compare the performance of the model with the results in parts A and B of the assignment.\n",
    "4. Upgrade the generative LSTM model using the techniques listed in the ULMfit paper (e.g., bi-directional LSTM, pretraining with wikipedia text and fine-tuning on IMDBT reviews, etc.).\n",
    "\n",
    "Bonus marks will be provided based on the number of steps completed. Summarize below your results and anything intersting you learned from the steps that you completed. Bonus marks cannot be accumulated beyond a maximum assignment grade.\n"
   ]
  },
  {
   "cell_type": "code",
   "execution_count": null,
   "metadata": {
    "id": "9eUKPfCumdpW"
   },
   "outputs": [],
   "source": [
    "# TO BE COMPLETED\n",
    "\n",
    "\n"
   ]
  },
  {
   "cell_type": "code",
   "execution_count": null,
   "metadata": {
    "id": "ryS5uR0NB8pE"
   },
   "outputs": [],
   "source": [
    "'''\n",
    "PROVIDE YOUR ANSWER BELOW\n",
    "\n",
    "\n",
    "\n",
    "\n",
    "\n",
    "\n",
    "'''"
   ]
  },
  {
   "cell_type": "markdown",
   "metadata": {
    "id": "FYwI4RmFS2RB"
   },
   "source": [
    "### Saving to HTML\n",
    "Detailed instructions for saving to HTML can be found <a href=\"https://stackoverflow.com/questions/53460051/convert-ipynb-notebook-to-html-in-google-colab/64487858#64487858\">here</a>. Provided below are a summary of the instructions:\n",
    "\n",
    "(1) download your ipynb file by clicking on File->Download.ipynb\n",
    "\n",
    "(2) reupload your file to the temporary Google Colab storage (you can access the temporary storage from the tab to the left)\n",
    "\n",
    "(3) run the following:"
   ]
  },
  {
   "cell_type": "code",
   "execution_count": null,
   "metadata": {
    "colab": {
     "base_uri": "https://localhost:8080/"
    },
    "id": "2TrsqdNgS5ex",
    "outputId": "9e08e659-76b4-4d8f-a5f3-c49a3cbe2096"
   },
   "outputs": [],
   "source": [
    "#!pip install nbconvert\n",
    "\n",
    "%%shell\n",
    "jupyter nbconvert --to html /content/A4.ipynb\n"
   ]
  },
  {
   "cell_type": "markdown",
   "metadata": {
    "id": "nuXhlFlPTY7F"
   },
   "source": [
    "(4) the html file will be available for download in the temporary Google Colab storage\n",
    "\n",
    "(5) review the html file and make sure all the results are visible before submitting your assignment to Quercus"
   ]
  },
  {
   "cell_type": "markdown",
   "metadata": {
    "id": "Oo8xLbm4mggI"
   },
   "source": [
    "# Assignment Grading Rubric\n",
    "The grading of the assignment will be based on the following categories:\n",
    "\n",
    "(1) **10 Pt - EXPLORATORY QUESTIONS** These are basic questions that in most cases can be answered without requiring a fully working and trained neural network model. For example, data loading, processing and visualization, summary statistics, data exploration, model and training setup, etc.\n",
    "\n",
    "(2) **10 Pt - MODEL** Student has successfully implemented all the required neural network models and has demonstrated successful training of the model without any errors.\n",
    "\n",
    "(3) **10 Pt - RESULT** Students are evaluated based on the results achieved in comparison to the expected results of the assignment.\n",
    "\n",
    "(4) **10 Pt - DISCUSSION QUESTIONS** Student demonstrated understanding beyond the basic exploratory questions, can answer some of the more challenging questions, and provide arguments for their model selection decisions.\n",
    "\n",
    "(5) **10 Pt - COMMUNICATION** Student has provided a quality submission that is easy to read without too many unnecessary output statements that distract the reading of the document. The code has been well commented and all the answers are communicated clearly and concisely.\n",
    "\n",
    "(6) **10 Pt - BONUS** Student has completed the assignment and has taken on the challenging bonus tasks listed in PART C. The student has demonstrated a good understanding of all aspects of the assignment and has exceeded expectations for the assignment.\n",
    "\n",
    "\n",
    "\n",
    "**TOTAL GRADE = _____ of 50 Pts**"
   ]
  }
 ],
 "metadata": {
  "colab": {
   "provenance": []
  },
  "kernelspec": {
   "display_name": "Python 3 (ipykernel)",
   "language": "python",
   "name": "python3"
  },
  "language_info": {
   "codemirror_mode": {
    "name": "ipython",
    "version": 3
   },
   "file_extension": ".py",
   "mimetype": "text/x-python",
   "name": "python",
   "nbconvert_exporter": "python",
   "pygments_lexer": "ipython3",
   "version": "3.9.18"
  }
 },
 "nbformat": 4,
 "nbformat_minor": 4
}
