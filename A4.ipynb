{
 "cells": [
  {
   "cell_type": "markdown",
   "metadata": {
    "id": "_bphECiUa9zw"
   },
   "source": [
    "# Assignment 4: Movie Review Analysis [50 Pt]\n",
    "\n",
    "In this assignment, we will build a recurrent neural network to work with sequential text data, specificially, movie review data to identify the reviewer sentiment. In the process of completing this assignment, you will:\n",
    "    \n",
    "1. Clean and process text data for machine learning.\n",
    "2. Perform tokenization of text data.\n",
    "3. Understand and implement a word-level recurrent neural network.\n",
    "4. Implement batching of text data using a DataLoader before training a recurrent neural network.\n",
    "5. Understand how to apply pretrained models for transfer learning in natural language processing projects.\n",
    "\n",
    "### What to submit\n",
    "\n",
    "Submit an HTML file containing all your code, outputs, and write-up\n",
    "from parts A and B. You can produce a HTML file directly from Google Colab. The Colab instructions are provided at the end of this document.\n",
    "\n",
    "**Do not submit any other files produced by your code.**\n",
    "\n",
    "Include a link to your colab file in your submission.\n",
    "\n",
    "Please use Google Colab to complete this assignment. If you want to use Jupyter Notebook, please complete the assignment and upload your Jupyter Notebook file to Google Colab for submission."
   ]
  },
  {
   "cell_type": "markdown",
   "metadata": {
    "id": "rWiUqJJTa9z6"
   },
   "source": [
    "## Colab Link\n",
    "\n",
    "Include a link to your Colab file here. If you would like the TA to look at your Colab file in case your solutions are cut off, **please make sure that your Colab file is publicly accessible at the time of submission.**"
   ]
  },
  {
   "cell_type": "code",
   "execution_count": 1,
   "metadata": {
    "id": "rk7aDAaR2_wz"
   },
   "outputs": [],
   "source": [
    "# # TO BE COMPLETED\n",
    "\n",
    "# http://"
   ]
  },
  {
   "cell_type": "code",
   "execution_count": 2,
   "metadata": {},
   "outputs": [
    {
     "name": "stdout",
     "output_type": "stream",
     "text": [
      "/Users/aordorica/miniforge3/envs/pytorch_env/bin/python\n"
     ]
    }
   ],
   "source": [
    "import sys\n",
    "print(sys.executable)"
   ]
  },
  {
   "cell_type": "code",
   "execution_count": 3,
   "metadata": {},
   "outputs": [
    {
     "name": "stdout",
     "output_type": "stream",
     "text": [
      "Looking in indexes: https://artifacts-prod-use1.pinadmin.com/artifactory/api/pypi/pinterest-python-pip-prod-virtual/simple/\n",
      "Requirement already satisfied: gcsfs in /Users/aordorica/miniforge3/envs/pytorch_env/lib/python3.9/site-packages (2023.10.0)\n",
      "Requirement already satisfied: aiohttp!=4.0.0a0,!=4.0.0a1 in /Users/aordorica/miniforge3/envs/pytorch_env/lib/python3.9/site-packages (from gcsfs) (3.9.0)\n",
      "Requirement already satisfied: decorator>4.1.2 in /Users/aordorica/miniforge3/envs/pytorch_env/lib/python3.9/site-packages (from gcsfs) (5.1.1)\n",
      "Requirement already satisfied: fsspec==2023.10.0 in /Users/aordorica/miniforge3/envs/pytorch_env/lib/python3.9/site-packages (from gcsfs) (2023.10.0)\n",
      "Requirement already satisfied: google-auth>=1.2 in /Users/aordorica/miniforge3/envs/pytorch_env/lib/python3.9/site-packages (from gcsfs) (2.23.4)\n",
      "Requirement already satisfied: google-auth-oauthlib in /Users/aordorica/miniforge3/envs/pytorch_env/lib/python3.9/site-packages (from gcsfs) (1.1.0)\n",
      "Requirement already satisfied: google-cloud-storage in /Users/aordorica/miniforge3/envs/pytorch_env/lib/python3.9/site-packages (from gcsfs) (2.13.0)\n",
      "Requirement already satisfied: requests in /Users/aordorica/miniforge3/envs/pytorch_env/lib/python3.9/site-packages (from gcsfs) (2.31.0)\n",
      "Requirement already satisfied: attrs>=17.3.0 in /Users/aordorica/miniforge3/envs/pytorch_env/lib/python3.9/site-packages (from aiohttp!=4.0.0a0,!=4.0.0a1->gcsfs) (23.1.0)\n",
      "Requirement already satisfied: multidict<7.0,>=4.5 in /Users/aordorica/miniforge3/envs/pytorch_env/lib/python3.9/site-packages (from aiohttp!=4.0.0a0,!=4.0.0a1->gcsfs) (6.0.4)\n",
      "Requirement already satisfied: yarl<2.0,>=1.0 in /Users/aordorica/miniforge3/envs/pytorch_env/lib/python3.9/site-packages (from aiohttp!=4.0.0a0,!=4.0.0a1->gcsfs) (1.9.2)\n",
      "Requirement already satisfied: frozenlist>=1.1.1 in /Users/aordorica/miniforge3/envs/pytorch_env/lib/python3.9/site-packages (from aiohttp!=4.0.0a0,!=4.0.0a1->gcsfs) (1.4.0)\n",
      "Requirement already satisfied: aiosignal>=1.1.2 in /Users/aordorica/miniforge3/envs/pytorch_env/lib/python3.9/site-packages (from aiohttp!=4.0.0a0,!=4.0.0a1->gcsfs) (1.3.1)\n",
      "Requirement already satisfied: async-timeout<5.0,>=4.0 in /Users/aordorica/miniforge3/envs/pytorch_env/lib/python3.9/site-packages (from aiohttp!=4.0.0a0,!=4.0.0a1->gcsfs) (4.0.3)\n",
      "Requirement already satisfied: cachetools<6.0,>=2.0.0 in /Users/aordorica/miniforge3/envs/pytorch_env/lib/python3.9/site-packages (from google-auth>=1.2->gcsfs) (5.3.2)\n",
      "Requirement already satisfied: pyasn1-modules>=0.2.1 in /Users/aordorica/miniforge3/envs/pytorch_env/lib/python3.9/site-packages (from google-auth>=1.2->gcsfs) (0.3.0)\n",
      "Requirement already satisfied: rsa<5,>=3.1.4 in /Users/aordorica/miniforge3/envs/pytorch_env/lib/python3.9/site-packages (from google-auth>=1.2->gcsfs) (4.9)\n",
      "Requirement already satisfied: requests-oauthlib>=0.7.0 in /Users/aordorica/miniforge3/envs/pytorch_env/lib/python3.9/site-packages (from google-auth-oauthlib->gcsfs) (1.3.1)\n",
      "Requirement already satisfied: google-api-core!=2.0.*,!=2.1.*,!=2.2.*,!=2.3.0,<3.0.0dev,>=1.31.5 in /Users/aordorica/miniforge3/envs/pytorch_env/lib/python3.9/site-packages (from google-cloud-storage->gcsfs) (2.14.0)\n",
      "Requirement already satisfied: google-cloud-core<3.0dev,>=2.3.0 in /Users/aordorica/miniforge3/envs/pytorch_env/lib/python3.9/site-packages (from google-cloud-storage->gcsfs) (2.3.3)\n",
      "Requirement already satisfied: google-resumable-media>=2.6.0 in /Users/aordorica/miniforge3/envs/pytorch_env/lib/python3.9/site-packages (from google-cloud-storage->gcsfs) (2.6.0)\n",
      "Requirement already satisfied: google-crc32c<2.0dev,>=1.0 in /Users/aordorica/miniforge3/envs/pytorch_env/lib/python3.9/site-packages (from google-cloud-storage->gcsfs) (1.5.0)\n",
      "Requirement already satisfied: charset-normalizer<4,>=2 in /Users/aordorica/miniforge3/envs/pytorch_env/lib/python3.9/site-packages (from requests->gcsfs) (3.3.1)\n",
      "Requirement already satisfied: idna<4,>=2.5 in /Users/aordorica/miniforge3/envs/pytorch_env/lib/python3.9/site-packages (from requests->gcsfs) (3.4)\n",
      "Requirement already satisfied: urllib3<3,>=1.21.1 in /Users/aordorica/miniforge3/envs/pytorch_env/lib/python3.9/site-packages (from requests->gcsfs) (2.0.7)\n",
      "Requirement already satisfied: certifi>=2017.4.17 in /Users/aordorica/miniforge3/envs/pytorch_env/lib/python3.9/site-packages (from requests->gcsfs) (2023.7.22)\n",
      "Requirement already satisfied: googleapis-common-protos<2.0.dev0,>=1.56.2 in /Users/aordorica/miniforge3/envs/pytorch_env/lib/python3.9/site-packages (from google-api-core!=2.0.*,!=2.1.*,!=2.2.*,!=2.3.0,<3.0.0dev,>=1.31.5->google-cloud-storage->gcsfs) (1.61.0)\n",
      "Requirement already satisfied: protobuf!=3.20.0,!=3.20.1,!=4.21.0,!=4.21.1,!=4.21.2,!=4.21.3,!=4.21.4,!=4.21.5,<5.0.0.dev0,>=3.19.5 in /Users/aordorica/miniforge3/envs/pytorch_env/lib/python3.9/site-packages (from google-api-core!=2.0.*,!=2.1.*,!=2.2.*,!=2.3.0,<3.0.0dev,>=1.31.5->google-cloud-storage->gcsfs) (3.20.3)\n",
      "Requirement already satisfied: pyasn1<0.6.0,>=0.4.6 in /Users/aordorica/miniforge3/envs/pytorch_env/lib/python3.9/site-packages (from pyasn1-modules>=0.2.1->google-auth>=1.2->gcsfs) (0.5.0)\n",
      "Requirement already satisfied: oauthlib>=3.0.0 in /Users/aordorica/miniforge3/envs/pytorch_env/lib/python3.9/site-packages (from requests-oauthlib>=0.7.0->google-auth-oauthlib->gcsfs) (3.2.2)\n"
     ]
    }
   ],
   "source": [
    "!/Users/aordorica/miniforge3/envs/pytorch_env/bin/pip install gcsfs"
   ]
  },
  {
   "cell_type": "code",
   "execution_count": 4,
   "metadata": {},
   "outputs": [
    {
     "name": "stdout",
     "output_type": "stream",
     "text": [
      "Looking in indexes: https://artifacts-prod-use1.pinadmin.com/artifactory/api/pypi/pinterest-python-pip-prod-virtual/simple/\n",
      "Requirement already satisfied: nltk in /Users/aordorica/miniforge3/envs/pytorch_env/lib/python3.9/site-packages (3.8.1)\n",
      "Requirement already satisfied: click in /Users/aordorica/miniforge3/envs/pytorch_env/lib/python3.9/site-packages (from nltk) (8.1.7)\n",
      "Requirement already satisfied: joblib in /Users/aordorica/miniforge3/envs/pytorch_env/lib/python3.9/site-packages (from nltk) (1.3.2)\n",
      "Requirement already satisfied: regex>=2021.8.3 in /Users/aordorica/miniforge3/envs/pytorch_env/lib/python3.9/site-packages (from nltk) (2023.10.3)\n",
      "Requirement already satisfied: tqdm in /Users/aordorica/miniforge3/envs/pytorch_env/lib/python3.9/site-packages (from nltk) (4.66.1)\n"
     ]
    }
   ],
   "source": [
    "!/Users/aordorica/miniforge3/envs/pytorch_env/bin/pip install nltk "
   ]
  },
  {
   "cell_type": "code",
   "execution_count": 5,
   "metadata": {},
   "outputs": [
    {
     "name": "stdout",
     "output_type": "stream",
     "text": [
      "Looking in indexes: https://artifacts-prod-use1.pinadmin.com/artifactory/api/pypi/pinterest-python-pip-prod-virtual/simple/\n",
      "Requirement already satisfied: tensorflow in /Users/aordorica/miniforge3/envs/pytorch_env/lib/python3.9/site-packages (2.15.0)\n",
      "Requirement already satisfied: tensorflow-macos==2.15.0 in /Users/aordorica/miniforge3/envs/pytorch_env/lib/python3.9/site-packages (from tensorflow) (2.15.0)\n",
      "Requirement already satisfied: absl-py>=1.0.0 in /Users/aordorica/miniforge3/envs/pytorch_env/lib/python3.9/site-packages (from tensorflow-macos==2.15.0->tensorflow) (1.4.0)\n",
      "Requirement already satisfied: astunparse>=1.6.0 in /Users/aordorica/miniforge3/envs/pytorch_env/lib/python3.9/site-packages (from tensorflow-macos==2.15.0->tensorflow) (1.6.3)\n",
      "Requirement already satisfied: flatbuffers>=23.5.26 in /Users/aordorica/miniforge3/envs/pytorch_env/lib/python3.9/site-packages (from tensorflow-macos==2.15.0->tensorflow) (23.5.26)\n",
      "Requirement already satisfied: gast!=0.5.0,!=0.5.1,!=0.5.2,>=0.2.1 in /Users/aordorica/miniforge3/envs/pytorch_env/lib/python3.9/site-packages (from tensorflow-macos==2.15.0->tensorflow) (0.5.4)\n",
      "Requirement already satisfied: google-pasta>=0.1.1 in /Users/aordorica/miniforge3/envs/pytorch_env/lib/python3.9/site-packages (from tensorflow-macos==2.15.0->tensorflow) (0.2.0)\n",
      "Requirement already satisfied: h5py>=2.9.0 in /Users/aordorica/miniforge3/envs/pytorch_env/lib/python3.9/site-packages (from tensorflow-macos==2.15.0->tensorflow) (3.10.0)\n",
      "Requirement already satisfied: libclang>=13.0.0 in /Users/aordorica/miniforge3/envs/pytorch_env/lib/python3.9/site-packages (from tensorflow-macos==2.15.0->tensorflow) (16.0.6)\n",
      "Requirement already satisfied: ml-dtypes~=0.2.0 in /Users/aordorica/miniforge3/envs/pytorch_env/lib/python3.9/site-packages (from tensorflow-macos==2.15.0->tensorflow) (0.2.0)\n",
      "Requirement already satisfied: numpy<2.0.0,>=1.23.5 in /Users/aordorica/miniforge3/envs/pytorch_env/lib/python3.9/site-packages (from tensorflow-macos==2.15.0->tensorflow) (1.23.5)\n",
      "Requirement already satisfied: opt-einsum>=2.3.2 in /Users/aordorica/miniforge3/envs/pytorch_env/lib/python3.9/site-packages (from tensorflow-macos==2.15.0->tensorflow) (3.3.0)\n",
      "Requirement already satisfied: packaging in /Users/aordorica/miniforge3/envs/pytorch_env/lib/python3.9/site-packages (from tensorflow-macos==2.15.0->tensorflow) (23.2)\n",
      "Requirement already satisfied: protobuf!=4.21.0,!=4.21.1,!=4.21.2,!=4.21.3,!=4.21.4,!=4.21.5,<5.0.0dev,>=3.20.3 in /Users/aordorica/miniforge3/envs/pytorch_env/lib/python3.9/site-packages (from tensorflow-macos==2.15.0->tensorflow) (3.20.3)\n",
      "Requirement already satisfied: setuptools in /Users/aordorica/miniforge3/envs/pytorch_env/lib/python3.9/site-packages (from tensorflow-macos==2.15.0->tensorflow) (68.2.2)\n",
      "Requirement already satisfied: six>=1.12.0 in /Users/aordorica/miniforge3/envs/pytorch_env/lib/python3.9/site-packages (from tensorflow-macos==2.15.0->tensorflow) (1.16.0)\n",
      "Requirement already satisfied: termcolor>=1.1.0 in /Users/aordorica/miniforge3/envs/pytorch_env/lib/python3.9/site-packages (from tensorflow-macos==2.15.0->tensorflow) (2.3.0)\n",
      "Requirement already satisfied: typing-extensions>=3.6.6 in /Users/aordorica/miniforge3/envs/pytorch_env/lib/python3.9/site-packages (from tensorflow-macos==2.15.0->tensorflow) (4.8.0)\n",
      "Requirement already satisfied: wrapt<1.15,>=1.11.0 in /Users/aordorica/miniforge3/envs/pytorch_env/lib/python3.9/site-packages (from tensorflow-macos==2.15.0->tensorflow) (1.14.1)\n",
      "Requirement already satisfied: tensorflow-io-gcs-filesystem>=0.23.1 in /Users/aordorica/miniforge3/envs/pytorch_env/lib/python3.9/site-packages (from tensorflow-macos==2.15.0->tensorflow) (0.34.0)\n",
      "Requirement already satisfied: grpcio<2.0,>=1.24.3 in /Users/aordorica/miniforge3/envs/pytorch_env/lib/python3.9/site-packages (from tensorflow-macos==2.15.0->tensorflow) (1.59.3)\n",
      "Requirement already satisfied: tensorboard<2.16,>=2.15 in /Users/aordorica/miniforge3/envs/pytorch_env/lib/python3.9/site-packages (from tensorflow-macos==2.15.0->tensorflow) (2.15.1)\n",
      "Requirement already satisfied: tensorflow-estimator<2.16,>=2.15.0 in /Users/aordorica/miniforge3/envs/pytorch_env/lib/python3.9/site-packages (from tensorflow-macos==2.15.0->tensorflow) (2.15.0)\n",
      "Requirement already satisfied: keras<2.16,>=2.15.0 in /Users/aordorica/miniforge3/envs/pytorch_env/lib/python3.9/site-packages (from tensorflow-macos==2.15.0->tensorflow) (2.15.0)\n",
      "Requirement already satisfied: wheel<1.0,>=0.23.0 in /Users/aordorica/miniforge3/envs/pytorch_env/lib/python3.9/site-packages (from astunparse>=1.6.0->tensorflow-macos==2.15.0->tensorflow) (0.41.2)\n",
      "Requirement already satisfied: google-auth<3,>=1.6.3 in /Users/aordorica/miniforge3/envs/pytorch_env/lib/python3.9/site-packages (from tensorboard<2.16,>=2.15->tensorflow-macos==2.15.0->tensorflow) (2.23.4)\n",
      "Requirement already satisfied: google-auth-oauthlib<2,>=0.5 in /Users/aordorica/miniforge3/envs/pytorch_env/lib/python3.9/site-packages (from tensorboard<2.16,>=2.15->tensorflow-macos==2.15.0->tensorflow) (1.1.0)\n",
      "Requirement already satisfied: markdown>=2.6.8 in /Users/aordorica/miniforge3/envs/pytorch_env/lib/python3.9/site-packages (from tensorboard<2.16,>=2.15->tensorflow-macos==2.15.0->tensorflow) (3.5.1)\n",
      "Requirement already satisfied: requests<3,>=2.21.0 in /Users/aordorica/miniforge3/envs/pytorch_env/lib/python3.9/site-packages (from tensorboard<2.16,>=2.15->tensorflow-macos==2.15.0->tensorflow) (2.31.0)\n",
      "Requirement already satisfied: tensorboard-data-server<0.8.0,>=0.7.0 in /Users/aordorica/miniforge3/envs/pytorch_env/lib/python3.9/site-packages (from tensorboard<2.16,>=2.15->tensorflow-macos==2.15.0->tensorflow) (0.7.2)\n",
      "Requirement already satisfied: werkzeug>=1.0.1 in /Users/aordorica/miniforge3/envs/pytorch_env/lib/python3.9/site-packages (from tensorboard<2.16,>=2.15->tensorflow-macos==2.15.0->tensorflow) (3.0.1)\n",
      "Requirement already satisfied: cachetools<6.0,>=2.0.0 in /Users/aordorica/miniforge3/envs/pytorch_env/lib/python3.9/site-packages (from google-auth<3,>=1.6.3->tensorboard<2.16,>=2.15->tensorflow-macos==2.15.0->tensorflow) (5.3.2)\n",
      "Requirement already satisfied: pyasn1-modules>=0.2.1 in /Users/aordorica/miniforge3/envs/pytorch_env/lib/python3.9/site-packages (from google-auth<3,>=1.6.3->tensorboard<2.16,>=2.15->tensorflow-macos==2.15.0->tensorflow) (0.3.0)\n",
      "Requirement already satisfied: rsa<5,>=3.1.4 in /Users/aordorica/miniforge3/envs/pytorch_env/lib/python3.9/site-packages (from google-auth<3,>=1.6.3->tensorboard<2.16,>=2.15->tensorflow-macos==2.15.0->tensorflow) (4.9)\n",
      "Requirement already satisfied: requests-oauthlib>=0.7.0 in /Users/aordorica/miniforge3/envs/pytorch_env/lib/python3.9/site-packages (from google-auth-oauthlib<2,>=0.5->tensorboard<2.16,>=2.15->tensorflow-macos==2.15.0->tensorflow) (1.3.1)\n",
      "Requirement already satisfied: importlib-metadata>=4.4 in /Users/aordorica/miniforge3/envs/pytorch_env/lib/python3.9/site-packages (from markdown>=2.6.8->tensorboard<2.16,>=2.15->tensorflow-macos==2.15.0->tensorflow) (6.8.0)\n",
      "Requirement already satisfied: charset-normalizer<4,>=2 in /Users/aordorica/miniforge3/envs/pytorch_env/lib/python3.9/site-packages (from requests<3,>=2.21.0->tensorboard<2.16,>=2.15->tensorflow-macos==2.15.0->tensorflow) (3.3.1)\n",
      "Requirement already satisfied: idna<4,>=2.5 in /Users/aordorica/miniforge3/envs/pytorch_env/lib/python3.9/site-packages (from requests<3,>=2.21.0->tensorboard<2.16,>=2.15->tensorflow-macos==2.15.0->tensorflow) (3.4)\n",
      "Requirement already satisfied: urllib3<3,>=1.21.1 in /Users/aordorica/miniforge3/envs/pytorch_env/lib/python3.9/site-packages (from requests<3,>=2.21.0->tensorboard<2.16,>=2.15->tensorflow-macos==2.15.0->tensorflow) (2.0.7)\n",
      "Requirement already satisfied: certifi>=2017.4.17 in /Users/aordorica/miniforge3/envs/pytorch_env/lib/python3.9/site-packages (from requests<3,>=2.21.0->tensorboard<2.16,>=2.15->tensorflow-macos==2.15.0->tensorflow) (2023.7.22)\n",
      "Requirement already satisfied: MarkupSafe>=2.1.1 in /Users/aordorica/miniforge3/envs/pytorch_env/lib/python3.9/site-packages (from werkzeug>=1.0.1->tensorboard<2.16,>=2.15->tensorflow-macos==2.15.0->tensorflow) (2.1.3)\n",
      "Requirement already satisfied: zipp>=0.5 in /Users/aordorica/miniforge3/envs/pytorch_env/lib/python3.9/site-packages (from importlib-metadata>=4.4->markdown>=2.6.8->tensorboard<2.16,>=2.15->tensorflow-macos==2.15.0->tensorflow) (3.17.0)\n",
      "Requirement already satisfied: pyasn1<0.6.0,>=0.4.6 in /Users/aordorica/miniforge3/envs/pytorch_env/lib/python3.9/site-packages (from pyasn1-modules>=0.2.1->google-auth<3,>=1.6.3->tensorboard<2.16,>=2.15->tensorflow-macos==2.15.0->tensorflow) (0.5.0)\n",
      "Requirement already satisfied: oauthlib>=3.0.0 in /Users/aordorica/miniforge3/envs/pytorch_env/lib/python3.9/site-packages (from requests-oauthlib>=0.7.0->google-auth-oauthlib<2,>=0.5->tensorboard<2.16,>=2.15->tensorflow-macos==2.15.0->tensorflow) (3.2.2)\n"
     ]
    }
   ],
   "source": [
    "!/Users/aordorica/miniforge3/envs/pytorch_env/bin/pip install tensorflow"
   ]
  },
  {
   "cell_type": "code",
   "execution_count": 6,
   "metadata": {},
   "outputs": [
    {
     "name": "stdout",
     "output_type": "stream",
     "text": [
      "Looking in indexes: https://artifacts-prod-use1.pinadmin.com/artifactory/api/pypi/pinterest-python-pip-prod-virtual/simple/\n",
      "Requirement already satisfied: tensorflow_datasets in /Users/aordorica/miniforge3/envs/pytorch_env/lib/python3.9/site-packages (4.9.3)\n",
      "Requirement already satisfied: absl-py in /Users/aordorica/miniforge3/envs/pytorch_env/lib/python3.9/site-packages (from tensorflow_datasets) (1.4.0)\n",
      "Requirement already satisfied: array-record in /Users/aordorica/miniforge3/envs/pytorch_env/lib/python3.9/site-packages (from tensorflow_datasets) (0.4.1)\n",
      "Requirement already satisfied: click in /Users/aordorica/miniforge3/envs/pytorch_env/lib/python3.9/site-packages (from tensorflow_datasets) (8.1.7)\n",
      "Requirement already satisfied: dm-tree in /Users/aordorica/miniforge3/envs/pytorch_env/lib/python3.9/site-packages (from tensorflow_datasets) (0.1.8)\n",
      "Requirement already satisfied: etils>=0.9.0 in /Users/aordorica/miniforge3/envs/pytorch_env/lib/python3.9/site-packages (from etils[enp,epath,etree]>=0.9.0->tensorflow_datasets) (1.5.2)\n",
      "Requirement already satisfied: numpy in /Users/aordorica/miniforge3/envs/pytorch_env/lib/python3.9/site-packages (from tensorflow_datasets) (1.23.5)\n",
      "Requirement already satisfied: promise in /Users/aordorica/miniforge3/envs/pytorch_env/lib/python3.9/site-packages (from tensorflow_datasets) (2.3)\n",
      "Requirement already satisfied: protobuf>=3.20 in /Users/aordorica/miniforge3/envs/pytorch_env/lib/python3.9/site-packages (from tensorflow_datasets) (3.20.3)\n",
      "Requirement already satisfied: psutil in /Users/aordorica/miniforge3/envs/pytorch_env/lib/python3.9/site-packages (from tensorflow_datasets) (5.9.5)\n",
      "Requirement already satisfied: requests>=2.19.0 in /Users/aordorica/miniforge3/envs/pytorch_env/lib/python3.9/site-packages (from tensorflow_datasets) (2.31.0)\n",
      "Requirement already satisfied: tensorflow-metadata in /Users/aordorica/miniforge3/envs/pytorch_env/lib/python3.9/site-packages (from tensorflow_datasets) (1.14.0)\n",
      "Requirement already satisfied: termcolor in /Users/aordorica/miniforge3/envs/pytorch_env/lib/python3.9/site-packages (from tensorflow_datasets) (2.3.0)\n",
      "Requirement already satisfied: toml in /Users/aordorica/miniforge3/envs/pytorch_env/lib/python3.9/site-packages (from tensorflow_datasets) (0.10.2)\n",
      "Requirement already satisfied: tqdm in /Users/aordorica/miniforge3/envs/pytorch_env/lib/python3.9/site-packages (from tensorflow_datasets) (4.66.1)\n",
      "Requirement already satisfied: wrapt in /Users/aordorica/miniforge3/envs/pytorch_env/lib/python3.9/site-packages (from tensorflow_datasets) (1.14.1)\n",
      "Requirement already satisfied: fsspec in /Users/aordorica/miniforge3/envs/pytorch_env/lib/python3.9/site-packages (from etils[enp,epath,etree]>=0.9.0->tensorflow_datasets) (2023.10.0)\n",
      "Requirement already satisfied: importlib_resources in /Users/aordorica/miniforge3/envs/pytorch_env/lib/python3.9/site-packages (from etils[enp,epath,etree]>=0.9.0->tensorflow_datasets) (6.1.0)\n",
      "Requirement already satisfied: typing_extensions in /Users/aordorica/miniforge3/envs/pytorch_env/lib/python3.9/site-packages (from etils[enp,epath,etree]>=0.9.0->tensorflow_datasets) (4.8.0)\n",
      "Requirement already satisfied: zipp in /Users/aordorica/miniforge3/envs/pytorch_env/lib/python3.9/site-packages (from etils[enp,epath,etree]>=0.9.0->tensorflow_datasets) (3.17.0)\n",
      "Requirement already satisfied: charset-normalizer<4,>=2 in /Users/aordorica/miniforge3/envs/pytorch_env/lib/python3.9/site-packages (from requests>=2.19.0->tensorflow_datasets) (3.3.1)\n",
      "Requirement already satisfied: idna<4,>=2.5 in /Users/aordorica/miniforge3/envs/pytorch_env/lib/python3.9/site-packages (from requests>=2.19.0->tensorflow_datasets) (3.4)\n",
      "Requirement already satisfied: urllib3<3,>=1.21.1 in /Users/aordorica/miniforge3/envs/pytorch_env/lib/python3.9/site-packages (from requests>=2.19.0->tensorflow_datasets) (2.0.7)\n",
      "Requirement already satisfied: certifi>=2017.4.17 in /Users/aordorica/miniforge3/envs/pytorch_env/lib/python3.9/site-packages (from requests>=2.19.0->tensorflow_datasets) (2023.7.22)\n",
      "Requirement already satisfied: six in /Users/aordorica/miniforge3/envs/pytorch_env/lib/python3.9/site-packages (from promise->tensorflow_datasets) (1.16.0)\n",
      "Requirement already satisfied: googleapis-common-protos<2,>=1.52.0 in /Users/aordorica/miniforge3/envs/pytorch_env/lib/python3.9/site-packages (from tensorflow-metadata->tensorflow_datasets) (1.61.0)\n"
     ]
    }
   ],
   "source": [
    "!/Users/aordorica/miniforge3/envs/pytorch_env/bin/pip install tensorflow_datasets"
   ]
  },
  {
   "cell_type": "markdown",
   "metadata": {
    "id": "fFMdtipUPNdu"
   },
   "source": [
    "# PART A - Sentiment Analysis\n",
    "\n",
    "In this part we will construct a world-level LSTM model for identifying positive and negative reviews. This will be done in a similar way to what was shared in the preparation code for Assignment 4."
   ]
  },
  {
   "cell_type": "code",
   "execution_count": 7,
   "metadata": {
    "colab": {
     "base_uri": "https://localhost:8080/"
    },
    "id": "HgfNOUaPa9z8",
    "outputId": "2ba202f7-1542-44f1-93dc-307305894236"
   },
   "outputs": [
    {
     "name": "stderr",
     "output_type": "stream",
     "text": [
      "[nltk_data] Downloading package stopwords to\n",
      "[nltk_data]     /Users/aordorica/nltk_data...\n",
      "[nltk_data]   Package stopwords is already up-to-date!\n"
     ]
    }
   ],
   "source": [
    "# load standard modules/libraries\n",
    "import pandas as pd\n",
    "import numpy as np\n",
    "import matplotlib.pyplot as plt\n",
    "import seaborn as sns\n",
    "from sklearn.model_selection import train_test_split\n",
    "\n",
    "# load special modules/libraries\n",
    "import os\n",
    "import warnings\n",
    "import nltk\n",
    "from nltk.corpus import stopwords\n",
    "nltk.download('stopwords')\n",
    "\n",
    "from collections import Counter\n",
    "import string\n",
    "import re\n",
    "from tqdm  import tqdm\n",
    "\n",
    "# load pytorch modules/libraries\n",
    "import torch\n",
    "import torch.nn as nn\n",
    "import torch.nn.functional as F\n",
    "import torch.optim as optim\n",
    "from torch.utils.data import TensorDataset,DataLoader\n"
   ]
  },
  {
   "cell_type": "markdown",
   "metadata": {
    "id": "M0jLI9LBa90C"
   },
   "source": [
    "## Part 1. Data Cleaning [5 pt]\n",
    "\n",
    "We will be using the \"IMDB Movie Review Dataset\" provided on the course website. Download \"IMDB Dataset.csv\" into your Colab workspace."
   ]
  },
  {
   "cell_type": "markdown",
   "metadata": {
    "id": "sSuF7C_Ga90E"
   },
   "source": [
    "### Part (i) [1pt EXPLORATORY] - comment on data quality - done\n",
    "\n",
    "Open up the file in Python, and examine some examples of positive and negative reviews. Comment on the quality of the data and any challenges you foresee in working with these data. Pick one example of a positive review and one of a negative review to support your comments.\n",
    "\n",
    "\n",
    "> There are many html characters such as `\\` and brackets such as `<br /><br />`. These are rather used for formatting instead of providing information about the text.\n",
    ">\n",
    ">\n",
    "\n",
    "Context is very important to be able to determine whether a review is positive or negative. Consider the following positive review: \n",
    "```\n",
    "\"One of the other reviewers has mentioned that after watching just 1 Oz episode you'll be hooked. They are right, as this is exactly what happened with me.<br /><br />The first thing that struck me about Oz was its brutality and unflinching scenes of violence, which set in right from the word GO. Trust me, this is not a show for the faint hearted or timid. This show pulls no punches with regards to drugs, sex or violence. Its is hardcore, in the classic use of the word.<br /><br />It is called OZ as that is the nickname given to the Oswald Maximum Security State Penitentary. It focuses mainly on Emerald City, an experimental section of the prison where all the cells have glass fronts and face inwards, so privacy is not high on the agenda. Em City is home to many..Aryans, Muslims, gangstas, Latinos, Christians, Italians, Irish and more....so scuffles, death stares, dodgy dealings and shady agreements are never far away.<br /><br />I would say the main appeal of the show is due to the fact that it goes where other shows wouldn't dare. Forget pretty pictures painted for mainstream audiences, forget charm, forget romance...OZ doesn't mess around. The first episode I ever saw struck me as so nasty it was surreal, I couldn't say I was ready for it, but as I watched more, I developed a taste for Oz, and got accustomed to the high levels of graphic violence. Not just violence, but injustice (crooked guards who'll be sold out for a nickel, inmates who'll kill on order and get away with it, well mannered, middle class inmates being turned into prison bitches due to their lack of street skills or prison experience) Watching Oz, you may become comfortable with what is uncomfortable viewing....thats if you can get in touch with your darker side.\"\n",
    "```\n",
    "\n",
    "There are many words that are themselves negative in polarity, such as `violence`, `brutality`, `kill`, etc. However the sentiment is positive because the user became hooked in it. \n",
    "\n",
    "Similarly, for a `negative` review we have: \n",
    "```\n",
    "\n",
    "\"This show was an amazing, fresh & innovative idea in the 70's when it first aired. The first 7 or 8 years were brilliant, but things dropped off after that. By 1990, the show was not really funny anymore, and it's continued its decline further to the complete waste of time it is today.<br /><br />It's truly disgraceful how far this show has fallen. The writing is painfully bad, the performances are almost as bad - if not for the mildly entertaining respite of the guest-hosts, this show probably wouldn't still be on the air. I find it so hard to believe that the same creator that hand-selected the original cast also chose the band of hacks that followed. How can one recognize such brilliance and then see fit to replace it with such mediocrity? I felt I must give 2 stars out of respect for the original cast that made this show such a huge success. As it is now, the show is just awful. I can't believe it's still on the air.\"```\n",
    "\n",
    "There are many words that are themselves positive in polarity, such as `amazing`, `fresh`, `innovative`, etc. However the sentiment is negative because the user explains how it _used_ to be good but it isn't anymore. The user displays disdain and is shocked that the show is still airing.\n"
   ]
  },
  {
   "cell_type": "code",
   "execution_count": 8,
   "metadata": {
    "id": "I_IfXHeTa90F"
   },
   "outputs": [],
   "source": [
    "# download IMDB review data\n",
    "\n",
    "# load dataset\n",
    "df = pd.read_csv(\"IMDB Dataset.csv\")\n",
    "\n",
    "# process into data and labels\n",
    "X = df['review'].values\n",
    "y = df['sentiment'].values\n"
   ]
  },
  {
   "cell_type": "code",
   "execution_count": 9,
   "metadata": {},
   "outputs": [
    {
     "name": "stdout",
     "output_type": "stream",
     "text": [
      "                                              review sentiment\n",
      "0  One of the other reviewers has mentioned that ...  positive\n",
      "1  A wonderful little production. <br /><br />The...  positive\n",
      "2  I thought this was a wonderful way to spend ti...  positive\n",
      "3  Basically there's a family where a little boy ...  negative\n",
      "4  Petter Mattei's \"Love in the Time of Money\" is...  positive\n"
     ]
    }
   ],
   "source": [
    "print(df.head())\n"
   ]
  },
  {
   "cell_type": "code",
   "execution_count": 10,
   "metadata": {
    "id": "8DEb5pmh07Ka"
   },
   "outputs": [
    {
     "data": {
      "text/plain": [
       "array(['positive', 'negative'], dtype=object)"
      ]
     },
     "execution_count": 10,
     "metadata": {},
     "output_type": "execute_result"
    }
   ],
   "source": [
    "df['sentiment'].unique()"
   ]
  },
  {
   "cell_type": "code",
   "execution_count": 11,
   "metadata": {},
   "outputs": [
    {
     "data": {
      "text/plain": [
       "\"One of the other reviewers has mentioned that after watching just 1 Oz episode you'll be hooked. They are right, as this is exactly what happened with me.<br /><br />The first thing that struck me about Oz was its brutality and unflinching scenes of violence, which set in right from the word GO. Trust me, this is not a show for the faint hearted or timid. This show pulls no punches with regards to drugs, sex or violence. Its is hardcore, in the classic use of the word.<br /><br />It is called OZ as that is the nickname given to the Oswald Maximum Security State Penitentary. It focuses mainly on Emerald City, an experimental section of the prison where all the cells have glass fronts and face inwards, so privacy is not high on the agenda. Em City is home to many..Aryans, Muslims, gangstas, Latinos, Christians, Italians, Irish and more....so scuffles, death stares, dodgy dealings and shady agreements are never far away.<br /><br />I would say the main appeal of the show is due to the fact that it goes where other shows wouldn't dare. Forget pretty pictures painted for mainstream audiences, forget charm, forget romance...OZ doesn't mess around. The first episode I ever saw struck me as so nasty it was surreal, I couldn't say I was ready for it, but as I watched more, I developed a taste for Oz, and got accustomed to the high levels of graphic violence. Not just violence, but injustice (crooked guards who'll be sold out for a nickel, inmates who'll kill on order and get away with it, well mannered, middle class inmates being turned into prison bitches due to their lack of street skills or prison experience) Watching Oz, you may become comfortable with what is uncomfortable viewing....thats if you can get in touch with your darker side.\""
      ]
     },
     "execution_count": 11,
     "metadata": {},
     "output_type": "execute_result"
    }
   ],
   "source": [
    "df[df['sentiment']=='positive']['review'].iloc[0]"
   ]
  },
  {
   "cell_type": "code",
   "execution_count": 12,
   "metadata": {},
   "outputs": [
    {
     "data": {
      "text/plain": [
       "\"This show was an amazing, fresh & innovative idea in the 70's when it first aired. The first 7 or 8 years were brilliant, but things dropped off after that. By 1990, the show was not really funny anymore, and it's continued its decline further to the complete waste of time it is today.<br /><br />It's truly disgraceful how far this show has fallen. The writing is painfully bad, the performances are almost as bad - if not for the mildly entertaining respite of the guest-hosts, this show probably wouldn't still be on the air. I find it so hard to believe that the same creator that hand-selected the original cast also chose the band of hacks that followed. How can one recognize such brilliance and then see fit to replace it with such mediocrity? I felt I must give 2 stars out of respect for the original cast that made this show such a huge success. As it is now, the show is just awful. I can't believe it's still on the air.\""
      ]
     },
     "execution_count": 12,
     "metadata": {},
     "output_type": "execute_result"
    }
   ],
   "source": [
    "df[df['sentiment']=='negative']['review'].iloc[1]"
   ]
  },
  {
   "cell_type": "code",
   "execution_count": 13,
   "metadata": {},
   "outputs": [
    {
     "name": "stdout",
     "output_type": "stream",
     "text": [
      "One of the other reviewers has mentioned that after watching just 1 Oz episode you'll be hooked. They are right, as this is exactly what happened with me.<br /><br />The first thing that struck me about Oz was its brutality and unflinching scenes of violence, which set in right from the word GO. Trust me, this is not a show for the faint hearted or timid. This show pulls no punches with regards to drugs, sex or violence. Its is hardcore, in the classic use of the word.<br /><br />It is called OZ as that is the nickname given to the Oswald Maximum Security State Penitentary. It focuses mainly on Emerald City, an experimental section of the prison where all the cells have glass fronts and face inwards, so privacy is not high on the agenda. Em City is home to many..Aryans, Muslims, gangstas, Latinos, Christians, Italians, Irish and more....so scuffles, death stares, dodgy dealings and shady agreements are never far away.<br /><br />I would say the main appeal of the show is due to the fact that it goes where other shows wouldn't dare. Forget pretty pictures painted for mainstream audiences, forget charm, forget romance...OZ doesn't mess around. The first episode I ever saw struck me as so nasty it was surreal, I couldn't say I was ready for it, but as I watched more, I developed a taste for Oz, and got accustomed to the high levels of graphic violence. Not just violence, but injustice (crooked guards who'll be sold out for a nickel, inmates who'll kill on order and get away with it, well mannered, middle class inmates being turned into prison bitches due to their lack of street skills or prison experience) Watching Oz, you may become comfortable with what is uncomfortable viewing....thats if you can get in touch with your darker side.\n",
      "A wonderful little production. <br /><br />The filming technique is very unassuming- very old-time-BBC fashion and gives a comforting, and sometimes discomforting, sense of realism to the entire piece. <br /><br />The actors are extremely well chosen- Michael Sheen not only \"has got all the polari\" but he has all the voices down pat too! You can truly see the seamless editing guided by the references to Williams' diary entries, not only is it well worth the watching but it is a terrificly written and performed piece. A masterful production about one of the great master's of comedy and his life. <br /><br />The realism really comes home with the little things: the fantasy of the guard which, rather than use the traditional 'dream' techniques remains solid then disappears. It plays on our knowledge and our senses, particularly with the scenes concerning Orton and Halliwell and the sets (particularly of their flat with Halliwell's murals decorating every surface) are terribly well done.\n",
      "I thought this was a wonderful way to spend time on a too hot summer weekend, sitting in the air conditioned theater and watching a light-hearted comedy. The plot is simplistic, but the dialogue is witty and the characters are likable (even the well bread suspected serial killer). While some may be disappointed when they realize this is not Match Point 2: Risk Addiction, I thought it was proof that Woody Allen is still fully in control of the style many of us have grown to love.<br /><br />This was the most I'd laughed at one of Woody's comedies in years (dare I say a decade?). While I've never been impressed with Scarlet Johanson, in this she managed to tone down her \"sexy\" image and jumped right into a average, but spirited young woman.<br /><br />This may not be the crown jewel of his career, but it was wittier than \"Devil Wears Prada\" and more interesting than \"Superman\" a great comedy to go see with friends.\n",
      "Basically there's a family where a little boy (Jake) thinks there's a zombie in his closet & his parents are fighting all the time.<br /><br />This movie is slower than a soap opera... and suddenly, Jake decides to become Rambo and kill the zombie.<br /><br />OK, first of all when you're going to make a film you must Decide if its a thriller or a drama! As a drama the movie is watchable. Parents are divorcing & arguing like in real life. And then we have Jake with his closet which totally ruins all the film! I expected to see a BOOGEYMAN similar movie, and instead i watched a drama with some meaningless thriller spots.<br /><br />3 out of 10 just for the well playing parents & descent dialogs. As for the shots with Jake: just ignore them.\n",
      "Petter Mattei's \"Love in the Time of Money\" is a visually stunning film to watch. Mr. Mattei offers us a vivid portrait about human relations. This is a movie that seems to be telling us what money, power and success do to people in the different situations we encounter. <br /><br />This being a variation on the Arthur Schnitzler's play about the same theme, the director transfers the action to the present time New York where all these different characters meet and connect. Each one is connected in one way, or another to the next person, but no one seems to know the previous point of contact. Stylishly, the film has a sophisticated luxurious look. We are taken to see how these people live and the world they live in their own habitat.<br /><br />The only thing one gets out of all these souls in the picture is the different stages of loneliness each one inhabits. A big city is not exactly the best place in which human relations find sincere fulfillment, as one discerns is the case with most of the people we encounter.<br /><br />The acting is good under Mr. Mattei's direction. Steve Buscemi, Rosario Dawson, Carol Kane, Michael Imperioli, Adrian Grenier, and the rest of the talented cast, make these characters come alive.<br /><br />We wish Mr. Mattei good luck and await anxiously for his next work.\n"
     ]
    }
   ],
   "source": [
    "for i in range(0,5): \n",
    "    print(df['review'].iloc[i])"
   ]
  },
  {
   "cell_type": "markdown",
   "metadata": {
    "id": "fcIjeLLk0sE2"
   },
   "source": []
  },
  {
   "cell_type": "markdown",
   "metadata": {
    "id": "QaDPP2Ei5k8W"
   },
   "source": [
    "### Part (ii) [1pt EXPLORATORY] - summary statistics - done\n",
    "\n",
    "Perform summary statistics on the dataset. What is the average character length of a review? What are the lengths of the longest and shortest reviews?\n",
    "\n",
    "How many positive reviews and negative reviews are there. Generate a histogram to compare the average character length for positive and negative reviews. Comment on the differences in positive and negative reviews and how that may affect the model you will be using later.\n",
    "\n",
    "> * The positive reviews tend to have a higher character length than negative reviews. However, their distribution is actually pretty close as we can see in the distribution plots below.\n",
    "> * There is a low risk that the model ends up considering the length as a feature and bias positive reviews to be longer than negative. However, because this difference is only ~3% from each other, I don't think this will be material. "
   ]
  },
  {
   "cell_type": "code",
   "execution_count": 14,
   "metadata": {},
   "outputs": [
    {
     "name": "stdout",
     "output_type": "stream",
     "text": [
      "sentiment\n",
      "negative    1294.06436\n",
      "positive    1324.79768\n",
      "Name: review_length, dtype: float64\n"
     ]
    },
    {
     "data": {
      "image/png": "[encoded data removed]",
      "text/plain": [
       "<Figure size 640x480 with 1 Axes>"
      ]
     },
     "metadata": {},
     "output_type": "display_data"
    }
   ],
   "source": [
    "import pandas as pd\n",
    "import matplotlib.pyplot as plt\n",
    "\n",
    "\n",
    "# Calculate the length of each review\n",
    "df['review_length'] = df['review'].str.len()\n",
    "\n",
    "# Group by sentiment and calculate the average length\n",
    "avg_lengths = df.groupby('sentiment')['review_length'].mean()\n",
    "\n",
    "print(avg_lengths)\n",
    "# Create histogram\n",
    "avg_lengths.plot(kind='bar', color=['blue', 'orange'])\n",
    "plt.title('Average Character Length of Reviews by Sentiment')\n",
    "plt.xlabel('Sentiment')\n",
    "plt.ylabel('Average Character Length')\n",
    "plt.xticks(rotation=0) \n",
    "plt.show()\n"
   ]
  },
  {
   "cell_type": "code",
   "execution_count": 15,
   "metadata": {},
   "outputs": [],
   "source": [
    "import seaborn as sns\n",
    "\n",
    "\n"
   ]
  },
  {
   "cell_type": "code",
   "execution_count": 16,
   "metadata": {},
   "outputs": [
    {
     "name": "stderr",
     "output_type": "stream",
     "text": [
      "/var/folders/tp/tgqd8prn2x1g474v7zwrxq7r0000gn/T/ipykernel_17886/1878161672.py:7: UserWarning: \n",
      "\n",
      "`distplot` is a deprecated function and will be removed in seaborn v0.14.0.\n",
      "\n",
      "Please adapt your code to use either `displot` (a figure-level function with\n",
      "similar flexibility) or `histplot` (an axes-level function for histograms).\n",
      "\n",
      "For a guide to updating your code to use the new functions, please see\n",
      "https://gist.github.com/mwaskom/de44147ed2974457ad6372750bbe5751\n",
      "\n",
      "  sns.distplot(review_lengths_positive, label='review length (positive)')\n",
      "/var/folders/tp/tgqd8prn2x1g474v7zwrxq7r0000gn/T/ipykernel_17886/1878161672.py:11: UserWarning: \n",
      "\n",
      "`distplot` is a deprecated function and will be removed in seaborn v0.14.0.\n",
      "\n",
      "Please adapt your code to use either `displot` (a figure-level function with\n",
      "similar flexibility) or `histplot` (an axes-level function for histograms).\n",
      "\n",
      "For a guide to updating your code to use the new functions, please see\n",
      "https://gist.github.com/mwaskom/de44147ed2974457ad6372750bbe5751\n",
      "\n",
      "  sns.distplot(review_lengths_negative, label='review length (negative)')\n"
     ]
    },
    {
     "data": {
      "image/png": "[encoded data removed]",
      "text/plain": [
       "<Figure size 640x480 with 1 Axes>"
      ]
     },
     "metadata": {},
     "output_type": "display_data"
    }
   ],
   "source": [
    "review_lengths = [len(x) for x in list(df['review'])]\n",
    "\n",
    "\n",
    "plt.axvline(x = np.mean(review_lengths), label=f'mean char length for reviews: {np.mean(review_lengths)}')\n",
    "\n",
    "review_lengths_positive = [len(x) for x in list(df[df['sentiment']=='positive']['review'])]\n",
    "sns.distplot(review_lengths_positive, label='review length (positive)')\n",
    "plt.axvline(x = np.mean(review_lengths_positive), label=f'mean char length for positive reviews: {np.mean(review_lengths_positive)}')\n",
    "\n",
    "review_lengths_negative = [len(x) for x in list(df[df['sentiment']=='negative']['review'])]\n",
    "sns.distplot(review_lengths_negative, label='review length (negative)')\n",
    "plt.axvline(x = np.mean(review_lengths_negative), label=f'mean char length for negative reviews: {np.mean(review_lengths_negative)}')\n",
    "plt.legend()\n",
    "plt.show()\n",
    "\n",
    "\n",
    "\n",
    "\n",
    "\n"
   ]
  },
  {
   "cell_type": "markdown",
   "metadata": {
    "id": "ShOy3jp2zpRx"
   },
   "source": [
    "### Part (iii) [1pt EXPLORATORY] - description of the functions - done \n",
    "\n",
    "The following helper code will be used to process the data before we can train our LSTM model. In point form comment on what processing steps are performed in the code provided below and why these steps are necessary or beneficial to training and LSTM."
   ]
  },
  {
   "cell_type": "code",
   "execution_count": 17,
   "metadata": {
    "colab": {
     "base_uri": "https://localhost:8080/",
     "height": 140
    },
    "id": "6aamEcrqCqtU",
    "outputId": "51acbd84-f4a4-4c92-f1fc-956d5857903a"
   },
   "outputs": [
    {
     "data": {
      "text/plain": [
       "\"One of the other reviewers has mentioned that after watching just 1 Oz episode you'll be hooked. They are right, as this is exactly what happened with me.<br /><br />The first thing that struck me about Oz was its brutality and unflinching scenes of violence, which set in right from the word GO. Trust me, this is not a show for the faint hearted or timid. This show pulls no punches with regards to drugs, sex or violence. Its is hardcore, in the classic use of the word.<br /><br />It is called OZ as that is the nickname given to the Oswald Maximum Security State Penitentary. It focuses mainly on Emerald City, an experimental section of the prison where all the cells have glass fronts and face inwards, so privacy is not high on the agenda. Em City is home to many..Aryans, Muslims, gangstas, Latinos, Christians, Italians, Irish and more....so scuffles, death stares, dodgy dealings and shady agreements are never far away.<br /><br />I would say the main appeal of the show is due to the fact that it goes where other shows wouldn't dare. Forget pretty pictures painted for mainstream audiences, forget charm, forget romance...OZ doesn't mess around. The first episode I ever saw struck me as so nasty it was surreal, I couldn't say I was ready for it, but as I watched more, I developed a taste for Oz, and got accustomed to the high levels of graphic violence. Not just violence, but injustice (crooked guards who'll be sold out for a nickel, inmates who'll kill on order and get away with it, well mannered, middle class inmates being turned into prison bitches due to their lack of street skills or prison experience) Watching Oz, you may become comfortable with what is uncomfortable viewing....thats if you can get in touch with your darker side.\""
      ]
     },
     "execution_count": 17,
     "metadata": {},
     "output_type": "execute_result"
    }
   ],
   "source": [
    "X[0]"
   ]
  },
  {
   "cell_type": "code",
   "execution_count": 18,
   "metadata": {},
   "outputs": [
    {
     "name": "stderr",
     "output_type": "stream",
     "text": [
      "/Users/aordorica/miniforge3/envs/pytorch_env/lib/python3.9/site-packages/tqdm/auto.py:21: TqdmWarning: IProgress not found. Please update jupyter and ipywidgets. See https://ipywidgets.readthedocs.io/en/stable/user_install.html\n",
      "  from .autonotebook import tqdm as notebook_tqdm\n"
     ]
    }
   ],
   "source": [
    "import tensorflow_datasets as tfds"
   ]
  },
  {
   "cell_type": "code",
   "execution_count": 19,
   "metadata": {},
   "outputs": [],
   "source": [
    "import tensorflow\n",
    "raw_train_set, raw_valid_Set, raw_test_set = tfds.load(\n",
    "    name= 'imdb_reviews', \n",
    "    split=['train[:90%]', 'train[90%:]', 'test'], as_supervised=True\n",
    "    \n",
    ")\n",
    "\n"
   ]
  },
  {
   "cell_type": "code",
   "execution_count": 20,
   "metadata": {},
   "outputs": [
    {
     "name": "stdout",
     "output_type": "stream",
     "text": [
      "This was an absolutely terrible movie. Don't be lured in by Christopher Walken or Michael Ironside. Both are great actors, but this must simply be their worst role in history. Even their great acting could not redeem this movie's ridiculous storyline. This movie is an early nineties US propaganda piece. The most pathetic scenes were those when the Columbian rebels were making their cases for revolutions. Maria Conchita Alonso appeared phony, and her pseudo-love affair with Walken was nothing but a pathetic emotional plug in a movie that was devoid of any real meaning. I am disappointed that there are movies like this, ruining actor's like Christopher Walken's good name. I could barely sit through it.\n",
      "Label: 0\n",
      "I have been known to fall asleep during films, but this is usually due to a combination of things including, really tired, being warm and comfortable on the sette and having just eaten a lot. However on this occasion I fell asleep because the film was rubbish. The plot development was constant. Constantly slow and boring. Things seemed to happen, but with no explanation of what was causing them or why. I admit, I may have missed part of the film, but i watched the majority of it and everything just seemed to happen of its own accord without any real concern for anything else. I cant recommend this film at all.\n",
      "Label: 0\n",
      "Mann photographs the Alberta Rocky Mountains in a superb fashion, and Jimmy Stewart and Walter Brennan give enjoyable performances as they always seem to do. <br /><br />But come on Hollywood - a Mountie telling the people of Dawson City, Yukon to elect themselves a marshal (yes a marshal!) and to enforce the law themselves, then gunfighters battling it out on the streets for control of the town? <br /><br />Nothing even remotely resembling that happened on the Canadian side of the border during the Klondike gold rush. Mr. Mann and company appear to have mistaken Dawson City for Deadwood, the Canadian North for the American Wild West.<br /><br />Canadian viewers be prepared for a Reefer Madness type of enjoyable howl with this ludicrous plot, or, to shake your head in disgust.\n",
      "Label: 0\n",
      "This is the kind of film for a snowy Sunday afternoon when the rest of the world can go ahead with its own business as you descend into a big arm-chair and mellow for a couple of hours. Wonderful performances from Cher and Nicolas Cage (as always) gently row the plot along. There are no rapids to cross, no dangerous waters, just a warm and witty paddle through New York life at its best. A family film in every sense and one that deserves the praise it received.\n",
      "Label: 1\n"
     ]
    },
    {
     "name": "stderr",
     "output_type": "stream",
     "text": [
      "2023-11-18 13:00:14.622000: W tensorflow/core/kernels/data/cache_dataset_ops.cc:858] The calling iterator did not fully read the dataset being cached. In order to avoid unexpected truncation of the dataset, the partially cached contents of the dataset  will be discarded. This can happen if you have an input pipeline similar to `dataset.cache().take(k).repeat()`. You should use `dataset.take(k).cache().repeat()` instead.\n"
     ]
    }
   ],
   "source": [
    "for review, label in raw_train_set.take(4): \n",
    "    print(review.numpy().decode('utf-8'))\n",
    "    print(\"Label:\", label.numpy())"
   ]
  },
  {
   "cell_type": "code",
   "execution_count": 21,
   "metadata": {},
   "outputs": [
    {
     "data": {
      "text/plain": [
       "[\"This was an absolutely terrible movie. Don't be lured in by Christopher Walken or Michael Ironside. Both are great actors, but this must simply be their worst role in history. Even their great acting could not redeem this movie's ridiculous storyline. This movie is an early nineties US propaganda piece. The most pathetic scenes were those when the Columbian rebels were making their cases for revolutions. Maria Conchita Alonso appeared phony, and her pseudo-love affair with Walken was nothing but a pathetic emotional plug in a movie that was devoid of any real meaning. I am disappointed that there are movies like this, ruining actor's like Christopher Walken's good name. I could barely sit through it.\"]"
      ]
     },
     "execution_count": 21,
     "metadata": {},
     "output_type": "execute_result"
    }
   ],
   "source": [
    "[x for x in list(df['review']) if 'This was an absolutely terrible movie' in x]"
   ]
  },
  {
   "cell_type": "code",
   "execution_count": 22,
   "metadata": {},
   "outputs": [
    {
     "data": {
      "text/html": [
       "<div>\n",
       "<style scoped>\n",
       "    .dataframe tbody tr th:only-of-type {\n",
       "        vertical-align: middle;\n",
       "    }\n",
       "\n",
       "    .dataframe tbody tr th {\n",
       "        vertical-align: top;\n",
       "    }\n",
       "\n",
       "    .dataframe thead th {\n",
       "        text-align: right;\n",
       "    }\n",
       "</style>\n",
       "<table border=\"1\" class=\"dataframe\">\n",
       "  <thead>\n",
       "    <tr style=\"text-align: right;\">\n",
       "      <th></th>\n",
       "      <th>review</th>\n",
       "      <th>sentiment</th>\n",
       "      <th>review_length</th>\n",
       "    </tr>\n",
       "  </thead>\n",
       "  <tbody>\n",
       "    <tr>\n",
       "      <th>0</th>\n",
       "      <td>One of the other reviewers has mentioned that ...</td>\n",
       "      <td>positive</td>\n",
       "      <td>1761</td>\n",
       "    </tr>\n",
       "    <tr>\n",
       "      <th>1</th>\n",
       "      <td>A wonderful little production. &lt;br /&gt;&lt;br /&gt;The...</td>\n",
       "      <td>positive</td>\n",
       "      <td>998</td>\n",
       "    </tr>\n",
       "    <tr>\n",
       "      <th>2</th>\n",
       "      <td>I thought this was a wonderful way to spend ti...</td>\n",
       "      <td>positive</td>\n",
       "      <td>926</td>\n",
       "    </tr>\n",
       "    <tr>\n",
       "      <th>3</th>\n",
       "      <td>Basically there's a family where a little boy ...</td>\n",
       "      <td>negative</td>\n",
       "      <td>748</td>\n",
       "    </tr>\n",
       "    <tr>\n",
       "      <th>4</th>\n",
       "      <td>Petter Mattei's \"Love in the Time of Money\" is...</td>\n",
       "      <td>positive</td>\n",
       "      <td>1317</td>\n",
       "    </tr>\n",
       "  </tbody>\n",
       "</table>\n",
       "</div>"
      ],
      "text/plain": [
       "                                              review sentiment  review_length\n",
       "0  One of the other reviewers has mentioned that ...  positive           1761\n",
       "1  A wonderful little production. <br /><br />The...  positive            998\n",
       "2  I thought this was a wonderful way to spend ti...  positive            926\n",
       "3  Basically there's a family where a little boy ...  negative            748\n",
       "4  Petter Mattei's \"Love in the Time of Money\" is...  positive           1317"
      ]
     },
     "execution_count": 22,
     "metadata": {},
     "output_type": "execute_result"
    }
   ],
   "source": [
    "df.head()"
   ]
  },
  {
   "cell_type": "code",
   "execution_count": 23,
   "metadata": {
    "id": "tAjcY6oPz61e"
   },
   "outputs": [],
   "source": [
    "def preprocess_string(str1):\n",
    "    # remove all non-word characters excluding number and letters\n",
    "    str1= re.sub(r\"[^\\w\\s]\",'',str1)\n",
    "    # remove all whitespace with no space\n",
    "    str1= re.sub(r\"\\s\",'',str1)\n",
    "    # replace digits with no space\n",
    "    str1= re.sub(r\"\\d\",'',str1)\n",
    "    return str1\n",
    "\n",
    "def preprocess_sentence(sen1):\n",
    "    word_list=[]\n",
    "    stop_word = set(stopwords.words(\"english\"))\n",
    "    for word in sen1.lower().split():\n",
    "        word = preprocess_string(word)\n",
    "        if word not in stop_word and word!='':\n",
    "            word_list.append(word)\n",
    "    return word_list\n",
    "\n",
    "def get_stoi(data):\n",
    "    word_list=[]\n",
    "    for review in data:\n",
    "        word_list.extend(preprocess_sentence(review))\n",
    "    corpus = Counter(word_list)\n",
    "    print(corpus.get)\n",
    "    # sorting on the basis of most common words\n",
    "    corpus_ =sorted(corpus,key= corpus.get,reverse=True)[:1000]\n",
    "    # creating a dict\n",
    "    stoi =  {ch:i+1 for i,ch in enumerate(corpus_)}\n",
    "    return stoi\n",
    "\n",
    "def tokenize(data, labels, stoi):\n",
    "    # tokenize\n",
    "    data_encoded = []\n",
    "    for review in data:\n",
    "        data_encoded.append([stoi[word] for word in preprocess_sentence(review)\n",
    "                                     if word in stoi.keys()])\n",
    "\n",
    "    labels_encoded = [1 if label =='positive' else 0 for label in labels]\n",
    "\n",
    "    return np.array(data_encoded), np.array(labels_encoded)\n",
    "\n",
    "def padding_(sentences, seq_len):\n",
    "    features = np.zeros((len(sentences), seq_len),dtype=int)\n",
    "    for ii, review in enumerate(sentences):\n",
    "        if len(review)!=0:\n",
    "            features[ii, -len(review):] = np.array(review)[:seq_len]\n",
    "\n",
    "    return features"
   ]
  },
  {
   "cell_type": "markdown",
   "metadata": {
    "id": "CHDGI2rn12G_"
   },
   "source": [
    "#### `preprocess_string(str1)`\n",
    "> `preprocess_string(str1)` removes all non-word characters excluding number and letters. This can get rid of the html brackets like the ones in `<br /><br />`.\n",
    "\n",
    "#### `preprocess_sentence(sen1)`\n",
    "\n",
    "> `preprocess_sentence(sen1)` uses `stop_word = set(stopwords.words(\"english\"))` to create a set of English stop words using the stopwords resource from a library like NLTK. Stop words are common words (like \"the\", \"is\", \"in\") that are often removed in natural language processing because they're usually not informative for tasks like sentiment analysis. This function then converts the sentence to lowercase to ensure consistency in capitalization, so that capitalization does not alter the sentiment in the sentence.\n",
    "> * The sentence is then split into individual words and uses the `preprocess_string` function defined above to remove non-word characters, white spaces, and digits. The function returns `word_list`, which contains the preprocessed words from the original sentence that are neither stop words nor empty strings.\n",
    "\n",
    "#### `get_stoi(data)` \n",
    "> Processes the entire dataset to create a condensed vocabulary of the most frequent words and then generates a mapping from these words to unique integer indices. This mapping is crucial for converting textual data into a numerical format that can be used by machine learning models. This step reduces the vocabulary to the most common words, which is often beneficial in reducing the complexity of the model and focusing on the most relevant words. For example: \n",
    "> ```\n",
    "{'oz': 1,\n",
    " 'right': 2,\n",
    " 'br': 3,\n",
    " 'violence': 4,\n",
    " 'show': 5,\n",
    " 'one': 6,\n",
    " 'reviewers': 7,\n",
    " 'mentioned': 8,\n",
    " 'watching': 9,\n",
    " 'episode': 10,\n",
    " 'youll': 11,\n",
    " 'hooked': 12,\n",
    " 'exactly': 13,\n",
    " 'happened': 14,\n",
    "...\n",
    " 'classic': 35,\n",
    " 'use': 36,\n",
    " 'wordbr': 37}\n",
    "    ```\n",
    "\n",
    "\n",
    "#### `tokenize(data, labels, stoi)`\n",
    "> This function function performs two key tasks: it tokenizes and encodes the text data (data) and also encodes the sentiment labels. The purpose of this function is to convert the raw text data into a numerical format that can be processed by machine learning models, specifically models like LSTMs that require numerical input. The encoding of labels into a binary format is also essential for the model to perform classification tasks, such as sentiment analysis.\n",
    "\n",
    "#### `padding_(sentences, seq_len)`\n",
    "> * The `padding_` function performs padding of the tokenized and encoded sentence sequences to ensure they all have the same length. This is a crucial step when preparing data for training neural network models, especially models like LSTMs that require input sequences of uniform length. `seq_len` establishes the baseline length of these sequences and the function replaces the empty spots with zeros. For each sentence (`review`), it checks if the sentence is non-empty.\n",
    "> * If the sentence is non-empty, it pads the sentence to ensure that it has a consistent length of `seq_len`.\n",
    "> * If the sentence is longer than `seq_len`, it is truncated to fit the specified length.\n",
    "> *  The line `features[ii, -len(review):] = np.array(review)[:seq_len]`  If the length of the review is less than seq_len, the beginning of this row will remain zeros, effectively adding zeros (padding) at the beginning of the sequence."
   ]
  },
  {
   "cell_type": "code",
   "execution_count": 24,
   "metadata": {},
   "outputs": [
    {
     "data": {
      "text/plain": [
       "['one',\n",
       " 'reviewers',\n",
       " 'mentioned',\n",
       " 'watching',\n",
       " 'oz',\n",
       " 'episode',\n",
       " 'youll',\n",
       " 'hooked',\n",
       " 'right',\n",
       " 'exactly',\n",
       " 'happened',\n",
       " 'mebr',\n",
       " 'br',\n",
       " 'first',\n",
       " 'thing',\n",
       " 'struck',\n",
       " 'oz',\n",
       " 'brutality',\n",
       " 'unflinching',\n",
       " 'scenes',\n",
       " 'violence',\n",
       " 'set',\n",
       " 'right',\n",
       " 'word',\n",
       " 'go',\n",
       " 'trust',\n",
       " 'show',\n",
       " 'faint',\n",
       " 'hearted',\n",
       " 'timid',\n",
       " 'show',\n",
       " 'pulls',\n",
       " 'punches',\n",
       " 'regards',\n",
       " 'drugs',\n",
       " 'sex',\n",
       " 'violence',\n",
       " 'hardcore',\n",
       " 'classic',\n",
       " 'use',\n",
       " 'wordbr',\n",
       " 'br']"
      ]
     },
     "execution_count": 24,
     "metadata": {},
     "output_type": "execute_result"
    }
   ],
   "source": [
    "str1=\"\"\"One of the other reviewers has mentioned that after watching just 1 Oz episode you'll be hooked. \n",
    "They are right, as this is exactly what happened with me.<br /><br />The first thing that struck me about Oz was its brutality and unflinching scenes of violence, which set in right from the word GO. Trust me, this is not a show for the faint hearted or timid. This show pulls no punches with regards to drugs, sex or violence. Its is hardcore, in the classic use of the word.<br /><br />I\n",
    "\"\"\"\n",
    "preprocess_sentence(str1)"
   ]
  },
  {
   "cell_type": "code",
   "execution_count": 25,
   "metadata": {},
   "outputs": [
    {
     "name": "stdout",
     "output_type": "stream",
     "text": [
      "<built-in method get of Counter object at 0x2b21408b0>\n"
     ]
    },
    {
     "data": {
      "text/plain": [
       "{'e': 1,\n",
       " 'h': 2,\n",
       " 'r': 3,\n",
       " 'n': 4,\n",
       " 'c': 5,\n",
       " 'w': 6,\n",
       " 'u': 7,\n",
       " 'l': 8,\n",
       " 'f': 9,\n",
       " 'g': 10,\n",
       " 'b': 11,\n",
       " 'p': 12,\n",
       " 'v': 13,\n",
       " 'z': 14,\n",
       " 'k': 15,\n",
       " 'x': 16,\n",
       " 'j': 17}"
      ]
     },
     "execution_count": 25,
     "metadata": {},
     "output_type": "execute_result"
    }
   ],
   "source": [
    "get_stoi(str1)"
   ]
  },
  {
   "cell_type": "code",
   "execution_count": 26,
   "metadata": {},
   "outputs": [
    {
     "name": "stdout",
     "output_type": "stream",
     "text": [
      "<built-in method get of Counter object at 0x2b2140630>\n"
     ]
    },
    {
     "data": {
      "text/plain": [
       "{'oz': 1,\n",
       " 'right': 2,\n",
       " 'br': 3,\n",
       " 'violence': 4,\n",
       " 'show': 5,\n",
       " 'one': 6,\n",
       " 'reviewers': 7,\n",
       " 'mentioned': 8,\n",
       " 'watching': 9,\n",
       " 'episode': 10,\n",
       " 'youll': 11,\n",
       " 'hooked': 12,\n",
       " 'exactly': 13,\n",
       " 'happened': 14,\n",
       " 'mebr': 15,\n",
       " 'first': 16,\n",
       " 'thing': 17,\n",
       " 'struck': 18,\n",
       " 'brutality': 19,\n",
       " 'unflinching': 20,\n",
       " 'scenes': 21,\n",
       " 'set': 22,\n",
       " 'word': 23,\n",
       " 'go': 24,\n",
       " 'trust': 25,\n",
       " 'faint': 26,\n",
       " 'hearted': 27,\n",
       " 'timid': 28,\n",
       " 'pulls': 29,\n",
       " 'punches': 30,\n",
       " 'regards': 31,\n",
       " 'drugs': 32,\n",
       " 'sex': 33,\n",
       " 'hardcore': 34,\n",
       " 'classic': 35,\n",
       " 'use': 36,\n",
       " 'wordbr': 37}"
      ]
     },
     "execution_count": 26,
     "metadata": {},
     "output_type": "execute_result"
    }
   ],
   "source": [
    "get_stoi(preprocess_sentence(str1))"
   ]
  },
  {
   "cell_type": "code",
   "execution_count": 27,
   "metadata": {},
   "outputs": [
    {
     "data": {
      "text/plain": [
       "'One of the other reviewers has mentioned that after watching just 1 Oz episode youll be hooked \\nThey are right as this is exactly what happened with mebr br The first thing that struck me about Oz was its brutality and unflinching scenes of violence which set in right from the word GO Trust me this is not a show for the faint hearted or timid This show pulls no punches with regards to drugs sex or violence Its is hardcore in the classic use of the wordbr br I\\n'"
      ]
     },
     "execution_count": 27,
     "metadata": {},
     "output_type": "execute_result"
    }
   ],
   "source": [
    "\n",
    "re.sub(r\"[^\\w\\s]\",'',str1)"
   ]
  },
  {
   "cell_type": "code",
   "execution_count": 28,
   "metadata": {},
   "outputs": [
    {
     "data": {
      "text/plain": [
       "'One of the other reviewers has mentioned that after watching just 1 Oz episode youll be hooked \\nThey are right as this is exactly what happened with mebr br The first thing that struck me about Oz was its brutality and unflinching scenes of violence which set in right from the word GO Trust me this is not a show for the faint hearted or timid This show pulls no punches with regards to drugs sex or violence Its is hardcore in the classic use of the wordbr br I\\n'"
      ]
     },
     "execution_count": 28,
     "metadata": {},
     "output_type": "execute_result"
    }
   ],
   "source": [
    "re.sub(r\"[^\\w\\s]\", '', str1)\n"
   ]
  },
  {
   "cell_type": "code",
   "execution_count": 29,
   "metadata": {},
   "outputs": [
    {
     "data": {
      "text/plain": [
       "'<br/><br/>'"
      ]
     },
     "execution_count": 29,
     "metadata": {},
     "output_type": "execute_result"
    }
   ],
   "source": [
    "re.sub(r\"\\s\",'',\"<br /><br />\")"
   ]
  },
  {
   "cell_type": "markdown",
   "metadata": {
    "id": "ie_D0bv9a90k"
   },
   "source": [
    "### Part (iv) [1pt EXPLORATORY] - train/test split and data pre processing\n",
    "\n",
    "Split the dataset into `train`, `valid`, and `test`. Use a 60-20-20 split. Then apply the above processing steps to prepare your data for training.\n",
    "\n",
    "Set the padding of the reviews to 500."
   ]
  },
  {
   "cell_type": "code",
   "execution_count": 30,
   "metadata": {},
   "outputs": [
    {
     "data": {
      "text/html": [
       "<div>\n",
       "<style scoped>\n",
       "    .dataframe tbody tr th:only-of-type {\n",
       "        vertical-align: middle;\n",
       "    }\n",
       "\n",
       "    .dataframe tbody tr th {\n",
       "        vertical-align: top;\n",
       "    }\n",
       "\n",
       "    .dataframe thead th {\n",
       "        text-align: right;\n",
       "    }\n",
       "</style>\n",
       "<table border=\"1\" class=\"dataframe\">\n",
       "  <thead>\n",
       "    <tr style=\"text-align: right;\">\n",
       "      <th></th>\n",
       "      <th>review</th>\n",
       "      <th>sentiment</th>\n",
       "      <th>review_length</th>\n",
       "      <th>random_number</th>\n",
       "    </tr>\n",
       "  </thead>\n",
       "  <tbody>\n",
       "    <tr>\n",
       "      <th>0</th>\n",
       "      <td>One of the other reviewers has mentioned that ...</td>\n",
       "      <td>positive</td>\n",
       "      <td>1761</td>\n",
       "      <td>0.726664</td>\n",
       "    </tr>\n",
       "    <tr>\n",
       "      <th>1</th>\n",
       "      <td>A wonderful little production. &lt;br /&gt;&lt;br /&gt;The...</td>\n",
       "      <td>positive</td>\n",
       "      <td>998</td>\n",
       "      <td>0.574499</td>\n",
       "    </tr>\n",
       "    <tr>\n",
       "      <th>2</th>\n",
       "      <td>I thought this was a wonderful way to spend ti...</td>\n",
       "      <td>positive</td>\n",
       "      <td>926</td>\n",
       "      <td>0.503340</td>\n",
       "    </tr>\n",
       "    <tr>\n",
       "      <th>3</th>\n",
       "      <td>Basically there's a family where a little boy ...</td>\n",
       "      <td>negative</td>\n",
       "      <td>748</td>\n",
       "      <td>0.772244</td>\n",
       "    </tr>\n",
       "    <tr>\n",
       "      <th>4</th>\n",
       "      <td>Petter Mattei's \"Love in the Time of Money\" is...</td>\n",
       "      <td>positive</td>\n",
       "      <td>1317</td>\n",
       "      <td>0.774763</td>\n",
       "    </tr>\n",
       "  </tbody>\n",
       "</table>\n",
       "</div>"
      ],
      "text/plain": [
       "                                              review sentiment  review_length  \\\n",
       "0  One of the other reviewers has mentioned that ...  positive           1761   \n",
       "1  A wonderful little production. <br /><br />The...  positive            998   \n",
       "2  I thought this was a wonderful way to spend ti...  positive            926   \n",
       "3  Basically there's a family where a little boy ...  negative            748   \n",
       "4  Petter Mattei's \"Love in the Time of Money\" is...  positive           1317   \n",
       "\n",
       "   random_number  \n",
       "0       0.726664  \n",
       "1       0.574499  \n",
       "2       0.503340  \n",
       "3       0.772244  \n",
       "4       0.774763  "
      ]
     },
     "execution_count": 30,
     "metadata": {},
     "output_type": "execute_result"
    }
   ],
   "source": [
    "import pandas as pd\n",
    "import numpy as np\n",
    "# Assigning a random number between 0 and 1 to each row in the DataFrame\n",
    "df['random_number'] = np.random.rand(df.shape[0])\n",
    "df.head()"
   ]
  },
  {
   "cell_type": "code",
   "execution_count": 31,
   "metadata": {},
   "outputs": [
    {
     "name": "stderr",
     "output_type": "stream",
     "text": [
      "/var/folders/tp/tgqd8prn2x1g474v7zwrxq7r0000gn/T/ipykernel_17886/3062769337.py:1: UserWarning: \n",
      "\n",
      "`distplot` is a deprecated function and will be removed in seaborn v0.14.0.\n",
      "\n",
      "Please adapt your code to use either `displot` (a figure-level function with\n",
      "similar flexibility) or `histplot` (an axes-level function for histograms).\n",
      "\n",
      "For a guide to updating your code to use the new functions, please see\n",
      "https://gist.github.com/mwaskom/de44147ed2974457ad6372750bbe5751\n",
      "\n",
      "  sns.distplot(df['random_number'])\n"
     ]
    },
    {
     "data": {
      "text/plain": [
       "<Axes: xlabel='random_number', ylabel='Density'>"
      ]
     },
     "execution_count": 31,
     "metadata": {},
     "output_type": "execute_result"
    },
    {
     "data": {
      "image/png": "[encoded data removed]",
      "text/plain": [
       "<Figure size 640x480 with 1 Axes>"
      ]
     },
     "metadata": {},
     "output_type": "display_data"
    }
   ],
   "source": [
    "sns.distplot(df['random_number'])"
   ]
  },
  {
   "cell_type": "markdown",
   "metadata": {},
   "source": [
    "#### Splitting the dataset based on the random number for a 60-20-20 split"
   ]
  },
  {
   "cell_type": "code",
   "execution_count": 32,
   "metadata": {},
   "outputs": [
    {
     "data": {
      "text/plain": [
       "(                                                  review sentiment  \\\n",
       " 1      A wonderful little production. <br /><br />The...  positive   \n",
       " 2      I thought this was a wonderful way to spend ti...  positive   \n",
       " 6      I sure would like to see a resurrection of a u...  positive   \n",
       " 8      Encouraged by the positive comments about this...  negative   \n",
       " 9      If you like original gut wrenching laughter yo...  positive   \n",
       " ...                                                  ...       ...   \n",
       " 49992  John Garfield plays a Marine who is blinded by...  positive   \n",
       " 49994  This is your typical junk comedy.<br /><br />T...  negative   \n",
       " 49995  I thought this movie did a down right good job...  positive   \n",
       " 49998  I'm going to have to disagree with the previou...  negative   \n",
       " 49999  No one expects the Star Trek movies to be high...  negative   \n",
       " \n",
       "        review_length  \n",
       " 1                998  \n",
       " 2                926  \n",
       " 6                726  \n",
       " 8                681  \n",
       " 9                176  \n",
       " ...              ...  \n",
       " 49992            968  \n",
       " 49994            759  \n",
       " 49995           1008  \n",
       " 49998           1234  \n",
       " 49999            678  \n",
       " \n",
       " [29839 rows x 3 columns],\n",
       "                                                   review sentiment  \\\n",
       " 0      One of the other reviewers has mentioned that ...  positive   \n",
       " 3      Basically there's a family where a little boy ...  negative   \n",
       " 4      Petter Mattei's \"Love in the Time of Money\" is...  positive   \n",
       " 7      This show was an amazing, fresh & innovative i...  negative   \n",
       " 11     I saw this movie when I was about 12 when it c...  negative   \n",
       " ...                                                  ...       ...   \n",
       " 49964  I saw this last week during Bruce Campbell's b...  positive   \n",
       " 49969  I must admit that this is one of the worst mov...  negative   \n",
       " 49975  90 minutes of Mindy...Mindy is a tease to boyf...  negative   \n",
       " 49991  Les Visiteurs, the first movie about the medie...  negative   \n",
       " 49997  I am a Catholic taught in parochial elementary...  negative   \n",
       " \n",
       "        review_length  \n",
       " 0               1761  \n",
       " 3                748  \n",
       " 4               1317  \n",
       " 7                934  \n",
       " 11               937  \n",
       " ...              ...  \n",
       " 49964           1227  \n",
       " 49969            304  \n",
       " 49975           1317  \n",
       " 49991           1498  \n",
       " 49997           1280  \n",
       " \n",
       " [9970 rows x 3 columns],\n",
       "                                                   review sentiment  \\\n",
       " 5      Probably my all-time favorite movie, a story o...  positive   \n",
       " 15     Kind of drawn in by the erotic scenes, only to...  negative   \n",
       " 18     I remember this film,it was the first film i h...  positive   \n",
       " 21     I had the terrible misfortune of having to vie...  negative   \n",
       " 31     \"Ardh Satya\" is one of the finest film ever ma...  positive   \n",
       " ...                                                  ...       ...   \n",
       " 49948  It is the early morning of our discontent, and...  negative   \n",
       " 49950  This was a very brief episode that appeared in...  negative   \n",
       " 49990  Lame, lame, lame!!! A 90-minute cringe-fest th...  negative   \n",
       " 49993  Robert Colomb has two full-time jobs. He's kno...  negative   \n",
       " 49996  Bad plot, bad dialogue, bad acting, idiotic di...  negative   \n",
       " \n",
       "        review_length  \n",
       " 5                656  \n",
       " 15               830  \n",
       " 18               639  \n",
       " 21              1020  \n",
       " 31              2250  \n",
       " ...              ...  \n",
       " 49948           5847  \n",
       " 49950           1075  \n",
       " 49990            799  \n",
       " 49993           2717  \n",
       " 49996            642  \n",
       " \n",
       " [10191 rows x 3 columns])"
      ]
     },
     "execution_count": 32,
     "metadata": {},
     "output_type": "execute_result"
    }
   ],
   "source": [
    "# Splitting the dataset based on the random number for a 60-20-20 split\n",
    "train_df = df[df['random_number'] <= 0.6]\n",
    "val_df = df[(df['random_number'] > 0.6) & (df['random_number'] <= 0.8)]\n",
    "test_df = df[df['random_number'] > 0.8]\n",
    "\n",
    "# You can now drop the 'random_number' column if it's no longer needed\n",
    "train_df = train_df.drop('random_number', axis=1)\n",
    "val_df = val_df.drop('random_number', axis=1)\n",
    "test_df = test_df.drop('random_number', axis=1)\n",
    "\n",
    "# The datasets are now split into train (60%), validation (20%), and test (20%) sets\n",
    "train_df, val_df, test_df"
   ]
  },
  {
   "cell_type": "markdown",
   "metadata": {},
   "source": [
    "### Steps to prepare data for training: \n",
    "1. **Preprocess the Reviews:** Apply `preprocess_sentence` to each review in the dataframe. This will tokenize the reviews, remove stopwords, and clean them.\n",
    "2. **Create a Vocabulary to Index Mapping (stoi):** Use the `get_stoi` function to create a dictionary that maps each unique word in your corpus to a unique integer. This is essential for encoding the words in your reviews into numerical format.\n",
    "3. **Tokenize and Encode the Labels:** Use the tokenize function to convert each review into a list of integers based on your stoi mapping. Also, encode the labels `('positive' and 'negative')` into binary format (1 and 0).\n",
    "4. **Pad the Sequences:** Use the `padding_ function` to pad the tokenized reviews to a fixed length of 500. This is necessary to ensure that all input sequences to your model are of the same length."
   ]
  },
  {
   "cell_type": "markdown",
   "metadata": {},
   "source": [
    "#### 1.Apply preprocess_sentence to the 'review' column"
   ]
  },
  {
   "cell_type": "code",
   "execution_count": 33,
   "metadata": {},
   "outputs": [
    {
     "data": {
      "text/html": [
       "<div>\n",
       "<style scoped>\n",
       "    .dataframe tbody tr th:only-of-type {\n",
       "        vertical-align: middle;\n",
       "    }\n",
       "\n",
       "    .dataframe tbody tr th {\n",
       "        vertical-align: top;\n",
       "    }\n",
       "\n",
       "    .dataframe thead th {\n",
       "        text-align: right;\n",
       "    }\n",
       "</style>\n",
       "<table border=\"1\" class=\"dataframe\">\n",
       "  <thead>\n",
       "    <tr style=\"text-align: right;\">\n",
       "      <th></th>\n",
       "      <th>review</th>\n",
       "      <th>sentiment</th>\n",
       "      <th>review_length</th>\n",
       "      <th>random_number</th>\n",
       "      <th>processed_review</th>\n",
       "    </tr>\n",
       "  </thead>\n",
       "  <tbody>\n",
       "    <tr>\n",
       "      <th>0</th>\n",
       "      <td>One of the other reviewers has mentioned that ...</td>\n",
       "      <td>positive</td>\n",
       "      <td>1761</td>\n",
       "      <td>0.726664</td>\n",
       "      <td>[one, reviewers, mentioned, watching, oz, epis...</td>\n",
       "    </tr>\n",
       "    <tr>\n",
       "      <th>1</th>\n",
       "      <td>A wonderful little production. &lt;br /&gt;&lt;br /&gt;The...</td>\n",
       "      <td>positive</td>\n",
       "      <td>998</td>\n",
       "      <td>0.574499</td>\n",
       "      <td>[wonderful, little, production, br, br, filmin...</td>\n",
       "    </tr>\n",
       "    <tr>\n",
       "      <th>2</th>\n",
       "      <td>I thought this was a wonderful way to spend ti...</td>\n",
       "      <td>positive</td>\n",
       "      <td>926</td>\n",
       "      <td>0.503340</td>\n",
       "      <td>[thought, wonderful, way, spend, time, hot, su...</td>\n",
       "    </tr>\n",
       "    <tr>\n",
       "      <th>3</th>\n",
       "      <td>Basically there's a family where a little boy ...</td>\n",
       "      <td>negative</td>\n",
       "      <td>748</td>\n",
       "      <td>0.772244</td>\n",
       "      <td>[basically, theres, family, little, boy, jake,...</td>\n",
       "    </tr>\n",
       "    <tr>\n",
       "      <th>4</th>\n",
       "      <td>Petter Mattei's \"Love in the Time of Money\" is...</td>\n",
       "      <td>positive</td>\n",
       "      <td>1317</td>\n",
       "      <td>0.774763</td>\n",
       "      <td>[petter, matteis, love, time, money, visually,...</td>\n",
       "    </tr>\n",
       "  </tbody>\n",
       "</table>\n",
       "</div>"
      ],
      "text/plain": [
       "                                              review sentiment  review_length  \\\n",
       "0  One of the other reviewers has mentioned that ...  positive           1761   \n",
       "1  A wonderful little production. <br /><br />The...  positive            998   \n",
       "2  I thought this was a wonderful way to spend ti...  positive            926   \n",
       "3  Basically there's a family where a little boy ...  negative            748   \n",
       "4  Petter Mattei's \"Love in the Time of Money\" is...  positive           1317   \n",
       "\n",
       "   random_number                                   processed_review  \n",
       "0       0.726664  [one, reviewers, mentioned, watching, oz, epis...  \n",
       "1       0.574499  [wonderful, little, production, br, br, filmin...  \n",
       "2       0.503340  [thought, wonderful, way, spend, time, hot, su...  \n",
       "3       0.772244  [basically, theres, family, little, boy, jake,...  \n",
       "4       0.774763  [petter, matteis, love, time, money, visually,...  "
      ]
     },
     "execution_count": 33,
     "metadata": {},
     "output_type": "execute_result"
    }
   ],
   "source": [
    "df['processed_review'] = df['review'].apply(preprocess_sentence)\n",
    "train_df['processed_review'] = train_df['review'].apply(preprocess_sentence)\n",
    "val_df['processed_review'] = val_df['review'].apply(preprocess_sentence)\n",
    "test_df['processed_review'] = test_df['review'].apply(preprocess_sentence)\n",
    "\n",
    "df.head()"
   ]
  },
  {
   "cell_type": "markdown",
   "metadata": {},
   "source": [
    "#### 2. Create `stoi` mapping based on training data only"
   ]
  },
  {
   "cell_type": "code",
   "execution_count": 34,
   "metadata": {},
   "outputs": [],
   "source": [
    "# Aggregate all words from all reviews\n",
    "all_words = []\n",
    "\n",
    "for review in train_df['review']:\n",
    "    processed_review = preprocess_sentence(review)\n",
    "    all_words.extend(processed_review)"
   ]
  },
  {
   "cell_type": "code",
   "execution_count": 35,
   "metadata": {},
   "outputs": [],
   "source": [
    "\n",
    "# Count the occurrences of each word\n",
    "word_count = Counter(all_words)\n",
    "# Create the stoi mapping\n",
    "stoi = {word: i + 1 for i, word in enumerate(word_count)}"
   ]
  },
  {
   "cell_type": "markdown",
   "metadata": {},
   "source": [
    "#### 3. Tokenize and Encode the Labels"
   ]
  },
  {
   "cell_type": "code",
   "execution_count": 36,
   "metadata": {},
   "outputs": [
    {
     "name": "stderr",
     "output_type": "stream",
     "text": [
      "/var/folders/tp/tgqd8prn2x1g474v7zwrxq7r0000gn/T/ipykernel_17886/626589820.py:40: VisibleDeprecationWarning: Creating an ndarray from ragged nested sequences (which is a list-or-tuple of lists-or-tuples-or ndarrays with different lengths or shapes) is deprecated. If you meant to do this, you must specify 'dtype=object' when creating the ndarray.\n",
      "  return np.array(data_encoded), np.array(labels_encoded)\n"
     ]
    }
   ],
   "source": [
    "train_tokenized_data, train_encoded_labels = tokenize(train_df['review'], train_df['sentiment'], stoi)\n",
    "val_tokenized_data, val_encoded_labels = tokenize(val_df['review'], val_df['sentiment'], stoi)\n",
    "test_tokenized_data, test_encoded_labels = tokenize(test_df['review'], test_df['sentiment'], stoi)\n"
   ]
  },
  {
   "cell_type": "markdown",
   "metadata": {},
   "source": [
    "##### 3.1 Visualizing example of how tokenization is working "
   ]
  },
  {
   "cell_type": "code",
   "execution_count": 37,
   "metadata": {},
   "outputs": [],
   "source": [
    "def find_keys_for_value(dictionary, target_value):\n",
    "    keys = [key for key, value in dictionary.items() if value == target_value]\n",
    "    return keys"
   ]
  },
  {
   "cell_type": "code",
   "execution_count": 38,
   "metadata": {},
   "outputs": [
    {
     "data": {
      "text/html": [
       "<div>\n",
       "<style scoped>\n",
       "    .dataframe tbody tr th:only-of-type {\n",
       "        vertical-align: middle;\n",
       "    }\n",
       "\n",
       "    .dataframe tbody tr th {\n",
       "        vertical-align: top;\n",
       "    }\n",
       "\n",
       "    .dataframe thead th {\n",
       "        text-align: right;\n",
       "    }\n",
       "</style>\n",
       "<table border=\"1\" class=\"dataframe\">\n",
       "  <thead>\n",
       "    <tr style=\"text-align: right;\">\n",
       "      <th></th>\n",
       "      <th>review</th>\n",
       "      <th>sentiment</th>\n",
       "      <th>review_length</th>\n",
       "      <th>processed_review</th>\n",
       "    </tr>\n",
       "  </thead>\n",
       "  <tbody>\n",
       "    <tr>\n",
       "      <th>1</th>\n",
       "      <td>A wonderful little production. &lt;br /&gt;&lt;br /&gt;The...</td>\n",
       "      <td>positive</td>\n",
       "      <td>998</td>\n",
       "      <td>[wonderful, little, production, br, br, filmin...</td>\n",
       "    </tr>\n",
       "    <tr>\n",
       "      <th>2</th>\n",
       "      <td>I thought this was a wonderful way to spend ti...</td>\n",
       "      <td>positive</td>\n",
       "      <td>926</td>\n",
       "      <td>[thought, wonderful, way, spend, time, hot, su...</td>\n",
       "    </tr>\n",
       "    <tr>\n",
       "      <th>6</th>\n",
       "      <td>I sure would like to see a resurrection of a u...</td>\n",
       "      <td>positive</td>\n",
       "      <td>726</td>\n",
       "      <td>[sure, would, like, see, resurrection, dated, ...</td>\n",
       "    </tr>\n",
       "    <tr>\n",
       "      <th>8</th>\n",
       "      <td>Encouraged by the positive comments about this...</td>\n",
       "      <td>negative</td>\n",
       "      <td>681</td>\n",
       "      <td>[encouraged, positive, comments, film, looking...</td>\n",
       "    </tr>\n",
       "    <tr>\n",
       "      <th>9</th>\n",
       "      <td>If you like original gut wrenching laughter yo...</td>\n",
       "      <td>positive</td>\n",
       "      <td>176</td>\n",
       "      <td>[like, original, gut, wrenching, laughter, lik...</td>\n",
       "    </tr>\n",
       "  </tbody>\n",
       "</table>\n",
       "</div>"
      ],
      "text/plain": [
       "                                              review sentiment  review_length  \\\n",
       "1  A wonderful little production. <br /><br />The...  positive            998   \n",
       "2  I thought this was a wonderful way to spend ti...  positive            926   \n",
       "6  I sure would like to see a resurrection of a u...  positive            726   \n",
       "8  Encouraged by the positive comments about this...  negative            681   \n",
       "9  If you like original gut wrenching laughter yo...  positive            176   \n",
       "\n",
       "                                    processed_review  \n",
       "1  [wonderful, little, production, br, br, filmin...  \n",
       "2  [thought, wonderful, way, spend, time, hot, su...  \n",
       "6  [sure, would, like, see, resurrection, dated, ...  \n",
       "8  [encouraged, positive, comments, film, looking...  \n",
       "9  [like, original, gut, wrenching, laughter, lik...  "
      ]
     },
     "execution_count": 38,
     "metadata": {},
     "output_type": "execute_result"
    }
   ],
   "source": [
    "train_df.head()"
   ]
  },
  {
   "cell_type": "code",
   "execution_count": 39,
   "metadata": {},
   "outputs": [
    {
     "data": {
      "text/plain": [
       "'A wonderful little production. <br /><br />The filming technique is very unassuming- very old-time-B'"
      ]
     },
     "execution_count": 39,
     "metadata": {},
     "output_type": "execute_result"
    }
   ],
   "source": [
    "train_df.head()['review'].iloc[0][0:100]"
   ]
  },
  {
   "cell_type": "code",
   "execution_count": 40,
   "metadata": {},
   "outputs": [
    {
     "name": "stdout",
     "output_type": "stream",
     "text": [
      "[1, 2, 3, 4, 4, 5, 6, 7, 8, 9]\n"
     ]
    }
   ],
   "source": [
    "print(train_tokenized_data[0][0:10])"
   ]
  },
  {
   "cell_type": "code",
   "execution_count": 41,
   "metadata": {},
   "outputs": [
    {
     "name": "stdout",
     "output_type": "stream",
     "text": [
      "wonderful\n",
      "little\n",
      "production\n",
      "br\n",
      "br\n",
      "filming\n",
      "technique\n",
      "unassuming\n",
      "oldtimebbc\n",
      "fashion\n"
     ]
    }
   ],
   "source": [
    "for token in train_tokenized_data[0][0:10]: \n",
    "    keys_with_target_value = find_keys_for_value(stoi, token)\n",
    "    print(keys_with_target_value[0])"
   ]
  },
  {
   "cell_type": "markdown",
   "metadata": {},
   "source": [
    "#### 4. Pad the Sequences"
   ]
  },
  {
   "cell_type": "code",
   "execution_count": 42,
   "metadata": {},
   "outputs": [
    {
     "name": "stderr",
     "output_type": "stream",
     "text": [
      "/var/folders/tp/tgqd8prn2x1g474v7zwrxq7r0000gn/T/ipykernel_17886/626589820.py:40: VisibleDeprecationWarning: Creating an ndarray from ragged nested sequences (which is a list-or-tuple of lists-or-tuples-or ndarrays with different lengths or shapes) is deprecated. If you meant to do this, you must specify 'dtype=object' when creating the ndarray.\n",
      "  return np.array(data_encoded), np.array(labels_encoded)\n"
     ]
    },
    {
     "data": {
      "text/plain": [
       "array([[    0,     0,     0, ...,    77,    20,    78],\n",
       "       [    0,     0,     0, ...,   152,    29,   153],\n",
       "       [    0,     0,     0, ...,   208,   152,   209],\n",
       "       ...,\n",
       "       [    0,     0,     0, ...,  4190,  2099,     4],\n",
       "       [    0,     0,     0, ..., 44050, 12481,   163],\n",
       "       [    0,     0,     0, ...,  6265,  2869,   263]])"
      ]
     },
     "execution_count": 42,
     "metadata": {},
     "output_type": "execute_result"
    }
   ],
   "source": [
    "# Set your desired sequence length\n",
    "sequence_length = 500\n",
    "\n",
    "# Pad the tokenized reviews\n",
    "\n",
    "tokenized_data, encoded_labels = tokenize(df['review'], df['sentiment'], stoi)\n",
    "\n",
    "train_tokenized_data, train_encoded_labels = tokenize(train_df['review'], train_df['sentiment'], stoi)\n",
    "val_tokenized_data, val_encoded_labels = tokenize(val_df['review'], val_df['sentiment'], stoi)\n",
    "test_tokenized_data, test_encoded_labels = tokenize(test_df['review'], test_df['sentiment'], stoi)\n",
    "\n",
    "\n",
    "\n",
    "train_padded_reviews = padding_(train_tokenized_data, sequence_length)\n",
    "val_padded_reviews = padding_(val_tokenized_data, sequence_length)\n",
    "test_padded_reviews = padding_(test_tokenized_data, sequence_length)\n",
    "\n",
    "train_padded_reviews"
   ]
  },
  {
   "cell_type": "code",
   "execution_count": null,
   "metadata": {},
   "outputs": [],
   "source": []
  },
  {
   "cell_type": "code",
   "execution_count": 43,
   "metadata": {},
   "outputs": [
    {
     "data": {
      "text/html": [
       "<div>\n",
       "<style scoped>\n",
       "    .dataframe tbody tr th:only-of-type {\n",
       "        vertical-align: middle;\n",
       "    }\n",
       "\n",
       "    .dataframe tbody tr th {\n",
       "        vertical-align: top;\n",
       "    }\n",
       "\n",
       "    .dataframe thead th {\n",
       "        text-align: right;\n",
       "    }\n",
       "</style>\n",
       "<table border=\"1\" class=\"dataframe\">\n",
       "  <thead>\n",
       "    <tr style=\"text-align: right;\">\n",
       "      <th></th>\n",
       "      <th>review</th>\n",
       "      <th>sentiment</th>\n",
       "      <th>review_length</th>\n",
       "      <th>processed_review</th>\n",
       "    </tr>\n",
       "  </thead>\n",
       "  <tbody>\n",
       "    <tr>\n",
       "      <th>1</th>\n",
       "      <td>A wonderful little production. &lt;br /&gt;&lt;br /&gt;The...</td>\n",
       "      <td>positive</td>\n",
       "      <td>998</td>\n",
       "      <td>[wonderful, little, production, br, br, filmin...</td>\n",
       "    </tr>\n",
       "    <tr>\n",
       "      <th>2</th>\n",
       "      <td>I thought this was a wonderful way to spend ti...</td>\n",
       "      <td>positive</td>\n",
       "      <td>926</td>\n",
       "      <td>[thought, wonderful, way, spend, time, hot, su...</td>\n",
       "    </tr>\n",
       "    <tr>\n",
       "      <th>6</th>\n",
       "      <td>I sure would like to see a resurrection of a u...</td>\n",
       "      <td>positive</td>\n",
       "      <td>726</td>\n",
       "      <td>[sure, would, like, see, resurrection, dated, ...</td>\n",
       "    </tr>\n",
       "    <tr>\n",
       "      <th>8</th>\n",
       "      <td>Encouraged by the positive comments about this...</td>\n",
       "      <td>negative</td>\n",
       "      <td>681</td>\n",
       "      <td>[encouraged, positive, comments, film, looking...</td>\n",
       "    </tr>\n",
       "    <tr>\n",
       "      <th>9</th>\n",
       "      <td>If you like original gut wrenching laughter yo...</td>\n",
       "      <td>positive</td>\n",
       "      <td>176</td>\n",
       "      <td>[like, original, gut, wrenching, laughter, lik...</td>\n",
       "    </tr>\n",
       "  </tbody>\n",
       "</table>\n",
       "</div>"
      ],
      "text/plain": [
       "                                              review sentiment  review_length  \\\n",
       "1  A wonderful little production. <br /><br />The...  positive            998   \n",
       "2  I thought this was a wonderful way to spend ti...  positive            926   \n",
       "6  I sure would like to see a resurrection of a u...  positive            726   \n",
       "8  Encouraged by the positive comments about this...  negative            681   \n",
       "9  If you like original gut wrenching laughter yo...  positive            176   \n",
       "\n",
       "                                    processed_review  \n",
       "1  [wonderful, little, production, br, br, filmin...  \n",
       "2  [thought, wonderful, way, spend, time, hot, su...  \n",
       "6  [sure, would, like, see, resurrection, dated, ...  \n",
       "8  [encouraged, positive, comments, film, looking...  \n",
       "9  [like, original, gut, wrenching, laughter, lik...  "
      ]
     },
     "execution_count": 43,
     "metadata": {},
     "output_type": "execute_result"
    }
   ],
   "source": [
    "train_df.head()"
   ]
  },
  {
   "cell_type": "code",
   "execution_count": 44,
   "metadata": {},
   "outputs": [
    {
     "data": {
      "text/plain": [
       "'A wonderful little production. <br /><br />The filming technique is very unassuming- very old-time-BBC fashion and gives a comforting, and sometimes discomforting, sense of realism to the entire piece. <br /><br />The actors are extremely well chosen- Michael Sheen not only \"has got all the polari\" but he has all the voices down pat too! You can truly see the seamless editing guided by the references to Williams\\' diary entries, not only is it well worth the watching but it is a terrificly written and performed piece. A masterful production about one of the great master\\'s of comedy and his life. <br /><br />The realism really comes home with the little things: the fantasy of the guard which, rather than use the traditional \\'dream\\' techniques remains solid then disappears. It plays on our knowledge and our senses, particularly with the scenes concerning Orton and Halliwell and the sets (particularly of their flat with Halliwell\\'s murals decorating every surface) are terribly well done.'"
      ]
     },
     "execution_count": 44,
     "metadata": {},
     "output_type": "execute_result"
    }
   ],
   "source": [
    "train_df.head()['review'].iloc[0]"
   ]
  },
  {
   "cell_type": "code",
   "execution_count": 45,
   "metadata": {},
   "outputs": [
    {
     "name": "stdout",
     "output_type": "stream",
     "text": [
      "wonderful\n",
      "little\n",
      "production\n",
      "br\n",
      "br\n",
      "filming\n",
      "technique\n",
      "unassuming\n",
      "oldtimebbc\n",
      "fashion\n",
      "gives\n",
      "comforting\n",
      "sometimes\n",
      "discomforting\n",
      "sense\n",
      "realism\n",
      "entire\n",
      "piece\n",
      "br\n",
      "br\n",
      "actors\n",
      "extremely\n",
      "well\n",
      "chosen\n",
      "michael\n",
      "sheen\n",
      "got\n",
      "polari\n",
      "voices\n",
      "pat\n",
      "truly\n",
      "see\n",
      "seamless\n",
      "editing\n",
      "guided\n",
      "references\n",
      "williams\n",
      "diary\n",
      "entries\n",
      "well\n",
      "worth\n",
      "watching\n",
      "terrificly\n",
      "written\n",
      "performed\n",
      "piece\n",
      "masterful\n",
      "production\n",
      "one\n",
      "great\n",
      "masters\n",
      "comedy\n",
      "life\n",
      "br\n",
      "br\n",
      "realism\n",
      "really\n",
      "comes\n",
      "home\n",
      "little\n",
      "things\n",
      "fantasy\n",
      "guard\n",
      "rather\n",
      "use\n",
      "traditional\n",
      "dream\n",
      "techniques\n",
      "remains\n",
      "solid\n",
      "disappears\n",
      "plays\n",
      "knowledge\n",
      "senses\n",
      "particularly\n",
      "scenes\n",
      "concerning\n",
      "orton\n",
      "halliwell\n",
      "sets\n",
      "particularly\n",
      "flat\n",
      "halliwells\n",
      "murals\n",
      "decorating\n",
      "every\n",
      "surface\n",
      "terribly\n",
      "well\n",
      "done\n"
     ]
    }
   ],
   "source": [
    "for x in train_df.head()['processed_review'].iloc[0]:\n",
    "    print(x)"
   ]
  },
  {
   "cell_type": "code",
   "execution_count": 46,
   "metadata": {},
   "outputs": [
    {
     "data": {
      "text/plain": [
       "True"
      ]
     },
     "execution_count": 46,
     "metadata": {},
     "output_type": "execute_result"
    }
   ],
   "source": [
    "len(train_df.head()['processed_review'].iloc[0]) == len([x for x in train_padded_reviews[0] if x >0])"
   ]
  },
  {
   "cell_type": "code",
   "execution_count": 47,
   "metadata": {},
   "outputs": [
    {
     "data": {
      "text/plain": [
       "array([ 0,  0,  0,  0,  0,  0,  0,  0,  0,  0,  0,  0,  0,  0,  0,  0,  0,\n",
       "        0,  0,  0,  0,  0,  0,  0,  0,  0,  0,  0,  0,  0,  0,  0,  0,  0,\n",
       "        0,  0,  0,  0,  0,  0,  0,  0,  0,  0,  0,  0,  0,  0,  0,  0,  0,\n",
       "        0,  0,  0,  0,  0,  0,  0,  0,  0,  0,  0,  0,  0,  0,  0,  0,  0,\n",
       "        0,  0,  0,  0,  0,  0,  0,  0,  0,  0,  0,  0,  0,  0,  0,  0,  0,\n",
       "        0,  0,  0,  0,  0,  0,  0,  0,  0,  0,  0,  0,  0,  0,  0,  0,  0,\n",
       "        0,  0,  0,  0,  0,  0,  0,  0,  0,  0,  0,  0,  0,  0,  0,  0,  0,\n",
       "        0,  0,  0,  0,  0,  0,  0,  0,  0,  0,  0,  0,  0,  0,  0,  0,  0,\n",
       "        0,  0,  0,  0,  0,  0,  0,  0,  0,  0,  0,  0,  0,  0,  0,  0,  0,\n",
       "        0,  0,  0,  0,  0,  0,  0,  0,  0,  0,  0,  0,  0,  0,  0,  0,  0,\n",
       "        0,  0,  0,  0,  0,  0,  0,  0,  0,  0,  0,  0,  0,  0,  0,  0,  0,\n",
       "        0,  0,  0,  0,  0,  0,  0,  0,  0,  0,  0,  0,  0,  0,  0,  0,  0,\n",
       "        0,  0,  0,  0,  0,  0,  0,  0,  0,  0,  0,  0,  0,  0,  0,  0,  0,\n",
       "        0,  0,  0,  0,  0,  0,  0,  0,  0,  0,  0,  0,  0,  0,  0,  0,  0,\n",
       "        0,  0,  0,  0,  0,  0,  0,  0,  0,  0,  0,  0,  0,  0,  0,  0,  0,\n",
       "        0,  0,  0,  0,  0,  0,  0,  0,  0,  0,  0,  0,  0,  0,  0,  0,  0,\n",
       "        0,  0,  0,  0,  0,  0,  0,  0,  0,  0,  0,  0,  0,  0,  0,  0,  0,\n",
       "        0,  0,  0,  0,  0,  0,  0,  0,  0,  0,  0,  0,  0,  0,  0,  0,  0,\n",
       "        0,  0,  0,  0,  0,  0,  0,  0,  0,  0,  0,  0,  0,  0,  0,  0,  0,\n",
       "        0,  0,  0,  0,  0,  0,  0,  0,  0,  0,  0,  0,  0,  0,  0,  0,  0,\n",
       "        0,  0,  0,  0,  0,  0,  0,  0,  0,  0,  0,  0,  0,  0,  0,  0,  0,\n",
       "        0,  0,  0,  0,  0,  0,  0,  0,  0,  0,  0,  0,  0,  0,  0,  0,  0,\n",
       "        0,  0,  0,  0,  0,  0,  0,  0,  0,  0,  0,  0,  0,  0,  0,  0,  0,\n",
       "        0,  0,  0,  0,  0,  0,  0,  0,  0,  0,  0,  0,  0,  0,  0,  0,  0,\n",
       "        0,  0,  1,  2,  3,  4,  4,  5,  6,  7,  8,  9, 10, 11, 12, 13, 14,\n",
       "       15, 16, 17,  4,  4, 18, 19, 20, 21, 22, 23, 24, 25, 26, 27, 28, 29,\n",
       "       30, 31, 32, 33, 34, 35, 36, 20, 37, 38, 39, 40, 41, 17, 42,  3, 43,\n",
       "       44, 45, 46, 47,  4,  4, 15, 48, 49, 50,  2, 51, 52, 53, 54, 55, 56,\n",
       "       57, 58, 59, 60, 61, 62, 63, 64, 65, 66, 67, 68, 69, 70, 65, 71, 72,\n",
       "       73, 74, 75, 76, 77, 20, 78])"
      ]
     },
     "execution_count": 47,
     "metadata": {},
     "output_type": "execute_result"
    }
   ],
   "source": [
    "train_padded_reviews[0]"
   ]
  },
  {
   "cell_type": "code",
   "execution_count": 48,
   "metadata": {},
   "outputs": [],
   "source": [
    "##### Verifying shapes are matching "
   ]
  },
  {
   "cell_type": "code",
   "execution_count": 49,
   "metadata": {},
   "outputs": [
    {
     "data": {
      "text/plain": [
       "(50000, 5)"
      ]
     },
     "execution_count": 49,
     "metadata": {},
     "output_type": "execute_result"
    }
   ],
   "source": [
    "df.shape"
   ]
  },
  {
   "cell_type": "code",
   "execution_count": 51,
   "metadata": {},
   "outputs": [
    {
     "data": {
      "text/plain": [
       "((29839,), (29839, 500), (29839,))"
      ]
     },
     "execution_count": 51,
     "metadata": {},
     "output_type": "execute_result"
    }
   ],
   "source": [
    "train_tokenized_data.shape, train_padded_reviews.shape, train_encoded_labels.shape"
   ]
  },
  {
   "cell_type": "code",
   "execution_count": 52,
   "metadata": {},
   "outputs": [
    {
     "ename": "NameError",
     "evalue": "name 'tokenized_data' is not defined",
     "output_type": "error",
     "traceback": [
      "\u001b[0;31m---------------------------------------------------------------------------\u001b[0m",
      "\u001b[0;31mNameError\u001b[0m                                 Traceback (most recent call last)",
      "Cell \u001b[0;32mIn[52], line 1\u001b[0m\n\u001b[0;32m----> 1\u001b[0m train_tokenized_data\u001b[38;5;241m.\u001b[39mshape[\u001b[38;5;241m0\u001b[39m]\u001b[38;5;241m/\u001b[39m\u001b[43mtokenized_data\u001b[49m\u001b[38;5;241m.\u001b[39mshape[\u001b[38;5;241m0\u001b[39m]\n",
      "\u001b[0;31mNameError\u001b[0m: name 'tokenized_data' is not defined"
     ]
    }
   ],
   "source": [
    "train_tokenized_data.shape[0]/tokenized_data.shape[0]"
   ]
  },
  {
   "cell_type": "markdown",
   "metadata": {
    "id": "Ff5CNk7Qa90y"
   },
   "source": [
    "### Part (v) [1pt EXPLORATORY] - Create DataLoader\n",
    "\n",
    "Create a DataLoader that will allow you to load the training and validation data in mini-batches. Then generate a dataset of batch size of 16 to verify that the DataLoader works as intended."
   ]
  },
  {
   "cell_type": "code",
   "execution_count": 66,
   "metadata": {
    "id": "V8N8qLWOa90y"
   },
   "outputs": [],
   "source": [
    "from torch.utils.data import Dataset, DataLoader\n",
    "import torch\n",
    "\n",
    "class ReviewDataset(Dataset):\n",
    "    def __init__(self, reviews, labels):\n",
    "        self.reviews = reviews\n",
    "        self.labels = labels\n",
    "\n",
    "    def __len__(self):\n",
    "        return len(self.reviews)\n",
    "\n",
    "    def __getitem__(self, idx):\n",
    "        review = self.reviews[idx]\n",
    "        label = self.labels[idx]\n",
    "        sample = {\"review\": torch.tensor(review, dtype=torch.long),\n",
    "                  \"label\": torch.tensor(label, dtype=torch.long)}\n",
    "        return sample\n",
    "\n",
    "# Assuming train_padded_reviews and train_encoded_labels are your training data and labels\n",
    "# And valid_padded_reviews and valid_encoded_labels are your validation data and labels\n",
    "\n",
    "train_dataset = ReviewDataset(train_padded_reviews, train_encoded_labels)\n",
    "val_dataset = ReviewDataset(val_padded_reviews, val_encoded_labels)\n",
    "\n"
   ]
  },
  {
   "cell_type": "code",
   "execution_count": 55,
   "metadata": {},
   "outputs": [],
   "source": [
    "batch_size = 16\n",
    "\n",
    "train_loader = DataLoader(train_dataset, batch_size=batch_size, shuffle=True)\n",
    "val_loader = DataLoader(val_dataset, batch_size=batch_size, shuffle=False)\n"
   ]
  },
  {
   "cell_type": "code",
   "execution_count": 56,
   "metadata": {},
   "outputs": [
    {
     "name": "stdout",
     "output_type": "stream",
     "text": [
      "Batch 1\n",
      "Review batch shape: torch.Size([16, 500])\n",
      "Label batch shape: torch.Size([16])\n"
     ]
    }
   ],
   "source": [
    "# Iterate over training DataLoader\n",
    "for i, data in enumerate(train_loader):\n",
    "    reviews, labels = data['review'], data['label']\n",
    "    print(f\"Batch {i+1}\")\n",
    "    print(f\"Review batch shape: {reviews.shape}\")\n",
    "    print(f\"Label batch shape: {labels.shape}\")\n",
    "    # Add a break to stop after the first batch for demonstration purposes\n",
    "    break\n"
   ]
  },
  {
   "cell_type": "code",
   "execution_count": 64,
   "metadata": {},
   "outputs": [
    {
     "name": "stdout",
     "output_type": "stream",
     "text": [
      "Shape of Reviews: torch.Size([16, 500])\n",
      "Shape of Labels: torch.Size([16])\n"
     ]
    },
    {
     "data": {
      "text/plain": [
       "tensor([[    0,     0,     0,  ...,   175,   699,    80],\n",
       "        [    0,     0,     0,  ...,   138,  3722,  1862],\n",
       "        [    0,     0,     0,  ...,   810,  7179,   772],\n",
       "        ...,\n",
       "        [    0,     0,     0,  ...,  4708, 88825,  1610],\n",
       "        [    0,     0,     0,  ...,  8826,   805, 33750],\n",
       "        [    0,     0,     0,  ...,   218,   321,    82]])"
      ]
     },
     "execution_count": 64,
     "metadata": {},
     "output_type": "execute_result"
    }
   ],
   "source": [
    "# Get one batch from the train_loader\n",
    "for batch in train_loader:\n",
    "    sample_reviews, sample_labels = batch['review'], batch['label']\n",
    "    break  # We break the loop to only get the first batch\n",
    "\n",
    "# Now sample_reviews and sample_labels contain one batch of your data\n",
    "\n",
    "# You can print the shape of the samples to verify\n",
    "print(\"Shape of Reviews:\", sample_reviews.shape)\n",
    "print(\"Shape of Labels:\", sample_labels.shape)\n",
    "\n",
    "# Print the actual data (optional, could be large depending on your sequence length)\n",
    "sample_reviews"
   ]
  },
  {
   "cell_type": "code",
   "execution_count": 65,
   "metadata": {},
   "outputs": [
    {
     "data": {
      "text/plain": [
       "tensor([0, 0, 1, 0, 1, 0, 1, 1, 0, 1, 0, 1, 1, 0, 1, 0])"
      ]
     },
     "execution_count": 65,
     "metadata": {},
     "output_type": "execute_result"
    }
   ],
   "source": [
    "sample_labels"
   ]
  },
  {
   "cell_type": "markdown",
   "metadata": {
    "id": "y7HnqP6_a904"
   },
   "source": [
    "## Part 2. Model Building [2pt MODEL]\n",
    "\n",
    "Build a recurrent neural network model, using an architecture of your choosing. Use one or more fully-connected layers to make the prediction based on your recurrent network output.\n",
    "\n",
    "Instead of using the RNN output value for the final token, another often used strategy is to max-pool over the entire output array. That is, instead of calling something like:\n",
    "\n",
    "```\n",
    "out, _ = self.rnn(x)\n",
    "self.fc(out[:, -1, :])\n",
    "```\n",
    "\n",
    "where `self.rnn` is an `nn.RNN`, `nn.GRU`, or `nn.LSTM` module, and `self.fc` is a\n",
    "fully-connected\n",
    "layer, we use:\n",
    "\n",
    "```\n",
    "out, _ = self.rnn(x)\n",
    "self.fc(torch.max(out, dim=1)[0])\n",
    "```\n",
    "\n",
    "This works reasonably in practice. An even better alternative is to concatenate the max-pooling and average-pooling of the RNN outputs:\n",
    "\n",
    "```\n",
    "out, _ = self.rnn(x)\n",
    "out = torch.cat([torch.max(out, dim=1)[0],\n",
    "                 torch.mean(out, dim=1)], dim=1)\n",
    "self.fc(out)\n",
    "```\n",
    "\n",
    "We encourage you to try out all these options. The way you pool the RNN outputs is one of the \"hyperparameters\" that you can choose to tune later on."
   ]
  },
  {
   "cell_type": "markdown",
   "metadata": {
    "id": "4LTQ7zFka909"
   },
   "source": [
    "# TO BE COMPLETED\n",
    "```\n",
    "class SentimentRNN(nn.Module):\n",
    "    def __init__(self):\n",
    "        super(SentimentRNN, self).__init__()\n",
    "\n",
    "        # TO BE COMPLETED\n",
    "\n",
    "    def forward(self, x, hidden):\n",
    "\n",
    "        # TO BE COMPLETED\n",
    "\n",
    "\n",
    "\n",
    "\n",
    "\n",
    "\n",
    "model = SentimentRNN()\n",
    "```"
   ]
  },
  {
   "cell_type": "code",
   "execution_count": 68,
   "metadata": {},
   "outputs": [],
   "source": [
    "import torch\n",
    "import torch.nn as nn\n",
    "\n",
    "class SentimentRNN(nn.Module):\n",
    "    def __init__(self, vocab_size, output_size, embedding_dim, hidden_dim, n_layers, drop_prob=0.5):\n",
    "        super(SentimentRNN, self).__init__()\n",
    "\n",
    "        # Parameters\n",
    "        self.output_size = output_size\n",
    "        self.n_layers = n_layers\n",
    "        self.hidden_dim = hidden_dim\n",
    "\n",
    "        # Embedding Layer\n",
    "        self.embedding = nn.Embedding(vocab_size, embedding_dim)\n",
    "\n",
    "        # RNN Layer (choose between nn.RNN, nn.LSTM, or nn.GRU)\n",
    "        self.rnn = nn.LSTM(embedding_dim, hidden_dim, n_layers, \n",
    "                           dropout=drop_prob, batch_first=True)\n",
    "\n",
    "        # Dropout layer\n",
    "        self.dropout = nn.Dropout(drop_prob)\n",
    "\n",
    "        # Fully connected layer\n",
    "        self.fc = nn.Linear(hidden_dim * 2, output_size)\n",
    "\n",
    "        # Activation function (e.g., sigmoid for binary classification)\n",
    "        self.sigmoid = nn.Sigmoid()\n",
    "\n",
    "    def forward(self, x, hidden):\n",
    "        batch_size = x.size(0)\n",
    "\n",
    "        # Embedding and RNN\n",
    "        x = self.embedding(x)\n",
    "        out, hidden = self.rnn(x, hidden)\n",
    "        \n",
    "        # Max pooling and average pooling\n",
    "        out_max = torch.max(out, dim=1)[0]\n",
    "        out_avg = torch.mean(out, dim=1)\n",
    "        out = torch.cat([out_max, out_avg], dim=1)\n",
    "\n",
    "        # Dropout and fully connected layer\n",
    "        out = self.dropout(out)\n",
    "        out = self.fc(out)\n",
    "        \n",
    "        # Sigmoid function\n",
    "        sig_out = self.sigmoid(out)\n",
    "\n",
    "        return sig_out, hidden\n",
    "\n",
    "    def init_hidden(self, batch_size):\n",
    "        ''' Initializes hidden state '''\n",
    "        # Create two new tensors with sizes n_layers x batch_size x hidden_dim,\n",
    "        # initialized to zero, for hidden state and cell state of LSTM\n",
    "        weight = next(self.parameters()).data\n",
    "        \n",
    "        # Check for MPS availability and use it if available\n",
    "        if torch.backends.mps.is_available():\n",
    "            hidden = (weight.new(self.n_layers, batch_size, self.hidden_dim).zero_().to(\"mps\"),\n",
    "                      weight.new(self.n_layers, batch_size, self.hidden_dim).zero_().to(\"mps\"))\n",
    "        else:\n",
    "            hidden = (weight.new(self.n_layers, batch_size, self.hidden_dim).zero_(),\n",
    "                      weight.new(self.n_layers, batch_size, self.hidden_dim).zero_())\n",
    "        \n",
    "        return hidden\n",
    "\n",
    "# Example: Instantiate the model with specific parameters\n",
    "vocab_size = 1000  # Size of vocabulary obtained from the training data\n",
    "output_size = 1    # Binary classification (Positive/Negative)\n",
    "embedding_dim = 400\n",
    "hidden_dim = 256\n",
    "n_layers = 2\n",
    "\n",
    "model = SentimentRNN(vocab_size, output_size, embedding_dim, hidden_dim, n_layers)\n",
    "\n",
    "# Optionally, move the model to MPS if available\n",
    "if torch.backends.mps.is_available():\n",
    "    model.to(\"mps\")\n"
   ]
  },
  {
   "cell_type": "markdown",
   "metadata": {
    "id": "vKIYPl_Ba90_"
   },
   "source": [
    "## Part 3. Training [3 pt]\n",
    "\n",
    "### Part (i) [1pt MODEL]\n",
    "\n",
    "Complete the `get_accuracy` function, which will compute the\n",
    "accuracy (rate) of your model across a dataset (e.g. validation set)."
   ]
  },
  {
   "cell_type": "markdown",
   "metadata": {
    "id": "pvNfhGD6a91A"
   },
   "source": [
    "```python\n",
    "def get_accuracy(model, data):\n",
    "    \"\"\" Compute the accuracy of the `model` across a dataset `data`\n",
    "\n",
    "    Example usage:\n",
    "\n",
    "    >>> model = MyRNN() # to be defined\n",
    "    >>> get_accuracy(model, valid_loader) # the variable `valid_loader` is from above\n",
    "    \"\"\"\n",
    "\n",
    "    # TO BE COMPLETED\n",
    "\n",
    "```"
   ]
  },
  {
   "cell_type": "code",
   "execution_count": 71,
   "metadata": {},
   "outputs": [],
   "source": [
    "def get_accuracy(model, data):\n",
    "    \"\"\" Compute the accuracy of the `model` across a dataset `data` \"\"\"\n",
    "    # Ensure model is in evaluation mode, which turns off dropout\n",
    "    model.eval()\n",
    "\n",
    "    # Variables to track total and correct predictions\n",
    "    correct = 0\n",
    "    total = 0\n",
    "\n",
    "    # Disable gradient calculations for efficiency\n",
    "    with torch.no_grad():\n",
    "        for batch in data:\n",
    "            # Get input data and labels\n",
    "            inputs, labels = batch['review'], batch['label']\n",
    "            \n",
    "            # Move data to the same device as the model\n",
    "            if torch.backends.mps.is_available():\n",
    "                inputs, labels = inputs.to(\"mps\"), labels.to(\"mps\")\n",
    "            elif torch.cuda.is_available():\n",
    "                inputs, labels = inputs.cuda(), labels.cuda()\n",
    "\n",
    "            # Forward pass to get outputs\n",
    "            outputs, _ = model(inputs, model.init_hidden(inputs.size(0)))\n",
    "\n",
    "            # Convert output probabilities to predicted class (0 or 1)\n",
    "            predicted = outputs.round()  # Assuming a sigmoid activation at the output\n",
    "\n",
    "            # Count total and correct predictions\n",
    "            total += labels.size(0)\n",
    "            correct += (predicted.squeeze() == labels).sum().item()\n",
    "\n",
    "    # Calculate accuracy\n",
    "    accuracy = correct / total\n",
    "    return accuracy"
   ]
  },
  {
   "cell_type": "markdown",
   "metadata": {
    "id": "TlxlcAC1a91C"
   },
   "source": [
    "### Part (ii) [1pt MODEL]\n",
    "\n",
    "Train your model. Plot the training curve of your final model.\n",
    "Your training curve should have the training/validation loss and\n",
    "accuracy plotted periodically."
   ]
  },
  {
   "cell_type": "code",
   "execution_count": 76,
   "metadata": {
    "id": "CVtf7CJCa91D"
   },
   "outputs": [],
   "source": []
  },
  {
   "cell_type": "code",
   "execution_count": 77,
   "metadata": {
    "scrolled": true
   },
   "outputs": [
    {
     "name": "stdout",
     "output_type": "stream",
     "text": [
      "Epoch 1, Batch 100/1865, Current Batch Loss: 0.584512\n",
      "Epoch 1, Batch 200/1865, Current Batch Loss: 0.393531\n",
      "Epoch 1, Batch 300/1865, Current Batch Loss: 0.499218\n",
      "Epoch 1, Batch 400/1865, Current Batch Loss: 0.147247\n",
      "Epoch 1, Batch 500/1865, Current Batch Loss: 0.148872\n",
      "Epoch 1, Batch 600/1865, Current Batch Loss: 0.135529\n",
      "Epoch 1, Batch 700/1865, Current Batch Loss: 0.233327\n",
      "Epoch 1, Batch 800/1865, Current Batch Loss: 0.589453\n",
      "Epoch 1, Batch 900/1865, Current Batch Loss: 0.637644\n",
      "Epoch 1, Batch 1000/1865, Current Batch Loss: 0.194351\n",
      "Epoch 1, Batch 1100/1865, Current Batch Loss: 0.296588\n",
      "Epoch 1, Batch 1200/1865, Current Batch Loss: 0.321192\n",
      "Epoch 1, Batch 1300/1865, Current Batch Loss: 0.303882\n",
      "Epoch 1, Batch 1400/1865, Current Batch Loss: 0.344541\n",
      "Epoch 1, Batch 1500/1865, Current Batch Loss: 0.305105\n",
      "Epoch 1, Batch 1600/1865, Current Batch Loss: 0.386533\n",
      "Epoch 1, Batch 1700/1865, Current Batch Loss: 0.248795\n",
      "Epoch 1, Batch 1800/1865, Current Batch Loss: 0.521202\n",
      "Epoch 1 Summary\n",
      "\tTraining Loss: 0.343981 \tTraining Accuracy: 0.888669\n",
      "\tValidation Loss: 0.384086 \tValidation Accuracy: 0.824674\n",
      "Epoch 2, Batch 100/1865, Current Batch Loss: 0.207237\n",
      "Epoch 2, Batch 200/1865, Current Batch Loss: 0.281522\n",
      "Epoch 2, Batch 300/1865, Current Batch Loss: 0.329828\n",
      "Epoch 2, Batch 400/1865, Current Batch Loss: 0.188976\n",
      "Epoch 2, Batch 500/1865, Current Batch Loss: 0.290687\n",
      "Epoch 2, Batch 600/1865, Current Batch Loss: 0.315862\n",
      "Epoch 2, Batch 700/1865, Current Batch Loss: 0.180174\n",
      "Epoch 2, Batch 800/1865, Current Batch Loss: 0.207407\n",
      "Epoch 2, Batch 900/1865, Current Batch Loss: 0.392623\n",
      "Epoch 2, Batch 1000/1865, Current Batch Loss: 0.824093\n",
      "Epoch 2, Batch 1100/1865, Current Batch Loss: 0.212673\n",
      "Epoch 2, Batch 1200/1865, Current Batch Loss: 0.182964\n",
      "Epoch 2, Batch 1300/1865, Current Batch Loss: 0.226159\n",
      "Epoch 2, Batch 1400/1865, Current Batch Loss: 0.273777\n",
      "Epoch 2, Batch 1500/1865, Current Batch Loss: 0.496749\n",
      "Epoch 2, Batch 1600/1865, Current Batch Loss: 0.207578\n",
      "Epoch 2, Batch 1700/1865, Current Batch Loss: 0.249786\n",
      "Epoch 2, Batch 1800/1865, Current Batch Loss: 0.476285\n",
      "Epoch 2 Summary\n",
      "\tTraining Loss: 0.300950 \tTraining Accuracy: 0.911659\n",
      "\tValidation Loss: 0.387359 \tValidation Accuracy: 0.832899\n",
      "Epoch 3, Batch 100/1865, Current Batch Loss: 0.209699\n",
      "Epoch 3, Batch 200/1865, Current Batch Loss: 0.141284\n",
      "Epoch 3, Batch 300/1865, Current Batch Loss: 0.074142\n",
      "Epoch 3, Batch 400/1865, Current Batch Loss: 0.130810\n",
      "Epoch 3, Batch 500/1865, Current Batch Loss: 0.211921\n",
      "Epoch 3, Batch 600/1865, Current Batch Loss: 0.362132\n",
      "Epoch 3, Batch 700/1865, Current Batch Loss: 0.107641\n",
      "Epoch 3, Batch 800/1865, Current Batch Loss: 0.490944\n",
      "Epoch 3, Batch 900/1865, Current Batch Loss: 0.110258\n",
      "Epoch 3, Batch 1000/1865, Current Batch Loss: 0.130796\n",
      "Epoch 3, Batch 1100/1865, Current Batch Loss: 0.315498\n",
      "Epoch 3, Batch 1200/1865, Current Batch Loss: 0.092902\n",
      "Epoch 3, Batch 1300/1865, Current Batch Loss: 0.523791\n",
      "Epoch 3, Batch 1400/1865, Current Batch Loss: 0.120565\n",
      "Epoch 3, Batch 1500/1865, Current Batch Loss: 0.107235\n",
      "Epoch 3, Batch 1600/1865, Current Batch Loss: 0.164830\n",
      "Epoch 3, Batch 1700/1865, Current Batch Loss: 0.174341\n",
      "Epoch 3, Batch 1800/1865, Current Batch Loss: 0.439400\n",
      "Epoch 3 Summary\n",
      "\tTraining Loss: 0.247093 \tTraining Accuracy: 0.940347\n",
      "\tValidation Loss: 0.407609 \tValidation Accuracy: 0.824574\n",
      "Epoch 4, Batch 100/1865, Current Batch Loss: 0.240009\n",
      "Epoch 4, Batch 200/1865, Current Batch Loss: 0.114335\n",
      "Epoch 4, Batch 300/1865, Current Batch Loss: 0.198878\n",
      "Epoch 4, Batch 400/1865, Current Batch Loss: 0.130325\n",
      "Epoch 4, Batch 500/1865, Current Batch Loss: 0.379637\n",
      "Epoch 4, Batch 600/1865, Current Batch Loss: 0.078828\n",
      "Epoch 4, Batch 700/1865, Current Batch Loss: 0.169499\n",
      "Epoch 4, Batch 800/1865, Current Batch Loss: 0.310943\n",
      "Epoch 4, Batch 900/1865, Current Batch Loss: 0.159672\n",
      "Epoch 4, Batch 1000/1865, Current Batch Loss: 0.101511\n",
      "Epoch 4, Batch 1100/1865, Current Batch Loss: 0.340672\n",
      "Epoch 4, Batch 1200/1865, Current Batch Loss: 0.136050\n",
      "Epoch 4, Batch 1300/1865, Current Batch Loss: 0.140735\n",
      "Epoch 4, Batch 1400/1865, Current Batch Loss: 0.069677\n",
      "Epoch 4, Batch 1500/1865, Current Batch Loss: 0.146484\n",
      "Epoch 4, Batch 1600/1865, Current Batch Loss: 0.422803\n",
      "Epoch 4, Batch 1700/1865, Current Batch Loss: 0.155098\n",
      "Epoch 4, Batch 1800/1865, Current Batch Loss: 0.365324\n",
      "Epoch 4 Summary\n",
      "\tTraining Loss: 0.195885 \tTraining Accuracy: 0.951942\n",
      "\tValidation Loss: 0.476444 \tValidation Accuracy: 0.826580\n",
      "Epoch 5, Batch 100/1865, Current Batch Loss: 0.058243\n",
      "Epoch 5, Batch 200/1865, Current Batch Loss: 0.170286\n",
      "Epoch 5, Batch 300/1865, Current Batch Loss: 0.096974\n",
      "Epoch 5, Batch 400/1865, Current Batch Loss: 0.198737\n",
      "Epoch 5, Batch 500/1865, Current Batch Loss: 0.056365\n",
      "Epoch 5, Batch 600/1865, Current Batch Loss: 0.137082\n",
      "Epoch 5, Batch 700/1865, Current Batch Loss: 0.056310\n",
      "Epoch 5, Batch 800/1865, Current Batch Loss: 0.105793\n",
      "Epoch 5, Batch 900/1865, Current Batch Loss: 0.134352\n",
      "Epoch 5, Batch 1000/1865, Current Batch Loss: 0.126979\n",
      "Epoch 5, Batch 1100/1865, Current Batch Loss: 0.105559\n",
      "Epoch 5, Batch 1200/1865, Current Batch Loss: 0.051666\n",
      "Epoch 5, Batch 1300/1865, Current Batch Loss: 0.101116\n",
      "Epoch 5, Batch 1400/1865, Current Batch Loss: 0.051991\n",
      "Epoch 5, Batch 1500/1865, Current Batch Loss: 0.034676\n",
      "Epoch 5, Batch 1600/1865, Current Batch Loss: 0.170547\n",
      "Epoch 5, Batch 1700/1865, Current Batch Loss: 0.054100\n",
      "Epoch 5, Batch 1800/1865, Current Batch Loss: 0.149603\n",
      "Epoch 5 Summary\n",
      "\tTraining Loss: 0.147228 \tTraining Accuracy: 0.967526\n",
      "\tValidation Loss: 0.511867 \tValidation Accuracy: 0.823571\n"
     ]
    }
   ],
   "source": [
    "import torch.optim as optim\n",
    "\n",
    "# Loss function\n",
    "criterion = nn.BCELoss()\n",
    "\n",
    "# Optimizer (e.g., Adam, SGD, etc.)\n",
    "optimizer = optim.Adam(model.parameters(), lr=0.001)\n",
    "\n",
    "# Number of epochs\n",
    "epochs = 5\n",
    "\n",
    "# To store metrics\n",
    "train_losses, val_losses = [], []\n",
    "train_accuracies, val_accuracies = [], []\n",
    "\n",
    "\n",
    "for epoch in range(epochs):\n",
    "    # Training\n",
    "    model.train()\n",
    "    train_loss = 0.0\n",
    "    for i, batch in enumerate(train_loader):\n",
    "        inputs, labels = batch['review'], batch['label']\n",
    "        if torch.backends.mps.is_available():\n",
    "            inputs, labels = inputs.to(\"mps\"), labels.to(\"mps\")\n",
    "        optimizer.zero_grad()\n",
    "        output, _ = model(inputs, model.init_hidden(inputs.size(0)))\n",
    "        loss = criterion(output.squeeze(), labels.float())\n",
    "        loss.backward()\n",
    "        optimizer.step()\n",
    "        train_loss += loss.item()\n",
    "\n",
    "        # Print status update every 100 batches\n",
    "        if (i + 1) % 100 == 0:\n",
    "            print(f\"Epoch {epoch+1}, Batch {i+1}/{len(train_loader)}, Current Batch Loss: {loss.item():.6f}\")\n",
    "\n",
    "    # Validation\n",
    "    val_loss = 0.0\n",
    "    val_accuracy = get_accuracy(model, val_loader)\n",
    "    model.eval()\n",
    "    with torch.no_grad():\n",
    "        for batch in val_loader:\n",
    "            inputs, labels = batch['review'], batch['label']\n",
    "            if torch.backends.mps.is_available():\n",
    "                inputs, labels = inputs.to(\"mps\"), labels.to(\"mps\")\n",
    "            output, _ = model(inputs, model.init_hidden(inputs.size(0)))\n",
    "            loss = criterion(output.squeeze(), labels.float())\n",
    "            val_loss += loss.item()\n",
    "\n",
    "    # Calculate average losses\n",
    "    train_losses.append(train_loss / len(train_loader))\n",
    "    val_losses.append(val_loss / len(val_loader))\n",
    "\n",
    "    # Store accuracy\n",
    "    train_accuracies.append(get_accuracy(model, train_loader))\n",
    "    val_accuracies.append(val_accuracy)\n",
    "\n",
    "    # Print epoch summary\n",
    "    print(f'Epoch {epoch+1} Summary')\n",
    "    print(f'\\tTraining Loss: {train_losses[-1]:.6f} \\tTraining Accuracy: {train_accuracies[-1]:.6f}')\n",
    "    print(f'\\tValidation Loss: {val_losses[-1]:.6f} \\tValidation Accuracy: {val_accuracies[-1]:.6f}')\n"
   ]
  },
  {
   "cell_type": "code",
   "execution_count": 106,
   "metadata": {},
   "outputs": [
    {
     "data": {
      "text/plain": [
       "([0.34398135007346603,\n",
       "  0.3009503408467482,\n",
       "  0.2470930798783219,\n",
       "  0.195884803785935,\n",
       "  0.14722807595453877],\n",
       " [0.3840856596063345,\n",
       "  0.38735907691984606,\n",
       "  0.40760943623116386,\n",
       "  0.4764439356752122,\n",
       "  0.5118671433958344])"
      ]
     },
     "execution_count": 106,
     "metadata": {},
     "output_type": "execute_result"
    }
   ],
   "source": [
    "train_losses, val_losses"
   ]
  },
  {
   "cell_type": "code",
   "execution_count": 82,
   "metadata": {},
   "outputs": [
    {
     "data": {
      "text/plain": [
       "[0.8886691913267871,\n",
       " 0.9116592379101176,\n",
       " 0.9403465263581219,\n",
       " 0.951942089212105,\n",
       " 0.9675257213713596]"
      ]
     },
     "execution_count": 82,
     "metadata": {},
     "output_type": "execute_result"
    }
   ],
   "source": [
    "train_accuracies"
   ]
  },
  {
   "cell_type": "code",
   "execution_count": 79,
   "metadata": {},
   "outputs": [
    {
     "data": {
      "image/png": "[encoded data removed]",
      "text/plain": [
       "<Figure size 1200x400 with 2 Axes>"
      ]
     },
     "metadata": {},
     "output_type": "display_data"
    }
   ],
   "source": [
    "import matplotlib.pyplot as plt\n",
    "\n",
    "# Plotting training and validation loss\n",
    "plt.figure(figsize=(12, 4))\n",
    "plt.subplot(1, 2, 1)\n",
    "plt.plot(train_losses, label='Training loss')\n",
    "plt.plot(val_losses, label='Validation loss')\n",
    "plt.title('Training and Validation Loss')\n",
    "plt.legend()\n",
    "\n",
    "# Plotting training and validation accuracy\n",
    "plt.subplot(1, 2, 2)\n",
    "plt.plot(train_accuracies, label='Training accuracy')\n",
    "plt.plot(val_accuracies, label='Validation accuracy')\n",
    "plt.title('Training and Validation Accuracy')\n",
    "plt.legend()\n",
    "\n",
    "plt.show()\n"
   ]
  },
  {
   "cell_type": "code",
   "execution_count": 101,
   "metadata": {},
   "outputs": [],
   "source": [
    "# import csv\n",
    "# import os\n",
    "# import json\n",
    "\n",
    "# def serialize_model(model):\n",
    "#     \"\"\"\n",
    "#     Serializes the model architecture to a JSON-compatible dictionary.\n",
    "#     This function assumes your model has attributes to describe its architecture.\n",
    "#     \"\"\"\n",
    "#     model_info = {\n",
    "#         'class_name': model.__class__.__name__,\n",
    "#         'embedding_dim': model.embedding_dim,\n",
    "#         'hidden_dim': model.hidden_dim,\n",
    "#         'n_layers': model.n_layers,\n",
    "#         'output_size': model.output_size,\n",
    "#         # Add other relevant parameters here\n",
    "#     }\n",
    "#     return json.dumps(model_info)  # Convert the dictionary to a JSON string for logging\n",
    "\n",
    "# def log_training_results(log_file, run_details, model):\n",
    "#     \"\"\"\n",
    "#     Logs the details of a training run to a CSV file, including the model architecture.\n",
    "\n",
    "#     Parameters:\n",
    "#     log_file (str): The file path for the log file.\n",
    "#     run_details (dict): A dictionary containing details of the training run.\n",
    "#     model (nn.Module): The model being trained.\n",
    "#     \"\"\"\n",
    "#     # Serialize the model architecture to a string\n",
    "#     run_details['model_architecture'] = serialize_model(model)\n",
    "\n",
    "#     # Include the optimizer details\n",
    "#     run_details['optimizer'] = str(type(model.optimizer)).split(\"'\")[1]  # Get the class name of the optimizer\n",
    "#     run_details['learning_rate'] = model.optimizer.param_groups[0]['lr']\n",
    "\n",
    "#     # The rest of the run details would be passed in as before\n",
    "#     # e.g., loss, epochs, etc.\n",
    "\n",
    "#     file_exists = os.path.isfile(log_file)\n",
    "#     with open(log_file, 'a', newline='') as csvfile:\n",
    "#         writer = csv.DictWriter(csvfile, fieldnames=run_details.keys())\n",
    "\n",
    "#         if not file_exists:\n",
    "#             writer.writeheader()  # Write headers if file does not exist\n",
    "\n",
    "#         writer.writerow(run_details)\n",
    "\n",
    "# # Example usage:\n",
    "# run_details = {\n",
    "#     'epoch': 5,\n",
    "#     'train_loss': [0.2, 0.15, 0.1],  # Example list of losses\n",
    "#     'validation_loss': [0.25, 0.2, 0.15],\n",
    "#     'train_accuracy': [0.9, 0.92, 0.94],\n",
    "#     'validation_accuracy': [0.85, 0.87, 0.88],\n",
    "#     # 'optimizer': 'Adam',  # No need to manually add this, it will be added by the function\n",
    "#     # 'learning_rate': 0.001,  # Same as above\n",
    "#     # 'model_architecture': 'SentimentRNN'  # And this\n",
    "# }\n",
    "\n",
    "# # Assuming model is your neural network model and model.optimizer is the optimizer used\n",
    "# log_training_results('training_log.csv', run_details, model)\n"
   ]
  },
  {
   "cell_type": "code",
   "execution_count": 102,
   "metadata": {},
   "outputs": [],
   "source": [
    "import csv\n",
    "import os\n",
    "\n",
    "def log_training_results(log_file, run_details):\n",
    "    \"\"\"\n",
    "    Logs the details of a training run to a CSV file.\n",
    "\n",
    "    Parameters:\n",
    "    log_file (str): The file path for the log file.\n",
    "    run_details (dict): A dictionary containing details of the training run.\n",
    "    \"\"\"\n",
    "    file_exists = os.path.isfile(log_file)\n",
    "    with open(log_file, 'a', newline='') as csvfile:\n",
    "        writer = csv.DictWriter(csvfile, fieldnames=run_details.keys())\n",
    "\n",
    "        if not file_exists:\n",
    "            writer.writeheader()  # Write headers if file does not exist\n",
    "\n",
    "        writer.writerow(run_details)\n",
    "\n",
    "\n",
    "run_details = {\n",
    "    'epoch': epoch,\n",
    "    'train_loss': train_losses,\n",
    "    'validation_loss': val_losses,\n",
    "    'train_accuracy': train_accuracies,\n",
    "    'validation_accuracy': val_accuracies,\n",
    "    'learning_rate': 0.001,  # Example hyperparameter\n",
    "    # Add other hyperparameters and metrics as needed\n",
    "}\n",
    "\n",
    "log_training_results('training_log.csv', run_details)\n",
    "\n"
   ]
  },
  {
   "cell_type": "code",
   "execution_count": 103,
   "metadata": {},
   "outputs": [
    {
     "name": "stdout",
     "output_type": "stream",
     "text": [
      "   epoch                                         train_loss  \\\n",
      "0      4  [0.34398135007346603, 0.3009503408467482, 0.24...   \n",
      "1      4  [0.34398135007346603, 0.3009503408467482, 0.24...   \n",
      "\n",
      "                                     validation_loss  \\\n",
      "0  [0.3840856596063345, 0.38735907691984606, 0.40...   \n",
      "1  [0.3840856596063345, 0.38735907691984606, 0.40...   \n",
      "\n",
      "                                      train_accuracy  \\\n",
      "0  [0.8886691913267871, 0.9116592379101176, 0.940...   \n",
      "1  [0.8886691913267871, 0.9116592379101176, 0.940...   \n",
      "\n",
      "                                 validation_accuracy  learning_rate  \n",
      "0  [0.8246740220661986, 0.8328986960882648, 0.824...          0.001  \n",
      "1  [0.8246740220661986, 0.8328986960882648, 0.824...          0.001  \n"
     ]
    }
   ],
   "source": [
    "print(pd.read_csv('training_log.csv'))"
   ]
  },
  {
   "cell_type": "code",
   "execution_count": 134,
   "metadata": {},
   "outputs": [
    {
     "data": {
      "image/png": "[encoded data removed]",
      "text/plain": [
       "<Figure size 1200x500 with 2 Axes>"
      ]
     },
     "metadata": {},
     "output_type": "display_data"
    }
   ],
   "source": [
    "import matplotlib.pyplot as plt\n",
    "import pandas as pd\n",
    "import ast\n",
    "\n",
    "def plot_training_curves(log_file, train_loss='train_loss', val_loss='validation_loss', train_accuracy='train_accuracy', val_accuracy='validation_accuracy'):\n",
    "    data = pd.read_csv(log_file)\n",
    "\n",
    "    # Convert string representations of lists into actual lists\n",
    "    data[train_loss] = data[train_loss].apply(lambda x: ast.literal_eval(x) if isinstance(x, str) else x)\n",
    "    data[val_loss] = data[val_loss].apply(lambda x: ast.literal_eval(x) if isinstance(x, str) else x)\n",
    "    data[train_accuracy] = data[train_accuracy].apply(lambda x: ast.literal_eval(x) if isinstance(x, str) else x)\n",
    "    data[val_accuracy] = data[val_accuracy].apply(lambda x: ast.literal_eval(x) if isinstance(x, str) else x)\n",
    "\n",
    "    # Assuming the lists for each metric contain one value per epoch\n",
    "    epochs = range(1, len(data['train_loss'].iloc[0]) + 1)\n",
    "\n",
    "    plt.figure(figsize=(12, 5))\n",
    "\n",
    "    # Plot training and validation loss\n",
    "    plt.subplot(1, 2, 1)\n",
    "    plt.plot(epochs, data[train_loss].iloc[0], label='Training Loss')\n",
    "    plt.plot(epochs, data[val_loss].iloc[0], label='Validation Loss')\n",
    "    plt.xlabel('Epoch')\n",
    "    plt.ylabel('Loss')\n",
    "    plt.title('Training and Validation Loss')\n",
    "    plt.legend()\n",
    "\n",
    "    # Plot training and validation accuracy\n",
    "    plt.subplot(1, 2, 2)\n",
    "    plt.plot(epochs, data[train_accuracy].iloc[0], label='Training Accuracy')\n",
    "    plt.plot(epochs, data[val_accuracy].iloc[0], label='Validation Accuracy')\n",
    "    plt.xlabel('Epoch')\n",
    "    plt.ylabel('Accuracy')\n",
    "    plt.title('Training and Validation Accuracy')\n",
    "    plt.legend()\n",
    "\n",
    "    plt.show()\n",
    "\n",
    "plot_training_curves('training_log.csv')\n"
   ]
  },
  {
   "cell_type": "code",
   "execution_count": 105,
   "metadata": {},
   "outputs": [],
   "source": [
    "import seaborn as sns\n",
    "\n",
    "def plot_hyperparameter_heatmap(log_file, param1, param2, performance_metric):\n",
    "    \"\"\"\n",
    "    Plots a heatmap for hyperparameter tuning results.\n",
    "\n",
    "    Parameters:\n",
    "    log_file (str): The file path for the log file.\n",
    "    param1 (str): The name of the first hyperparameter.\n",
    "    param2 (str): The name of the second hyperparameter.\n",
    "    performance_metric (str): The performance metric to visualize (e.g., 'validation_accuracy').\n",
    "    \"\"\"\n",
    "    data = pd.read_csv(log_file)\n",
    "    pivot_table = data.pivot(param1, param2, performance_metric)\n",
    "    sns.heatmap(pivot_table, annot=True, fmt=\".3f\", cmap=\"YlGnBu\")\n",
    "    plt.title(f\"Heatmap of {performance_metric} for {param1} vs {param2}\")\n",
    "    plt.show()\n"
   ]
  },
  {
   "cell_type": "markdown",
   "metadata": {
    "id": "fE3eRkDAa91F"
   },
   "source": [
    "### Part (iii) [1pt MODEL] - Hyperparameter tuning\n",
    "\n",
    "Choose at least 4 hyperparameters to tune. Explain how you tuned the hyperparameters.\n",
    "You don't need to include your training curve for every model you trained.\n",
    "Instead, explain what hyperparemters you tuned, what the best validation accuracy was,\n",
    "and the reasoning behind the hyperparameter decisions you made.\n",
    "\n",
    "For this assignment, you should tune more than just your learning rate and epoch.\n",
    "Choose at least 2 hyperparameters that are unrelated to the optimizer."
   ]
  },
  {
   "cell_type": "markdown",
   "metadata": {},
   "source": [
    "#### V2:Trying same original model but with L2 regularization (weight decay)"
   ]
  },
  {
   "cell_type": "code",
   "execution_count": 109,
   "metadata": {},
   "outputs": [
    {
     "name": "stdout",
     "output_type": "stream",
     "text": [
      "Epoch 1, Batch 100/1865, Current Batch Loss: 0.709537\n",
      "Epoch 1, Batch 200/1865, Current Batch Loss: 0.539137\n",
      "Epoch 1, Batch 300/1865, Current Batch Loss: 0.639394\n",
      "Epoch 1, Batch 400/1865, Current Batch Loss: 0.518139\n",
      "Epoch 1, Batch 500/1865, Current Batch Loss: 0.462646\n",
      "Epoch 1, Batch 600/1865, Current Batch Loss: 0.438081\n",
      "Epoch 1, Batch 700/1865, Current Batch Loss: 0.359751\n",
      "Epoch 1, Batch 800/1865, Current Batch Loss: 0.314390\n",
      "Epoch 1, Batch 900/1865, Current Batch Loss: 0.529015\n",
      "Epoch 1, Batch 1000/1865, Current Batch Loss: 0.335722\n",
      "Epoch 1, Batch 1100/1865, Current Batch Loss: 0.462241\n",
      "Epoch 1, Batch 1200/1865, Current Batch Loss: 0.690425\n",
      "Epoch 1, Batch 1300/1865, Current Batch Loss: 0.444829\n",
      "Epoch 1, Batch 1400/1865, Current Batch Loss: 0.451072\n",
      "Epoch 1, Batch 1500/1865, Current Batch Loss: 0.685191\n",
      "Epoch 1, Batch 1600/1865, Current Batch Loss: 0.135404\n",
      "Epoch 1, Batch 1700/1865, Current Batch Loss: 0.537881\n",
      "Epoch 1, Batch 1800/1865, Current Batch Loss: 0.358692\n",
      "Epoch 1 Summary\n",
      "\tTraining Loss: 0.462385 \tTraining Accuracy: 0.842320\n",
      "\tValidation Loss: 0.397305 \tValidation Accuracy: 0.816048\n",
      "Epoch 2, Batch 100/1865, Current Batch Loss: 0.216801\n",
      "Epoch 2, Batch 200/1865, Current Batch Loss: 0.471131\n",
      "Epoch 2, Batch 300/1865, Current Batch Loss: 0.300774\n",
      "Epoch 2, Batch 400/1865, Current Batch Loss: 0.345062\n",
      "Epoch 2, Batch 500/1865, Current Batch Loss: 0.230190\n",
      "Epoch 2, Batch 600/1865, Current Batch Loss: 0.293741\n",
      "Epoch 2, Batch 700/1865, Current Batch Loss: 0.519015\n",
      "Epoch 2, Batch 800/1865, Current Batch Loss: 0.375991\n",
      "Epoch 2, Batch 900/1865, Current Batch Loss: 0.496373\n",
      "Epoch 2, Batch 1000/1865, Current Batch Loss: 0.460184\n",
      "Epoch 2, Batch 1100/1865, Current Batch Loss: 0.415876\n",
      "Epoch 2, Batch 1200/1865, Current Batch Loss: 0.365137\n",
      "Epoch 2, Batch 1300/1865, Current Batch Loss: 0.509069\n",
      "Epoch 2, Batch 1400/1865, Current Batch Loss: 0.368416\n",
      "Epoch 2, Batch 1500/1865, Current Batch Loss: 0.365550\n",
      "Epoch 2, Batch 1600/1865, Current Batch Loss: 0.171909\n",
      "Epoch 2, Batch 1700/1865, Current Batch Loss: 0.275869\n",
      "Epoch 2, Batch 1800/1865, Current Batch Loss: 0.661225\n",
      "Epoch 2 Summary\n",
      "\tTraining Loss: 0.375552 \tTraining Accuracy: 0.864305\n",
      "\tValidation Loss: 0.376568 \tValidation Accuracy: 0.831896\n",
      "Epoch 3, Batch 100/1865, Current Batch Loss: 0.442058\n",
      "Epoch 3, Batch 200/1865, Current Batch Loss: 0.233116\n",
      "Epoch 3, Batch 300/1865, Current Batch Loss: 0.451719\n",
      "Epoch 3, Batch 400/1865, Current Batch Loss: 0.334795\n",
      "Epoch 3, Batch 500/1865, Current Batch Loss: 0.550217\n",
      "Epoch 3, Batch 600/1865, Current Batch Loss: 0.282855\n",
      "Epoch 3, Batch 700/1865, Current Batch Loss: 0.235009\n",
      "Epoch 3, Batch 800/1865, Current Batch Loss: 0.339428\n",
      "Epoch 3, Batch 900/1865, Current Batch Loss: 0.633395\n",
      "Epoch 3, Batch 1000/1865, Current Batch Loss: 0.325232\n",
      "Epoch 3, Batch 1100/1865, Current Batch Loss: 0.503138\n",
      "Epoch 3, Batch 1200/1865, Current Batch Loss: 0.509754\n",
      "Epoch 3, Batch 1300/1865, Current Batch Loss: 0.452781\n",
      "Epoch 3, Batch 1400/1865, Current Batch Loss: 0.346247\n",
      "Epoch 3, Batch 1500/1865, Current Batch Loss: 0.432373\n",
      "Epoch 3, Batch 1600/1865, Current Batch Loss: 0.434392\n",
      "Epoch 3, Batch 1700/1865, Current Batch Loss: 0.557058\n",
      "Epoch 3, Batch 1800/1865, Current Batch Loss: 0.292152\n",
      "Epoch 3 Summary\n",
      "\tTraining Loss: 0.346561 \tTraining Accuracy: 0.867656\n",
      "\tValidation Loss: 0.384564 \tValidation Accuracy: 0.825878\n",
      "Epoch 4, Batch 100/1865, Current Batch Loss: 0.341877\n",
      "Epoch 4, Batch 200/1865, Current Batch Loss: 0.518626\n",
      "Epoch 4, Batch 300/1865, Current Batch Loss: 0.349536\n",
      "Epoch 4, Batch 400/1865, Current Batch Loss: 0.150073\n",
      "Epoch 4, Batch 500/1865, Current Batch Loss: 0.396756\n",
      "Epoch 4, Batch 600/1865, Current Batch Loss: 0.144656\n",
      "Epoch 4, Batch 700/1865, Current Batch Loss: 0.229765\n",
      "Epoch 4, Batch 800/1865, Current Batch Loss: 0.184223\n",
      "Epoch 4, Batch 900/1865, Current Batch Loss: 0.224441\n",
      "Epoch 4, Batch 1000/1865, Current Batch Loss: 0.106307\n",
      "Epoch 4, Batch 1100/1865, Current Batch Loss: 0.421532\n",
      "Epoch 4, Batch 1200/1865, Current Batch Loss: 0.196593\n",
      "Epoch 4, Batch 1300/1865, Current Batch Loss: 0.160023\n",
      "Epoch 4, Batch 1400/1865, Current Batch Loss: 0.441568\n",
      "Epoch 4, Batch 1500/1865, Current Batch Loss: 0.287731\n",
      "Epoch 4, Batch 1600/1865, Current Batch Loss: 0.328843\n",
      "Epoch 4, Batch 1700/1865, Current Batch Loss: 0.275600\n",
      "Epoch 4, Batch 1800/1865, Current Batch Loss: 0.477521\n",
      "Epoch 4 Summary\n",
      "\tTraining Loss: 0.317496 \tTraining Accuracy: 0.896679\n",
      "\tValidation Loss: 0.377126 \tValidation Accuracy: 0.827583\n",
      "Epoch 5, Batch 100/1865, Current Batch Loss: 0.498427\n",
      "Epoch 5, Batch 200/1865, Current Batch Loss: 0.391201\n",
      "Epoch 5, Batch 300/1865, Current Batch Loss: 0.265761\n",
      "Epoch 5, Batch 400/1865, Current Batch Loss: 0.151486\n",
      "Epoch 5, Batch 500/1865, Current Batch Loss: 0.217435\n",
      "Epoch 5, Batch 600/1865, Current Batch Loss: 0.351655\n",
      "Epoch 5, Batch 700/1865, Current Batch Loss: 0.212161\n",
      "Epoch 5, Batch 800/1865, Current Batch Loss: 0.200010\n",
      "Epoch 5, Batch 900/1865, Current Batch Loss: 0.253901\n",
      "Epoch 5, Batch 1000/1865, Current Batch Loss: 0.199133\n",
      "Epoch 5, Batch 1100/1865, Current Batch Loss: 0.284960\n",
      "Epoch 5, Batch 1200/1865, Current Batch Loss: 0.150755\n",
      "Epoch 5, Batch 1300/1865, Current Batch Loss: 0.176540\n",
      "Epoch 5, Batch 1400/1865, Current Batch Loss: 0.221173\n",
      "Epoch 5, Batch 1500/1865, Current Batch Loss: 0.434661\n",
      "Epoch 5, Batch 1600/1865, Current Batch Loss: 0.065135\n",
      "Epoch 5, Batch 1700/1865, Current Batch Loss: 0.267415\n",
      "Epoch 5, Batch 1800/1865, Current Batch Loss: 0.396753\n",
      "Epoch 5 Summary\n",
      "\tTraining Loss: 0.281142 \tTraining Accuracy: 0.917960\n",
      "\tValidation Loss: 0.389699 \tValidation Accuracy: 0.830291\n"
     ]
    }
   ],
   "source": [
    "import torch.optim as optim\n",
    "import torch.nn as nn\n",
    "from datetime import datetime, timedelta  # Import timedelta directly\n",
    "import time\n",
    "\n",
    "def train_model(model, train_loader, val_loader, epochs=5, learning_rate=0.001, weight_decay=1e-5):\n",
    "    criterion = nn.BCELoss()\n",
    "    optimizer = optim.Adam(model.parameters(), lr=learning_rate, weight_decay=weight_decay)\n",
    "\n",
    "    train_losses, val_losses = [], []\n",
    "    train_accuracies, val_accuracies = [], []\n",
    "\n",
    "    start_time = time.time()\n",
    "\n",
    "    for epoch in range(epochs):\n",
    "        model.train()\n",
    "        train_loss = 0.0\n",
    "        for i, batch in enumerate(train_loader):\n",
    "            inputs, labels = batch['review'], batch['label']\n",
    "            if torch.backends.mps.is_available():\n",
    "                inputs, labels = inputs.to(\"mps\"), labels.to(\"mps\")\n",
    "            optimizer.zero_grad()\n",
    "            output, _ = model(inputs, model.init_hidden(inputs.size(0)))\n",
    "            loss = criterion(output.squeeze(), labels.float())\n",
    "            loss.backward()\n",
    "            optimizer.step()\n",
    "            train_loss += loss.item()\n",
    "\n",
    "            if (i + 1) % 100 == 0:\n",
    "                print(f\"Epoch {epoch+1}, Batch {i+1}/{len(train_loader)}, Current Batch Loss: {loss.item():.6f}\")\n",
    "\n",
    "        val_loss = 0.0\n",
    "        val_accuracy = get_accuracy(model, val_loader)\n",
    "        model.eval()\n",
    "        with torch.no_grad():\n",
    "            for batch in val_loader:\n",
    "                inputs, labels = batch['review'], batch['label']\n",
    "                if torch.backends.mps.is_available():\n",
    "                    inputs, labels = inputs.to(\"mps\"), labels.to(\"mps\")\n",
    "                output, _ = model(inputs, model.init_hidden(inputs.size(0)))\n",
    "                loss = criterion(output.squeeze(), labels.float())\n",
    "                val_loss += loss.item()\n",
    "\n",
    "        train_losses.append(train_loss / len(train_loader))\n",
    "        val_losses.append(val_loss / len(val_loader))\n",
    "        train_accuracies.append(get_accuracy(model, train_loader))\n",
    "        val_accuracies.append(val_accuracy)\n",
    "\n",
    "        print(f'Epoch {epoch+1} Summary')\n",
    "        print(f'\\tTraining Loss: {train_losses[-1]:.6f} \\tTraining Accuracy: {train_accuracies[-1]:.6f}')\n",
    "        print(f'\\tValidation Loss: {val_losses[-1]:.6f} \\tValidation Accuracy: {val_accuracies[-1]:.6f}')\n",
    "\n",
    "    end_time = time.time()\n",
    "    duration = end_time - start_time\n",
    "    formatted_duration = str(timedelta(seconds=duration))  # Correct usage of timedelta\n",
    "    timestamp = datetime.now().strftime('%Y-%m-%d %H:%M:%S')\n",
    "\n",
    "    return {\n",
    "        'train_losses': train_losses,\n",
    "        'val_losses': val_losses,\n",
    "        'train_accuracies': train_accuracies,\n",
    "        'val_accuracies': val_accuracies,\n",
    "        'timestamp': timestamp,\n",
    "        'duration': formatted_duration\n",
    "    }\n",
    "\n",
    "# Example usage:\n",
    "model = SentimentRNN(vocab_size, output_size, embedding_dim, hidden_dim, n_layers)\n",
    "if torch.backends.mps.is_available():\n",
    "    model.to(\"mps\")\n",
    "\n",
    "results = train_model(\n",
    "    model=model,\n",
    "    train_loader=train_loader,\n",
    "    val_loader=val_loader,\n",
    "    epochs=5,\n",
    "    learning_rate=0.001,\n",
    "    weight_decay=1e-5\n",
    ")\n",
    "\n",
    "# Now you can use the results dictionary as needed.\n"
   ]
  },
  {
   "cell_type": "code",
   "execution_count": 110,
   "metadata": {},
   "outputs": [
    {
     "data": {
      "text/plain": [
       "{'train_losses': [0.462385272292605,\n",
       "  0.37555179355051815,\n",
       "  0.34656119108120176,\n",
       "  0.3174957094199696,\n",
       "  0.2811422567584879],\n",
       " 'val_losses': [0.39730450611274976,\n",
       "  0.37656821451412564,\n",
       "  0.3845635797016514,\n",
       "  0.37712621627948606,\n",
       "  0.38969924736720246],\n",
       " 'train_accuracies': [0.8423204530982942,\n",
       "  0.864305104058447,\n",
       "  0.8676564228023728,\n",
       "  0.8966788431247696,\n",
       "  0.9179597171486981],\n",
       " 'val_accuracies': [0.8160481444332999,\n",
       "  0.8318956870611836,\n",
       "  0.8258776328986961,\n",
       "  0.8275827482447342,\n",
       "  0.8302908726178536],\n",
       " 'timestamp': '2023-11-18 23:43:45',\n",
       " 'duration': '0:30:09.305681'}"
      ]
     },
     "execution_count": 110,
     "metadata": {},
     "output_type": "execute_result"
    }
   ],
   "source": [
    "results"
   ]
  },
  {
   "cell_type": "code",
   "execution_count": 111,
   "metadata": {
    "id": "A2GEWfDca91G"
   },
   "outputs": [],
   "source": [
    "# TO BE COMPLETED\n",
    "\n",
    "run_details = {\n",
    "    'epochs': 5,\n",
    "    'train_loss': train_losses,\n",
    "    'validation_loss': val_losses,\n",
    "    'train_accuracy': train_accuracies,\n",
    "    'validation_accuracy': val_accuracies,\n",
    "    'learning_rate': 0.001,\n",
    "    'weight_decay' :1e-5 # Example hyperparameter\n",
    "    # Add other hyperparameters and metrics as needed\n",
    "}\n",
    "\n",
    "log_training_results('training_log_v2_weight_decay.csv', run_details)"
   ]
  },
  {
   "cell_type": "code",
   "execution_count": 112,
   "metadata": {
    "id": "mN2t6fSzryME"
   },
   "outputs": [
    {
     "data": {
      "image/png": "[encoded data removed]",
      "text/plain": [
       "<Figure size 1200x500 with 2 Axes>"
      ]
     },
     "metadata": {},
     "output_type": "display_data"
    }
   ],
   "source": [
    "plot_training_curves('training_log_v2_weight_decay.csv')"
   ]
  },
  {
   "cell_type": "markdown",
   "metadata": {},
   "source": [
    "### V3: Weight decay and higher dropout"
   ]
  },
  {
   "cell_type": "code",
   "execution_count": 113,
   "metadata": {},
   "outputs": [],
   "source": [
    "import torch\n",
    "import torch.nn as nn\n",
    "\n",
    "class SentimentRNNHighDropout(SentimentRNN):\n",
    "    def __init__(self, *args, **kwargs):\n",
    "        super().__init__(*args, **kwargs)\n",
    "        self.dropout = nn.Dropout(0.7)  # Increased dropout rate\n",
    "\n",
    "# Keeping same as above \n",
    "vocab_size = 1000  # Size of vocabulary obtained from the training data\n",
    "output_size = 1    # Binary classification (Positive/Negative)\n",
    "embedding_dim = 400\n",
    "hidden_dim = 256\n",
    "n_layers = 2\n",
    "\n",
    "\n",
    "high_dropout_model = SentimentRNNHighDropout(vocab_size, output_size, embedding_dim, hidden_dim, n_layers)\n",
    "if torch.backends.mps.is_available():\n",
    "    high_dropout_model.to(\"mps\")\n"
   ]
  },
  {
   "cell_type": "code",
   "execution_count": 123,
   "metadata": {},
   "outputs": [
    {
     "data": {
      "text/plain": [
       "SentimentRNNHighDropout(\n",
       "  (embedding): Embedding(1000, 400)\n",
       "  (rnn): LSTM(400, 256, num_layers=2, batch_first=True, dropout=0.5)\n",
       "  (dropout): Dropout(p=0.7, inplace=False)\n",
       "  (fc): Linear(in_features=512, out_features=1, bias=True)\n",
       "  (sigmoid): Sigmoid()\n",
       ")"
      ]
     },
     "execution_count": 123,
     "metadata": {},
     "output_type": "execute_result"
    }
   ],
   "source": [
    "high_dropout_model"
   ]
  },
  {
   "cell_type": "code",
   "execution_count": 124,
   "metadata": {},
   "outputs": [],
   "source": [
    "### Training the model "
   ]
  },
  {
   "cell_type": "code",
   "execution_count": 115,
   "metadata": {},
   "outputs": [
    {
     "name": "stdout",
     "output_type": "stream",
     "text": [
      "Epoch 1, Batch 100/1865, Current Batch Loss: 0.614519\n",
      "Epoch 1, Batch 200/1865, Current Batch Loss: 0.681014\n",
      "Epoch 1, Batch 300/1865, Current Batch Loss: 0.722067\n",
      "Epoch 1, Batch 400/1865, Current Batch Loss: 0.656803\n",
      "Epoch 1, Batch 500/1865, Current Batch Loss: 0.643213\n",
      "Epoch 1, Batch 600/1865, Current Batch Loss: 0.563119\n",
      "Epoch 1, Batch 700/1865, Current Batch Loss: 0.774598\n",
      "Epoch 1, Batch 800/1865, Current Batch Loss: 0.883698\n",
      "Epoch 1, Batch 900/1865, Current Batch Loss: 0.532276\n",
      "Epoch 1, Batch 1000/1865, Current Batch Loss: 0.711525\n",
      "Epoch 1, Batch 1100/1865, Current Batch Loss: 0.587417\n",
      "Epoch 1, Batch 1200/1865, Current Batch Loss: 0.456141\n",
      "Epoch 1, Batch 1300/1865, Current Batch Loss: 0.427864\n",
      "Epoch 1, Batch 1400/1865, Current Batch Loss: 0.494803\n",
      "Epoch 1, Batch 1500/1865, Current Batch Loss: 0.390713\n",
      "Epoch 1, Batch 1600/1865, Current Batch Loss: 0.529208\n",
      "Epoch 1, Batch 1700/1865, Current Batch Loss: 0.512944\n",
      "Epoch 1, Batch 1800/1865, Current Batch Loss: 0.488851\n",
      "Epoch 1 Summary\n",
      "\tTraining Loss: 0.555113 \tTraining Accuracy: 0.805858\n",
      "\tValidation Loss: 0.443377 \tValidation Accuracy: 0.793380\n",
      "Epoch 2, Batch 100/1865, Current Batch Loss: 0.323542\n",
      "Epoch 2, Batch 200/1865, Current Batch Loss: 0.406755\n",
      "Epoch 2, Batch 300/1865, Current Batch Loss: 0.265259\n",
      "Epoch 2, Batch 400/1865, Current Batch Loss: 0.488224\n",
      "Epoch 2, Batch 500/1865, Current Batch Loss: 0.474769\n",
      "Epoch 2, Batch 600/1865, Current Batch Loss: 0.519542\n",
      "Epoch 2, Batch 700/1865, Current Batch Loss: 0.562020\n",
      "Epoch 2, Batch 800/1865, Current Batch Loss: 0.783555\n",
      "Epoch 2, Batch 900/1865, Current Batch Loss: 0.363639\n",
      "Epoch 2, Batch 1000/1865, Current Batch Loss: 0.536177\n",
      "Epoch 2, Batch 1100/1865, Current Batch Loss: 0.335120\n",
      "Epoch 2, Batch 1200/1865, Current Batch Loss: 0.731647\n",
      "Epoch 2, Batch 1300/1865, Current Batch Loss: 0.423727\n",
      "Epoch 2, Batch 1400/1865, Current Batch Loss: 0.270823\n",
      "Epoch 2, Batch 1500/1865, Current Batch Loss: 0.426658\n",
      "Epoch 2, Batch 1600/1865, Current Batch Loss: 0.600192\n",
      "Epoch 2, Batch 1700/1865, Current Batch Loss: 0.255356\n",
      "Epoch 2, Batch 1800/1865, Current Batch Loss: 0.540749\n",
      "Epoch 2 Summary\n",
      "\tTraining Loss: 0.422326 \tTraining Accuracy: 0.834378\n",
      "\tValidation Loss: 0.392502 \tValidation Accuracy: 0.820361\n",
      "Epoch 3, Batch 100/1865, Current Batch Loss: 0.235611\n",
      "Epoch 3, Batch 200/1865, Current Batch Loss: 0.321941\n",
      "Epoch 3, Batch 300/1865, Current Batch Loss: 0.449915\n",
      "Epoch 3, Batch 400/1865, Current Batch Loss: 0.329386\n",
      "Epoch 3, Batch 500/1865, Current Batch Loss: 0.499650\n",
      "Epoch 3, Batch 600/1865, Current Batch Loss: 0.675160\n",
      "Epoch 3, Batch 700/1865, Current Batch Loss: 0.256784\n",
      "Epoch 3, Batch 800/1865, Current Batch Loss: 0.237151\n",
      "Epoch 3, Batch 900/1865, Current Batch Loss: 0.409200\n",
      "Epoch 3, Batch 1000/1865, Current Batch Loss: 0.384752\n",
      "Epoch 3, Batch 1100/1865, Current Batch Loss: 0.243715\n",
      "Epoch 3, Batch 1200/1865, Current Batch Loss: 0.470828\n",
      "Epoch 3, Batch 1300/1865, Current Batch Loss: 0.238207\n",
      "Epoch 3, Batch 1400/1865, Current Batch Loss: 0.474718\n",
      "Epoch 3, Batch 1500/1865, Current Batch Loss: 0.153105\n",
      "Epoch 3, Batch 1600/1865, Current Batch Loss: 0.421334\n",
      "Epoch 3, Batch 1700/1865, Current Batch Loss: 0.337994\n",
      "Epoch 3, Batch 1800/1865, Current Batch Loss: 0.471439\n",
      "Epoch 3 Summary\n",
      "\tTraining Loss: 0.378145 \tTraining Accuracy: 0.856362\n",
      "\tValidation Loss: 0.385978 \tValidation Accuracy: 0.824674\n",
      "Epoch 4, Batch 100/1865, Current Batch Loss: 0.214169\n",
      "Epoch 4, Batch 200/1865, Current Batch Loss: 0.120190\n",
      "Epoch 4, Batch 300/1865, Current Batch Loss: 0.114437\n",
      "Epoch 4, Batch 400/1865, Current Batch Loss: 0.725048\n",
      "Epoch 4, Batch 500/1865, Current Batch Loss: 0.321984\n",
      "Epoch 4, Batch 600/1865, Current Batch Loss: 0.379112\n",
      "Epoch 4, Batch 700/1865, Current Batch Loss: 0.410622\n",
      "Epoch 4, Batch 800/1865, Current Batch Loss: 0.248578\n",
      "Epoch 4, Batch 900/1865, Current Batch Loss: 0.248757\n",
      "Epoch 4, Batch 1000/1865, Current Batch Loss: 0.471315\n",
      "Epoch 4, Batch 1100/1865, Current Batch Loss: 0.650884\n",
      "Epoch 4, Batch 1200/1865, Current Batch Loss: 0.334507\n",
      "Epoch 4, Batch 1300/1865, Current Batch Loss: 0.409032\n",
      "Epoch 4, Batch 1400/1865, Current Batch Loss: 0.345780\n",
      "Epoch 4, Batch 1500/1865, Current Batch Loss: 0.472698\n",
      "Epoch 4, Batch 1600/1865, Current Batch Loss: 0.314530\n",
      "Epoch 4, Batch 1700/1865, Current Batch Loss: 0.309943\n",
      "Epoch 4, Batch 1800/1865, Current Batch Loss: 0.310330\n",
      "Epoch 4 Summary\n",
      "\tTraining Loss: 0.358205 \tTraining Accuracy: 0.855893\n",
      "\tValidation Loss: 0.397888 \tValidation Accuracy: 0.816650\n",
      "Epoch 5, Batch 100/1865, Current Batch Loss: 0.216699\n",
      "Epoch 5, Batch 200/1865, Current Batch Loss: 0.287758\n",
      "Epoch 5, Batch 300/1865, Current Batch Loss: 0.323173\n",
      "Epoch 5, Batch 400/1865, Current Batch Loss: 0.420303\n",
      "Epoch 5, Batch 500/1865, Current Batch Loss: 0.217482\n",
      "Epoch 5, Batch 600/1865, Current Batch Loss: 0.185305\n",
      "Epoch 5, Batch 700/1865, Current Batch Loss: 0.306529\n",
      "Epoch 5, Batch 800/1865, Current Batch Loss: 0.406619\n",
      "Epoch 5, Batch 900/1865, Current Batch Loss: 0.359330\n",
      "Epoch 5, Batch 1000/1865, Current Batch Loss: 0.285377\n",
      "Epoch 5, Batch 1100/1865, Current Batch Loss: 0.288747\n",
      "Epoch 5, Batch 1200/1865, Current Batch Loss: 0.368384\n",
      "Epoch 5, Batch 1300/1865, Current Batch Loss: 0.292374\n",
      "Epoch 5, Batch 1400/1865, Current Batch Loss: 0.413601\n",
      "Epoch 5, Batch 1500/1865, Current Batch Loss: 0.347566\n",
      "Epoch 5, Batch 1600/1865, Current Batch Loss: 0.370255\n",
      "Epoch 5, Batch 1700/1865, Current Batch Loss: 0.609763\n",
      "Epoch 5, Batch 1800/1865, Current Batch Loss: 0.540701\n",
      "Epoch 5 Summary\n",
      "\tTraining Loss: 0.334471 \tTraining Accuracy: 0.887262\n",
      "\tValidation Loss: 0.380871 \tValidation Accuracy: 0.831695\n"
     ]
    }
   ],
   "source": [
    "high_dropout_results = train_model(\n",
    "    model=high_dropout_model,\n",
    "    train_loader=train_loader,\n",
    "    val_loader=val_loader,\n",
    "    epochs=5,\n",
    "    learning_rate=0.001,\n",
    "    weight_decay=1e-5\n",
    ")"
   ]
  },
  {
   "cell_type": "code",
   "execution_count": 125,
   "metadata": {},
   "outputs": [
    {
     "data": {
      "text/plain": [
       "{'train_losses': [0.5551132563851154,\n",
       "  0.4223261289558206,\n",
       "  0.3781449127173296,\n",
       "  0.35820543006182354,\n",
       "  0.33447107159939593],\n",
       " 'val_losses': [0.4433772874375184,\n",
       "  0.39250206073316246,\n",
       "  0.38597830400491756,\n",
       "  0.39788844786250055,\n",
       "  0.3808714329169538],\n",
       " 'train_accuracies': [0.8058581051643822,\n",
       "  0.8343778276751902,\n",
       "  0.856362478635343,\n",
       "  0.8558932940111934,\n",
       "  0.8872616374543383],\n",
       " 'val_accuracies': [0.7933801404212638,\n",
       "  0.8203610832497492,\n",
       "  0.8246740220661986,\n",
       "  0.8166499498495486,\n",
       "  0.8316950852557673],\n",
       " 'timestamp': '2023-11-19 00:13:46',\n",
       " 'duration': '0:30:00.567139'}"
      ]
     },
     "execution_count": 125,
     "metadata": {},
     "output_type": "execute_result"
    }
   ],
   "source": [
    "high_dropout_results"
   ]
  },
  {
   "cell_type": "code",
   "execution_count": 150,
   "metadata": {},
   "outputs": [
    {
     "data": {
      "text/plain": [
       "'SentimentRNNHighDropout(\\n  (embedding): Embedding(1000, 400)\\n  (rnn): LSTM(400, 256, num_layers=2, batch_first=True, dropout=0.5)\\n  (dropout): Dropout(p=0.7, inplace=False)\\n  (fc): Linear(in_features=512, out_features=1, bias=True)\\n  (sigmoid): Sigmoid()\\n)'"
      ]
     },
     "execution_count": 150,
     "metadata": {},
     "output_type": "execute_result"
    }
   ],
   "source": [
    "str(high_dropout_model)"
   ]
  },
  {
   "cell_type": "code",
   "execution_count": 151,
   "metadata": {},
   "outputs": [],
   "source": [
    "run_details = {\n",
    "    'model_version': 'high_dropout',\n",
    "    'train_loss': high_dropout_results['train_losses'],\n",
    "    'val_loss': high_dropout_results['val_losses'],\n",
    "    'train_accuracies': high_dropout_results['train_accuracies'],\n",
    "    'val_accuracies': high_dropout_results['val_accuracies'],\n",
    "    'timestamp': high_dropout_results['timestamp'],\n",
    "    'duration': high_dropout_results['duration'], \n",
    "    'model_description':str(high_dropout_model)\n",
    "    # Add any other relevant details here\n",
    "}\n",
    "\n",
    "log_training_results('training_log_v3_high_dropout.csv', run_details)"
   ]
  },
  {
   "cell_type": "code",
   "execution_count": 152,
   "metadata": {},
   "outputs": [
    {
     "data": {
      "text/html": [
       "<div>\n",
       "<style scoped>\n",
       "    .dataframe tbody tr th:only-of-type {\n",
       "        vertical-align: middle;\n",
       "    }\n",
       "\n",
       "    .dataframe tbody tr th {\n",
       "        vertical-align: top;\n",
       "    }\n",
       "\n",
       "    .dataframe thead th {\n",
       "        text-align: right;\n",
       "    }\n",
       "</style>\n",
       "<table border=\"1\" class=\"dataframe\">\n",
       "  <thead>\n",
       "    <tr style=\"text-align: right;\">\n",
       "      <th></th>\n",
       "      <th>model_version</th>\n",
       "      <th>train_loss</th>\n",
       "      <th>val_loss</th>\n",
       "      <th>train_accuracies</th>\n",
       "      <th>val_accuracies</th>\n",
       "      <th>timestamp</th>\n",
       "      <th>duration</th>\n",
       "      <th>model_description</th>\n",
       "    </tr>\n",
       "  </thead>\n",
       "  <tbody>\n",
       "    <tr>\n",
       "      <th>0</th>\n",
       "      <td>high_dropout</td>\n",
       "      <td>[0.5551132563851154, 0.4223261289558206, 0.378...</td>\n",
       "      <td>[0.4433772874375184, 0.39250206073316246, 0.38...</td>\n",
       "      <td>[0.8058581051643822, 0.8343778276751902, 0.856...</td>\n",
       "      <td>[0.7933801404212638, 0.8203610832497492, 0.824...</td>\n",
       "      <td>2023-11-19 00:13:46</td>\n",
       "      <td>0:30:00.567139</td>\n",
       "      <td>SentimentRNNHighDropout(\\n  (embedding): Embed...</td>\n",
       "    </tr>\n",
       "  </tbody>\n",
       "</table>\n",
       "</div>"
      ],
      "text/plain": [
       "  model_version                                         train_loss  \\\n",
       "0  high_dropout  [0.5551132563851154, 0.4223261289558206, 0.378...   \n",
       "\n",
       "                                            val_loss  \\\n",
       "0  [0.4433772874375184, 0.39250206073316246, 0.38...   \n",
       "\n",
       "                                    train_accuracies  \\\n",
       "0  [0.8058581051643822, 0.8343778276751902, 0.856...   \n",
       "\n",
       "                                      val_accuracies            timestamp  \\\n",
       "0  [0.7933801404212638, 0.8203610832497492, 0.824...  2023-11-19 00:13:46   \n",
       "\n",
       "         duration                                  model_description  \n",
       "0  0:30:00.567139  SentimentRNNHighDropout(\\n  (embedding): Embed...  "
      ]
     },
     "execution_count": 152,
     "metadata": {},
     "output_type": "execute_result"
    }
   ],
   "source": [
    "pd.read_csv('training_log_v3_high_dropout.csv')"
   ]
  },
  {
   "cell_type": "code",
   "execution_count": 153,
   "metadata": {},
   "outputs": [],
   "source": [
    "# plot_training_curves(log_file, train_loss='train_loss', val_loss='validation_loss', train_accuracy='train_accuracy', val_accuracy='validation_accuracy'):\n",
    "#     data = pd.read_csv(log_file)"
   ]
  },
  {
   "cell_type": "code",
   "execution_count": 154,
   "metadata": {},
   "outputs": [
    {
     "data": {
      "image/png": "[encoded data removed]",
      "text/plain": [
       "<Figure size 1200x500 with 2 Axes>"
      ]
     },
     "metadata": {},
     "output_type": "display_data"
    }
   ],
   "source": [
    "plot_training_curves('training_log.csv')"
   ]
  },
  {
   "cell_type": "code",
   "execution_count": 155,
   "metadata": {},
   "outputs": [
    {
     "data": {
      "image/png": "[encoded data removed]",
      "text/plain": [
       "<Figure size 1200x500 with 2 Axes>"
      ]
     },
     "metadata": {},
     "output_type": "display_data"
    }
   ],
   "source": [
    "plot_training_curves('training_log_v3_high_dropout.csv', val_loss='val_loss', train_accuracy='train_accuracies', val_accuracy='val_accuracies')"
   ]
  },
  {
   "cell_type": "code",
   "execution_count": null,
   "metadata": {},
   "outputs": [],
   "source": []
  },
  {
   "cell_type": "code",
   "execution_count": null,
   "metadata": {},
   "outputs": [],
   "source": []
  },
  {
   "cell_type": "markdown",
   "metadata": {
    "id": "Gznefulsa91V"
   },
   "source": [
    "## Part 4. Evaluation [10 pt]\n",
    "\n",
    "**Important**. At this point in the assignment your test data should not have been evaluated by any of your models. The test data should be evaluated only after you have finished all the previous parts of the assignment. Once you evaluate your models on the test data you cannot change your models or else you may make hyperparameter adjustments that could lead to overfitting to the test data.\n",
    "\n",
    "### Part (i) [3pt RESULT]\n",
    "\n",
    "Report the final test accuracy of your model. Comment on how the result compares with accuracy obtained on the training and validation data. Are the results what you expected? Explain."
   ]
  },
  {
   "cell_type": "code",
   "execution_count": null,
   "metadata": {
    "id": "D5L5D-A1a91W"
   },
   "outputs": [],
   "source": [
    "# TO BE COMPLETED\n",
    "\n",
    "\n",
    "\n"
   ]
  },
  {
   "cell_type": "code",
   "execution_count": null,
   "metadata": {
    "id": "DTHWBJCu_Fyz"
   },
   "outputs": [],
   "source": [
    "'''\n",
    "PROVIDE YOUR ANSWER BELOW\n",
    "\n",
    "\n",
    "\n",
    "\n",
    "\n",
    "\n",
    "'''\n"
   ]
  },
  {
   "cell_type": "markdown",
   "metadata": {
    "id": "kLvxrCP5Bwdu"
   },
   "source": [
    "### Part (ii) [3pt DISCUSSION]\n",
    "\n",
    "Look over the misclassified samples in the test data and see if you can find any patterns on where the model has difficulty with identifying the review sentiment. Provide up to 5 examples of positive and negative reviews each to support your findings."
   ]
  },
  {
   "cell_type": "code",
   "execution_count": null,
   "metadata": {
    "id": "IJt0APcBBwd5"
   },
   "outputs": [],
   "source": [
    "# TO BE COMPLETED\n",
    "\n",
    "\n",
    "\n"
   ]
  },
  {
   "cell_type": "code",
   "execution_count": null,
   "metadata": {
    "id": "Fyr16MISBwd5"
   },
   "outputs": [],
   "source": [
    "'''\n",
    "PROVIDE YOUR ANSWER BELOW\n",
    "\n",
    "\n",
    "\n",
    "\n",
    "\n",
    "\n",
    "'''\n"
   ]
  },
  {
   "cell_type": "markdown",
   "metadata": {
    "id": "0jGHtQFpa91b"
   },
   "source": [
    "### Part (iii) [2pt RESULT]\n",
    "\n",
    "What is your model's prediction of the **probability** that\n",
    "the review message provided below is a positive review?\n",
    "\n",
    "Hint: You will need to apply the same processing on the review as was done on the the train, val, and test data sets."
   ]
  },
  {
   "cell_type": "code",
   "execution_count": null,
   "metadata": {
    "id": "h_2nSJq8a91b"
   },
   "outputs": [],
   "source": [
    "review = \"\"\" Man.... I wish I loved this movie more than I did. Don't get me wrong,\n",
    "it's a solid action movie with jaw-dropping stunts (some of the best in the series),\n",
    "but as a Mission: Impossible movie, it felt like a small step backward for the franchise.\n",
    "Fallout had mind-blowing action sequences and stunt work, along with developing Ethan's\n",
    "relationship with Ilsa, providing closure with Julia, showing the lengths Ethan would\n",
    "go to protect those closest to him, and battling an imposing villain. Dead Reckoning:\n",
    "Part One stretches the movie across two films only to seemingly showcase action\n",
    "spectacle after action spectacle while sacrificing character development.\n",
    "Characters I have grown to love over a decade of films felt sidelined, ignored,\n",
    "or wasted. Hayley Atwell's new character chewed up most of the screen time, and\n",
    "while she was fantastic, I wanted to see more of the original team. The new villain\n",
    "had an inconsistent ability that confused more than intimidated. There were some\n",
    "important emotional moments that I just didn't feel the weight of when I definitely\n",
    "should have. Part Two might tie everything together and make me enjoy Part One\n",
    "more in retrospect, but unfortunately, I left wanting more from this one. \"\n",
    "\n"
   ]
  },
  {
   "cell_type": "code",
   "execution_count": null,
   "metadata": {
    "id": "CB-82EtwBmKb"
   },
   "outputs": [],
   "source": [
    "# TO BE COMPLETED\n",
    "\n",
    "\n",
    "\n",
    "\n",
    "\n"
   ]
  },
  {
   "cell_type": "markdown",
   "metadata": {
    "id": "QD1zgYJpa91f"
   },
   "source": [
    "### Part (iv) [2pt DISCUSSION]\n",
    "\n",
    "Do you think that detecting positive and negative reviews is an easy or difficult task?\n",
    "\n",
    "Since machine learning models are expensive to train and deploy, it is very\n",
    "important to compare our models against baseline models: a simple\n",
    "model that is easy to build and inexpensive to run that we can compare our\n",
    "recurrent neural network model against.\n",
    "\n",
    "Explain how you might build a simple baseline model. This baseline model\n",
    "can be a simple neural network (with very few weights), a hand-written algorithm,\n",
    "or any other strategy that is easy to build and test.\n",
    "\n",
    "**Do not actually build a baseline model. Instead, provide instructions on\n",
    "how to build it.**"
   ]
  },
  {
   "cell_type": "code",
   "execution_count": null,
   "metadata": {
    "id": "7dwiiZYdvz34"
   },
   "outputs": [],
   "source": [
    "'''\n",
    "PROVIDE YOUR ANSWER BELOW\n",
    "\n",
    "\n",
    "\n",
    "\n",
    "\n",
    "\n",
    "'''"
   ]
  },
  {
   "cell_type": "markdown",
   "metadata": {
    "id": "zIR3Q5l0v1HP"
   },
   "source": [
    "# PART B - Transfer Learning\n",
    "\n",
    "For many natural language processing tasks, it is generally not a good idea to train a very large deep neural network model from scratch due to enormous compute requirements and lack of sufficient amounts of training data. Instead, you should always try to take advantage of an existing model that performs similar tasks as the one you need to solve.\n",
    "\n",
    "In this part of the assignment we will be using pretrained models to improve the performance on identifying positive and negative reviews. There are several pretrained models that are available to us, here we will use a pretrained BERT model that comes with the hugging face transformer library.\n",
    "\n",
    "Provided below is sample code to get you started. For more details please visit the hugging face tutorial on using pretrained models using PyTorch: https://huggingface.co/docs/transformers/training\n",
    "\n",
    "#### Sample Code"
   ]
  },
  {
   "cell_type": "code",
   "execution_count": null,
   "metadata": {
    "id": "5R-_BQyiAMoo"
   },
   "outputs": [],
   "source": [
    "# install relevant libraries\n",
    "!pip install -qq transformers"
   ]
  },
  {
   "cell_type": "code",
   "execution_count": null,
   "metadata": {
    "id": "316Xs5WBv0kg"
   },
   "outputs": [],
   "source": [
    "# load relevant libraries\n",
    "import transformers\n",
    "from transformers import BertModel, BertTokenizer, AdamW, get_linear_schedule_with_warmup\n",
    "\n",
    "PRE_TRAINED_MODEL_NAME = 'bert-base-cased'\n",
    "\n",
    "tokenizer = BertTokenizer.from_pretrained(PRE_TRAINED_MODEL_NAME)\n",
    "bert_model = BertModel.from_pretrained(PRE_TRAINED_MODEL_NAME)\n"
   ]
  },
  {
   "cell_type": "code",
   "execution_count": null,
   "metadata": {
    "id": "_20pdf-tYySb"
   },
   "outputs": [],
   "source": [
    "sample_txt = 'I want to learn how to do sentiment analysis using BERT and tokenizer.'\n",
    "\n",
    "encoding = tokenizer.encode_plus(\n",
    "  sample_txt,\n",
    "  max_length=32,\n",
    "  add_special_tokens=True, # Add '[CLS]' and '[SEP]'\n",
    "  return_token_type_ids=False,\n",
    "  pad_to_max_length=True,\n",
    "  return_attention_mask=True,\n",
    "  return_tensors='pt',  # Return PyTorch tensors\n",
    "  truncation = True\n",
    ")"
   ]
  },
  {
   "cell_type": "code",
   "execution_count": null,
   "metadata": {
    "id": "O1B4RiOOcbGY"
   },
   "outputs": [],
   "source": [
    "encoding['input_ids']"
   ]
  },
  {
   "cell_type": "code",
   "execution_count": null,
   "metadata": {
    "id": "7sZ1j9PfceFF"
   },
   "outputs": [],
   "source": [
    "encoding['attention_mask']"
   ]
  },
  {
   "cell_type": "code",
   "execution_count": null,
   "metadata": {
    "id": "dZ458Q_uYzxu"
   },
   "outputs": [],
   "source": [
    "hidden_states = bert_model(input_ids=encoding['input_ids'],\n",
    "                           attention_mask=encoding['attention_mask'])[0]\n",
    "pooled_output = bert_model(input_ids=encoding['input_ids'],\n",
    "                           attention_mask=encoding['attention_mask'])[1]"
   ]
  },
  {
   "cell_type": "code",
   "execution_count": null,
   "metadata": {
    "id": "GqwUAEIzZNBO"
   },
   "outputs": [],
   "source": [
    "hidden_size = bert_model.config.hidden_size\n",
    "\n",
    "print(hidden_size)\n",
    "print(hidden_states.shape)\n",
    "print(pooled_output.shape)\n"
   ]
  },
  {
   "cell_type": "markdown",
   "metadata": {
    "id": "7HCaqLDaZo2l"
   },
   "source": [
    "In the sample code provided we loaded a short text sequence, tokenized it using the same tokenization that was used in the pretrained BERT model, and fed the tokenized input into the BERT model to obtain the embeddings.\n",
    "\n",
    "The model output consists of two forms of embeddings:\n",
    "- **hidden_states** are the final layer of outputs that has a shape sequence_length x embeddings, much like the hidden states of a recurrent neural network\n",
    "- **pooled_output** is the result of applying max pooling on the hidden states to effectively collapse the sequence dimenension and ensure the same output size for any given sequence before feeding into the classification stage\n",
    "\n",
    "Note that you can preprocess all of the data prior to training a classifier stage for sentiment analysis to help speed up the training process. This is no different from the process we applied in an earlier assignment using AlexNet and image data."
   ]
  },
  {
   "cell_type": "markdown",
   "metadata": {
    "id": "4le9bqnuc2JZ"
   },
   "source": [
    "## Part 1. Data Loading [5 pt]\n",
    "\n",
    "We will be using the same \"IMDB Movie Review Dataset\" that we used earlier. Reload the data and complete Part B of the assignment. You should be able to complete part B independently from Part A.\n",
    "\n",
    "### Part (i) [1pt EXPLORATORY]\n",
    "\n",
    "Provided below is a DataLoader for your training and test datasets so you can iterate over batches of data. Run the DataLoader to create your training, validation, and test data."
   ]
  },
  {
   "cell_type": "code",
   "execution_count": null,
   "metadata": {
    "id": "LzlpaXmteHQd"
   },
   "outputs": [],
   "source": [
    "from torch.utils.data import Dataset, DataLoader\n",
    "\n",
    "class MovieReviewDataset(Dataset):\n",
    "\n",
    "  def __init__(self, reviews, targets, tokenizer, max_len):\n",
    "    self.reviews = reviews\n",
    "    self.targets = targets\n",
    "    self.tokenizer = tokenizer\n",
    "    self.max_len = max_len\n",
    "\n",
    "  def __len__(self):\n",
    "    return len(self.reviews)\n",
    "\n",
    "  def __getitem__(self, item):\n",
    "    review = str(self.reviews[item])\n",
    "    target = self.targets[item]\n",
    "\n",
    "    encoding = self.tokenizer.encode_plus(\n",
    "      review,\n",
    "      add_special_tokens=True,\n",
    "      max_length=self.max_len,\n",
    "      return_token_type_ids=False,\n",
    "      pad_to_max_length=True,\n",
    "      return_attention_mask=True,\n",
    "      return_tensors='pt',\n",
    "      truncation = True\n",
    "    )\n",
    "\n",
    "    return {\n",
    "      'review_text': review,\n",
    "      'input_ids': encoding['input_ids'].flatten(),\n",
    "      'attention_mask': encoding['attention_mask'].flatten(),\n",
    "      'targets': torch.tensor(target, dtype=torch.long)\n",
    "    }"
   ]
  },
  {
   "cell_type": "code",
   "execution_count": null,
   "metadata": {
    "id": "27_5roCZeI8T"
   },
   "outputs": [],
   "source": [
    "# prepare data loaders\n",
    "MAX_LEN = 400\n",
    "BATCH_SIZE = 16\n",
    "\n",
    "#training data\n",
    "train_data = MovieReviewDataset(reviews=df_train['review'].to_numpy(),\n",
    "                                targets=df_train['sentiment'].to_numpy(),\n",
    "                                tokenizer=tokenizer,\n",
    "                                max_len=MAX_LEN)\n",
    "\n",
    "train_data_loader = DataLoader(train_data, batch_size = BATCH_SIZE, num_workers = 4) #modify num_works as needed\n",
    "\n",
    "#validation data\n",
    "\n",
    "# TO BE COMPLETED\n",
    "\n",
    "#test data\n",
    "\n",
    "# TO BE COMPLETED\n",
    "\n",
    "\n"
   ]
  },
  {
   "cell_type": "markdown",
   "metadata": {
    "id": "g0ymyMvzfdVv"
   },
   "source": [
    "### Part (ii) [1pt EXPLORATORY]\n",
    "\n",
    "Use the **train_data_loader** to load one sample. What are the different attributes provided with the sample and how are they used?"
   ]
  },
  {
   "cell_type": "code",
   "execution_count": null,
   "metadata": {
    "id": "UgdwGNtik1ZR"
   },
   "outputs": [],
   "source": [
    "# TO BE COMPLETED\n",
    "\n",
    "\n"
   ]
  },
  {
   "cell_type": "code",
   "execution_count": null,
   "metadata": {
    "id": "OOVKM8kPdPwC"
   },
   "outputs": [],
   "source": [
    "'''\n",
    "PROVIDE YOUR ANSWER BELOW\n",
    "\n",
    "\n",
    "\n",
    "\n",
    "\n",
    "\n",
    "'''"
   ]
  },
  {
   "cell_type": "markdown",
   "metadata": {
    "id": "GXQt2HiGfh4p"
   },
   "source": [
    "### Part (iii) [1pt EXPLORATORY]\n",
    "\n",
    "Determine the range of values for the tokens in the training data. How are the tokens obtained?\n",
    "\n",
    "Hint: You can apply your intuition here, or do some additional research to find how the \"bert-base-cased\" tokenization is done."
   ]
  },
  {
   "cell_type": "code",
   "execution_count": null,
   "metadata": {
    "id": "6cVEH5YhkYUQ"
   },
   "outputs": [],
   "source": [
    "# TO BE COMPLETED\n",
    "\n",
    "\n",
    "\n"
   ]
  },
  {
   "cell_type": "code",
   "execution_count": null,
   "metadata": {
    "id": "Im2KNoOPdYHU"
   },
   "outputs": [],
   "source": [
    "'''\n",
    "PROVIDE YOUR ANSWER BELOW\n",
    "\n",
    "\n",
    "\n",
    "\n",
    "\n",
    "\n",
    "'''"
   ]
  },
  {
   "cell_type": "markdown",
   "metadata": {
    "id": "6CYKglzbfTmw"
   },
   "source": [
    "### Part (iv) [1pt EXPLORATORY]\n",
    "\n",
    "Generate histograms of all the token values in the training data. Repeat for the validation and test data. What are the top 5 occuring tokens in the training_dataset? What do these tokens represent?"
   ]
  },
  {
   "cell_type": "code",
   "execution_count": null,
   "metadata": {
    "id": "HTZdkR7ukhRg"
   },
   "outputs": [],
   "source": [
    "# TO BE COMPLETED\n",
    "\n",
    "\n",
    "\n"
   ]
  },
  {
   "cell_type": "code",
   "execution_count": null,
   "metadata": {
    "id": "fS1c0a6wddHl"
   },
   "outputs": [],
   "source": [
    "'''\n",
    "PROVIDE YOUR ANSWER BELOW\n",
    "\n",
    "\n",
    "\n",
    "\n",
    "\n",
    "\n",
    "'''"
   ]
  },
  {
   "cell_type": "markdown",
   "metadata": {
    "id": "3ElnJDdgcaiy"
   },
   "source": [
    "### Part (v) [1pt EXPLORATORY]\n",
    "\n",
    "Select a single sample from your training DataLoader and feed it through the **bert_model** to obtain the hidden_states and pooled_output. Briefly describe what each tensor dimension represents and what affects the size of each dimension."
   ]
  },
  {
   "cell_type": "code",
   "execution_count": null,
   "metadata": {
    "id": "1HOknY9Ncai9"
   },
   "outputs": [],
   "source": [
    "# TO BE COMPLETED\n",
    "\n",
    "\n",
    "\n"
   ]
  },
  {
   "cell_type": "code",
   "execution_count": null,
   "metadata": {
    "id": "34OnAb9EdjtW"
   },
   "outputs": [],
   "source": [
    "'''\n",
    "PROVIDE YOUR ANSWER BELOW\n",
    "\n",
    "\n",
    "\n",
    "\n",
    "\n",
    "\n",
    "'''"
   ]
  },
  {
   "cell_type": "markdown",
   "metadata": {
    "id": "rDbQ7nRBek5S"
   },
   "source": [
    "## Part 2. Model Architecture [2 pt]\n",
    "\n",
    "### Part (i) [1pt MODEL]\n",
    "\n",
    "Prepare a review classifier model that builds on the pooled output from the Bert model to identify positive and negative reviews."
   ]
  },
  {
   "cell_type": "code",
   "execution_count": null,
   "metadata": {
    "id": "kAISbN5VexqS"
   },
   "outputs": [],
   "source": [
    "class SentimentClassifierPooled(nn.Module):\n",
    "\n",
    "  def __init__(self, n_classes):\n",
    "    super(SentimentClassifierPooled, self).__init__()\n",
    "    self.bert = BertModel.from_pretrained(PRE_TRAINED_MODEL_NAME)\n",
    "\n",
    "    # TO BE COMPLETED\n",
    "\n",
    "  def forward(self, input_ids, attention_mask):\n",
    "    pooled_output = self.bert(input_ids=input_ids, attention_mask=attention_mask)[1]\n",
    "\n",
    "    # TO BE COMPLETED\n",
    "\n"
   ]
  },
  {
   "cell_type": "markdown",
   "metadata": {
    "id": "RLFzooLUgn3c"
   },
   "source": [
    "### Part (ii) [1pt MODEL]\n",
    "\n",
    "Construct the architecture for a review classifier model that uses the last hidden output from the Bert model to identify positive and negative reviews."
   ]
  },
  {
   "cell_type": "code",
   "execution_count": null,
   "metadata": {
    "id": "Q34oWGhoe38H"
   },
   "outputs": [],
   "source": [
    "class SentimentClassifierLast(nn.Module):\n",
    "\n",
    "  def __init__(self, n_classes):\n",
    "    super(SentimentClassifierLast, self).__init__()\n",
    "    self.bert = BertModel.from_pretrained(PRE_TRAINED_MODEL_NAME)\n",
    "\n",
    "    # TO BE COMPLETED\n",
    "\n",
    "  def forward(self, input_ids, attention_mask):\n",
    "\n",
    "    # TO BE COMPLETED\n"
   ]
  },
  {
   "cell_type": "markdown",
   "metadata": {
    "id": "nqkKp1CgiYZb"
   },
   "source": [
    "## Part 3. Training [3 pt]\n",
    "\n",
    "### Part (i) [1pt MODEL]\n",
    "\n",
    "Complete the `get_accuracy` function, which will compute the\n",
    "accuracy (rate) of your model across a dataset (e.g. validation set)."
   ]
  },
  {
   "cell_type": "code",
   "execution_count": null,
   "metadata": {
    "id": "LC89f2i7iYZl"
   },
   "outputs": [],
   "source": [
    "def get_accuracy(model, data):\n",
    "    \"\"\" Compute the accuracy of the `model` across a dataset `data`\n",
    "\n",
    "    Example usage:\n",
    "\n",
    "    >>> model = MyRNN() # to be defined\n",
    "    >>> get_accuracy(model, valid_loader) # the variable `valid_loader` is from above\n",
    "    \"\"\"\n",
    "\n",
    "    # TO BE COMPLETED\n",
    "\n"
   ]
  },
  {
   "cell_type": "markdown",
   "metadata": {
    "id": "ruaRg5JCiYZm"
   },
   "source": [
    "### Part (ii) [1pt MODEL]\n",
    "\n",
    "Write a function **train_model** to train your model. Plot the training curve of your final model.\n",
    "Your training curve should have the training/validation loss and\n",
    "accuracy plotted periodically."
   ]
  },
  {
   "cell_type": "code",
   "execution_count": null,
   "metadata": {
    "id": "wuqypAPxiYZm"
   },
   "outputs": [],
   "source": [
    "# TO BE COMPLETED\n",
    "\n",
    "\n"
   ]
  },
  {
   "cell_type": "markdown",
   "metadata": {
    "id": "XVvzpQRWiYZm"
   },
   "source": [
    "### Part (iii) [1pt MODEL]\n",
    "\n",
    "Choose at least 4 hyperparameters to tune. Explain how you tuned the hyperparameters. You don't need to include your training curve for every model you trained.\n",
    "Instead, explain what hyperparemters you tuned, what the best validation accuracy was,\n",
    "and the reasoning behind the hyperparameter decisions you made.\n",
    "\n",
    "For this assignment, you should tune more than just your learning rate and epoch.\n",
    "Choose at least 2 hyperparameters that are unrelated to the optimizer."
   ]
  },
  {
   "cell_type": "code",
   "execution_count": null,
   "metadata": {
    "id": "WeCZtA9iiYZm"
   },
   "outputs": [],
   "source": [
    "# TO BE COMPLETED\n",
    "\n",
    "\n",
    "\n"
   ]
  },
  {
   "cell_type": "code",
   "execution_count": null,
   "metadata": {
    "id": "N9o-7udJmahe"
   },
   "outputs": [],
   "source": [
    "'''\n",
    "PROVIDE YOUR ANSWER BELOW\n",
    "\n",
    "\n",
    "\n",
    "\n",
    "\n",
    "\n",
    "'''"
   ]
  },
  {
   "cell_type": "markdown",
   "metadata": {
    "id": "ecKaJIpQe9UV"
   },
   "source": [
    "## Part 4. Evaluation [10 pt]\n",
    "\n",
    "### Part (i) [3pt RESULT]\n",
    "\n",
    "Report the final test accuracy of your best BERT-based model. Then summarize in a pandas dataframe the accuracy obtained on the training, validation, and test data of your best models from Part A and B.\n",
    "\n",
    "How does the BERT model compare to the approach in part A using only LSTM? Are the results what you expected? Explain.\n",
    "\n"
   ]
  },
  {
   "cell_type": "code",
   "execution_count": null,
   "metadata": {
    "id": "AoweZb8i2cRb"
   },
   "outputs": [],
   "source": [
    "# TO BE COMPLETED\n",
    "\n",
    "\n",
    "\n"
   ]
  },
  {
   "cell_type": "code",
   "execution_count": null,
   "metadata": {
    "id": "1RIZ3JWzm2a_"
   },
   "outputs": [],
   "source": [
    "'''\n",
    "PROVIDE YOUR ANSWER BELOW\n",
    "\n",
    "\n",
    "\n",
    "\n",
    "\n",
    "\n",
    "'''"
   ]
  },
  {
   "cell_type": "markdown",
   "metadata": {
    "id": "ybdyEKx5Ww4F"
   },
   "source": [
    "### Part (ii) [2pt RESULT]\n",
    "\n",
    "Report the false positive rate and false negative rate of your model across the test set. Then summarize in a pandas dataframe the false postive and false negative rate of your model obtained on the training, validation, and test data of your best models from Part A and B.\n",
    "\n",
    "How does the BERT model compare to the approach in part A using only LSTM? Are the results what you expected? Explain."
   ]
  },
  {
   "cell_type": "code",
   "execution_count": null,
   "metadata": {
    "id": "vuxLCHhFWw4F"
   },
   "outputs": [],
   "source": [
    "# TO BE COMPLETED\n",
    "\n",
    "\n"
   ]
  },
  {
   "cell_type": "code",
   "execution_count": null,
   "metadata": {
    "id": "vIu8lB9jm3X_"
   },
   "outputs": [],
   "source": [
    "'''\n",
    "PROVIDE YOUR ANSWER BELOW\n",
    "\n",
    "\n",
    "\n",
    "\n",
    "\n",
    "\n",
    "'''"
   ]
  },
  {
   "cell_type": "markdown",
   "metadata": {
    "id": "646WjsAwWw4F"
   },
   "source": [
    "### Part (iii) [3pt DISCUSSION]\n",
    "Examine some of the misclassified reviews from you best BERT and LSTM models to better identify the differences in the models. Try to provide some justification for any differences in the misclassifications observed in the models.\n",
    "\n",
    "Is there any part of the review that you could modify to make the classifications correct? Try to make small changes to the review to see if you can make the model make the correct classification while keeping the review as close to the original as possible."
   ]
  },
  {
   "cell_type": "code",
   "execution_count": null,
   "metadata": {
    "id": "0OvvnW8OWw4G"
   },
   "outputs": [],
   "source": [
    "# TO BE COMPLETED\n",
    "\n",
    "\n",
    "\n"
   ]
  },
  {
   "cell_type": "code",
   "execution_count": null,
   "metadata": {
    "id": "7TWkK5Sgm4YM"
   },
   "outputs": [],
   "source": [
    "'''\n",
    "PROVIDE YOUR ANSWER BELOW\n",
    "\n",
    "\n",
    "\n",
    "\n",
    "\n",
    "\n",
    "'''"
   ]
  },
  {
   "cell_type": "markdown",
   "metadata": {
    "id": "H4FlSj_Mn2yY"
   },
   "source": [
    "### Part (iv) [2pt DISCUSSION]\n",
    "Find 5 samples of positive and negative reviews on IMDB that were posted recently and evaluate them with your best BERT and LSTM models from parts A and B. How well do they perform?"
   ]
  },
  {
   "cell_type": "code",
   "execution_count": null,
   "metadata": {
    "id": "y3DCyMW_n05f"
   },
   "outputs": [],
   "source": [
    "# TO BE COMPLETED\n",
    "\n",
    "\n",
    "\n"
   ]
  },
  {
   "cell_type": "code",
   "execution_count": null,
   "metadata": {
    "id": "0kLt9a5Xm5cO"
   },
   "outputs": [],
   "source": [
    "'''\n",
    "PROVIDE YOUR ANSWER BELOW\n",
    "\n",
    "\n",
    "\n",
    "\n",
    "\n",
    "\n",
    "'''"
   ]
  },
  {
   "cell_type": "markdown",
   "metadata": {
    "id": "ARDyU7N2mWFh"
   },
   "source": [
    "# PART C (Optional) - Bonus Challenge!\n",
    "\n",
    "This is an optional exercise for those that finish the assignment early and would like to take on a challenging task.\n",
    "\n",
    "In part A we constructed and trained an LSTM model to identify the sentiment in movie reviews. In Part B we used the embeddings of a BERT model pretrained on a large corpus of text to demonstrate how transfer learning can be used to improve our movie sentiment model. The BERT model is one of many language models that we could have used to implement transfer learning.\n",
    "\n",
    "For this bonus challenge you are asked to implement a generative character-level LSTM model to produce IMDB movie reviews. Once the model is sufficiently trained you can then use its hidden states as the embedding for training a movie sentiment model. Construct your new movie sentiment analysis model and compare the performance against the model from part A and B.\n",
    "\n",
    "There are many variants of a generative LSTM model that you can consider. As a starting point you can use the generative LSTM sample code provided in the lecture notes. Specifically, the one used to generate Shakeaspeare. More advanced versions of a generative LSTM can be found in the Universal Language Model Fine-turing for Text Classification (ULMfit) paper (https://arxiv.org/abs/1801.06146).\n",
    "\n",
    "Tasks:\n",
    "\n",
    "1. Create a generative character-level LSTM model trained to create IMDB reviews\n",
    "2. Create a classifier using the embeddings from the generative LSTM model (from step 1) to identify positive and negative reviews.\n",
    "3. Compare the performance of the model with the results in parts A and B of the assignment.\n",
    "4. Upgrade the generative LSTM model using the techniques listed in the ULMfit paper (e.g., bi-directional LSTM, pretraining with wikipedia text and fine-tuning on IMDBT reviews, etc.).\n",
    "\n",
    "Bonus marks will be provided based on the number of steps completed. Summarize below your results and anything intersting you learned from the steps that you completed. Bonus marks cannot be accumulated beyond a maximum assignment grade.\n"
   ]
  },
  {
   "cell_type": "code",
   "execution_count": null,
   "metadata": {
    "id": "9eUKPfCumdpW"
   },
   "outputs": [],
   "source": [
    "# TO BE COMPLETED\n",
    "\n",
    "\n"
   ]
  },
  {
   "cell_type": "code",
   "execution_count": null,
   "metadata": {
    "id": "ryS5uR0NB8pE"
   },
   "outputs": [],
   "source": [
    "'''\n",
    "PROVIDE YOUR ANSWER BELOW\n",
    "\n",
    "\n",
    "\n",
    "\n",
    "\n",
    "\n",
    "'''"
   ]
  },
  {
   "cell_type": "markdown",
   "metadata": {
    "id": "FYwI4RmFS2RB"
   },
   "source": [
    "### Saving to HTML\n",
    "Detailed instructions for saving to HTML can be found <a href=\"https://stackoverflow.com/questions/53460051/convert-ipynb-notebook-to-html-in-google-colab/64487858#64487858\">here</a>. Provided below are a summary of the instructions:\n",
    "\n",
    "(1) download your ipynb file by clicking on File->Download.ipynb\n",
    "\n",
    "(2) reupload your file to the temporary Google Colab storage (you can access the temporary storage from the tab to the left)\n",
    "\n",
    "(3) run the following:"
   ]
  },
  {
   "cell_type": "code",
   "execution_count": null,
   "metadata": {
    "colab": {
     "base_uri": "https://localhost:8080/"
    },
    "id": "2TrsqdNgS5ex",
    "outputId": "9e08e659-76b4-4d8f-a5f3-c49a3cbe2096"
   },
   "outputs": [],
   "source": [
    "#!pip install nbconvert\n",
    "\n",
    "%%shell\n",
    "jupyter nbconvert --to html /content/A4.ipynb\n"
   ]
  },
  {
   "cell_type": "markdown",
   "metadata": {
    "id": "nuXhlFlPTY7F"
   },
   "source": [
    "(4) the html file will be available for download in the temporary Google Colab storage\n",
    "\n",
    "(5) review the html file and make sure all the results are visible before submitting your assignment to Quercus"
   ]
  },
  {
   "cell_type": "markdown",
   "metadata": {
    "id": "Oo8xLbm4mggI"
   },
   "source": [
    "# Assignment Grading Rubric\n",
    "The grading of the assignment will be based on the following categories:\n",
    "\n",
    "(1) **10 Pt - EXPLORATORY QUESTIONS** These are basic questions that in most cases can be answered without requiring a fully working and trained neural network model. For example, data loading, processing and visualization, summary statistics, data exploration, model and training setup, etc.\n",
    "\n",
    "(2) **10 Pt - MODEL** Student has successfully implemented all the required neural network models and has demonstrated successful training of the model without any errors.\n",
    "\n",
    "(3) **10 Pt - RESULT** Students are evaluated based on the results achieved in comparison to the expected results of the assignment.\n",
    "\n",
    "(4) **10 Pt - DISCUSSION QUESTIONS** Student demonstrated understanding beyond the basic exploratory questions, can answer some of the more challenging questions, and provide arguments for their model selection decisions.\n",
    "\n",
    "(5) **10 Pt - COMMUNICATION** Student has provided a quality submission that is easy to read without too many unnecessary output statements that distract the reading of the document. The code has been well commented and all the answers are communicated clearly and concisely.\n",
    "\n",
    "(6) **10 Pt - BONUS** Student has completed the assignment and has taken on the challenging bonus tasks listed in PART C. The student has demonstrated a good understanding of all aspects of the assignment and has exceeded expectations for the assignment.\n",
    "\n",
    "\n",
    "\n",
    "**TOTAL GRADE = _____ of 50 Pts**"
   ]
  }
 ],
 "metadata": {
  "colab": {
   "provenance": []
  },
  "kernelspec": {
   "display_name": "Python 3 (ipykernel)",
   "language": "python",
   "name": "python3"
  },
  "language_info": {
   "codemirror_mode": {
    "name": "ipython",
    "version": 3
   },
   "file_extension": ".py",
   "mimetype": "text/x-python",
   "name": "python",
   "nbconvert_exporter": "python",
   "pygments_lexer": "ipython3",
   "version": "3.9.18"
  }
 },
 "nbformat": 4,
 "nbformat_minor": 4
}
